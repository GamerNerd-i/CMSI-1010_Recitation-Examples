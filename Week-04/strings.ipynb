{
 "cells": [
  {
   "cell_type": "markdown",
   "metadata": {},
   "source": [
    "<a href=\"https://colab.research.google.com/github/GamerNerd-i/CMSI-1010_Recitation-Examples/blob/main/Week%204/strings.ipynb\" target=\"_parent\"><img src=\"https://colab.research.google.com/assets/colab-badge.svg\" alt=\"Open In Colab\"/></a>"
   ]
  },
  {
   "cell_type": "markdown",
   "metadata": {},
   "source": [
    "# Strings\n",
    "By now, you've already used strings quite a lot, but for completeness, we'll redefine them here.\n",
    "\n",
    "> Strings are a data type that represent text.\n",
    "\n",
    "That's pretty much it, but that's not all you should know about them. "
   ]
  },
  {
   "cell_type": "markdown",
   "metadata": {},
   "source": [
    "## String Operations\n",
    "### Concatenation\n",
    "Even if you haven't been calling it concatenation, you've already used this string technique.\n",
    "\n",
    "> **Concatenation** means putting multiple strings together into longer strings.\n",
    "\n",
    "> Strings are concatenated by using the `+` operator.\n",
    "\n",
    "Simple as that."
   ]
  },
  {
   "cell_type": "code",
   "execution_count": null,
   "metadata": {},
   "outputs": [],
   "source": [
    "name = \"Jonathan\"\n",
    "greeting = \"Hello \" + name + \"!\"\n",
    "\n",
    "print(greeting)"
   ]
  },
  {
   "cell_type": "markdown",
   "metadata": {},
   "source": [
    "Okay, that's not ALL you need to know. The crucial thing about concatenation is that it lets us display information of other data types within more informative strings without losing the previous information.\n",
    "\n",
    "For example, when you print something like a number without concatenation, you'd just get a number. This isn't a problem with one number, but you're unlikely to have one number. With concatenation, it's easy to label your numbers so you know exactly what they are."
   ]
  },
  {
   "cell_type": "code",
   "execution_count": null,
   "metadata": {},
   "outputs": [],
   "source": [
    "def get_stats(numbers):\n",
    "    # Don't worry about some of the stuff used in this function for now.\n",
    "    # Just know that it gives back the mean, median, maximum, and minimum values of a list of numbers.\n",
    "    \n",
    "    list_size = len(numbers)\n",
    "    \n",
    "    mean = sum(numbers) / list_size\n",
    "    median = sorted(numbers)[list_size // 2]\n",
    "    max = max(numbers)\n",
    "    min = min(numbers)\n",
    "    \n",
    "    # You should, however, remember that functions can have multiple returns.\n",
    "    return mean, median, max, min\n",
    "\n",
    "random_numbers = [6, 20, 10, 4, 9]\n",
    "\n",
    "# With this, we just see the numbers printed.\n",
    "# That's okay if we know exactly the order in which the function gives us the values,\n",
    "## but we won't always, or we may forget while looking at the output\n",
    "print(get_stats(random_numbers))\n",
    "print()\n",
    "\n",
    "# Let's format these numbers into something nice and readable.\n",
    "random_mean,random_median, random_max, random_min = get_stats(random_numbers)\n",
    "\n",
    "print(\"Mean of \" + str(random_numbers) + \": \" + str(random_mean))\n",
    "print(\"Median of \" + str(random_numbers) + \": \" + str(random_median))\n",
    "print(\"Maximum of \" + str(random_numbers) + \": \" + str(random_max))\n",
    "print(\"Minimum of \" + str(random_numbers) + \": \" + str(random_min))"
   ]
  },
  {
   "cell_type": "markdown",
   "metadata": {},
   "source": [
    "One thing to keep in mind with concatenation, which you have also probably discovered, but bears repeating.\n",
    "\n",
    "> Only strings can be concatenated to other strings.\n",
    "\n",
    "Information of other data types, such as `random_numbers` (list) and `random_mean`, `random_median`, `random_max`, and `random_min` (numbers), must first be casted to a string by wrapping them in `str()`."
   ]
  },
  {
   "cell_type": "markdown",
   "metadata": {},
   "source": [
    "### Multiplication\n",
    "You're less likely to have used multiplication, but it's also pretty self-explanatory.\n",
    "\n",
    "> String multiplication duplicates the string a specified number of times and concatenates them together.\n",
    "\n",
    "> Strings are multiplied with the `*` operator."
   ]
  },
  {
   "cell_type": "code",
   "execution_count": null,
   "metadata": {},
   "outputs": [],
   "source": [
    "greeting = \"Hello! \"\n",
    "\n",
    "print(greeting * 5)\n",
    "# It also works the other way, just like numerical multiplication.\n",
    "print(5 * greeting)"
   ]
  },
  {
   "cell_type": "markdown",
   "metadata": {},
   "source": [
    "Note that, of course, you can only a multiply a string and an integer. That means no decimals. Negatives are *technically* okay, but they give you an empty string output so it's not really helpful."
   ]
  },
  {
   "cell_type": "code",
   "execution_count": null,
   "metadata": {},
   "outputs": [],
   "source": [
    "farewell = \"I'm gone! \"\n",
    "print(farewell * -2)"
   ]
  },
  {
   "cell_type": "markdown",
   "metadata": {},
   "source": [
    "## Substrings, Indexing, and Slicing\n",
    "### Substrings\n",
    "> A **substring** is a specific segment of a larger string.\n",
    "\n",
    "For example, if we have a string `\"I like trains\"`, each of the words `\"I\"`, `\"like\"`, and `\"trains\"` are valid substrings. `\"I like\"` and `\"like trains\"` are also valid substrings. `\"ke tr\"`, though nonsensical would also be a valid substring. `\"I trains\"` is *not* a valid substring because, even though all the characters exist in the original string, they never appear in the string *in that order*.\n",
    "\n",
    "To quickly test whether one string is a substring of another, you can use the `in` keyword. The entire expression will become a boolean."
   ]
  },
  {
   "cell_type": "code",
   "execution_count": null,
   "metadata": {},
   "outputs": [],
   "source": [
    "word = \"macuahuitl\" # If you're curious, this is a Mesoamerican greatsword.\n",
    "\n",
    "print(\"mac\" in word)\n",
    "print(\"hui\" in word)\n",
    "print(\"i\" in word)\n",
    "print(\"\" in word) # This is true! The empty string exists in every string.\n",
    "print(\"not in the word\" in word)"
   ]
  },
  {
   "cell_type": "markdown",
   "metadata": {},
   "source": [
    "In informal language, if we're extracting a substring we might say that we are *substringing* it from the original string. For example, I might say that I can \"substring `mac` from `macuahuitl`\". **Keep in mind that this is informal language and may not be understood by everyone.**"
   ]
  },
  {
   "cell_type": "markdown",
   "metadata": {},
   "source": [
    "### Indexing and Slicing\n",
    "Indexing and slicing are both techniques for getting a substring from a larger string.\n",
    "\n",
    "> **Indexing** obtains a single character from a string, based on its position.\n",
    "\n",
    "> **Slicing** obtains a substring of any length from a string, including empty or single-character strings.\n",
    "\n",
    "Why would we want to do this? Maybe you're extracting someone's first and last names from their full name. Or maybe you have a secret code where you have to piece together certain words from a nonsensical sentence.\n",
    "\n",
    "For a real-world example, your DNA is encoded by 4 bases represented by A, C, G, and T, so DNA sequences are represented by long strings of just these 4 letters! With indexing and slicing, you can identify which combination occurs at different positions.\n",
    "\n",
    "We're getting ahead of ourselves, though.\n",
    "\n",
    "> Both indexing and slicing are accomplished by using square brackets on a string: `str_name[index]`.\n",
    "> * **Indexing** only requires a single `index`.\n",
    "> * **Slicing** requires two indices, separated by `:`, to mark the beginning and end of the substring: `str_name[begin:end]`.\n",
    "\n",
    "Oh, and one more thing about ALL Python indices:\n",
    "\n",
    "> Python uses **zero-indexing**, meaning that indices **start at 0**. The first item in a sequence is at index 0, the second is at index 1, etc. In general, *the `n`th item in a sequence can be found at index `n-1`*.\n",
    "\n",
    "Let's see it in action."
   ]
  },
  {
   "cell_type": "code",
   "execution_count": null,
   "metadata": {},
   "outputs": [],
   "source": [
    "amazing = \"supercalifragilisticexpialidocious\"\n",
    "# Wow, writing that out IS something quite atrocious...\n",
    "\n",
    "print(\"What's the letter at index 20 of \" + amazing + \"?\")\n",
    "print(amazing[20] + \"\\n\")\n",
    "\n",
    "print(\"What is the slice at indices 13-20?\")\n",
    "print(amazing[13:20])"
   ]
  },
  {
   "cell_type": "markdown",
   "metadata": {},
   "source": [
    "Notice that the character `amazing[20]` is excluded from the substring `amazing[13:20]`. The indices `begin:end` for slicing follow the same rules as `range()`. That is, the substring will *include `begin`* and *exclude `end`*. \n",
    "\n",
    "> If you need a refresher, the `range()` function was covered in [this notebook about loops](https://github.com/GamerNerd-i/CMSI-1010_Recitation-Examples/blob/main/Week%203/loops.ipynb).\n",
    "\n",
    "#### Negative Indices\n",
    "> Negative numbers are valid indices for slicing and indexing, and will count from the end of the string.\n",
    "\n",
    "The index -1 represents the last letter, -2 is the second-to-last, and so on."
   ]
  },
  {
   "cell_type": "code",
   "execution_count": null,
   "metadata": {},
   "outputs": [],
   "source": [
    "print(\"What is the 5th-to-last letter?\")\n",
    "print(amazing[-5] + \"\\n\")\n",
    "\n",
    "print(\"What do you get if you chop off the first and last 4 letters?\")\n",
    "print(amazing[4:-4])"
   ]
  },
  {
   "cell_type": "markdown",
   "metadata": {},
   "source": [
    "Note that, because of zero-indexing, *the `n`th-to-last item is actually at index `-n`*. Don't get your positive and negative indexing mixed up!"
   ]
  },
  {
   "cell_type": "markdown",
   "metadata": {},
   "source": [
    "#### Slicing Defaults\n",
    "Slicing has an additional shortcut to be aware of.\n",
    "\n",
    "> When slicing a string, leave either side of `:` empty will extend the slice to the start or end of the string.\n",
    "\n",
    "Examples follow. Again, note that these still follow the end-exclusion rule."
   ]
  },
  {
   "cell_type": "code",
   "execution_count": null,
   "metadata": {},
   "outputs": [],
   "source": [
    "print(\"What are the last 5 letters?\")\n",
    "print(amazing[-5:] + \"\\n\")\n",
    "\n",
    "print(\"What are the first 8 letters?\")\n",
    "print(amazing[:8] + \"\\n\")\n",
    "\n",
    "# Don't forget that indices are just ints, so we can use math expressions to dynamically fill them if necessary.\n",
    "print(\"What 6 letters are in the middle?\")\n",
    "print(amazing[(len(amazing) // 2) - 3 : (len(amazing) // 2) + 3])"
   ]
  },
  {
   "cell_type": "markdown",
   "metadata": {},
   "source": [
    "**Bonus Question!** What does `amazing[:]` give us?\n",
    "\n",
    "<details>\n",
    "    <summary>Answer</summary>\n",
    "\n",
    "The substring extends to both the beginning and end of the target string. In other words, we just get the whole string!\n",
    "\n",
    "</details>"
   ]
  },
  {
   "cell_type": "markdown",
   "metadata": {},
   "source": [
    "## String Functions\n",
    "Many functions operate on string types. They're helpful for a variety of situations, so it's important to know what's in your toolbox, even if you don't use all of them often."
   ]
  },
  {
   "cell_type": "markdown",
   "metadata": {},
   "source": [
    "### String Length\n",
    "> The `len()` function returns the length of a string as an integer.\n",
    "\n",
    "The length of a string is how many characters it contains. For example, a string full of spaces, tabs (`\\t`), or newline characters (`\\n`) might not seem to have any text, but it still has a length; you just can't see the characters.\n",
    "\n",
    "`len()` is arguably second-most used string function in all of Python (second only to `print()`). There are a lot of cases when we're concerned with the length of string. For example, you may have noticed that I used it in the example above for slicing."
   ]
  },
  {
   "cell_type": "code",
   "execution_count": null,
   "metadata": {},
   "outputs": [],
   "source": [
    "print(\"What 6 letters are in the middle?\")\n",
    "print(amazing[(len(amazing) // 2) - 3 : (len(amazing) // 2) + 3])"
   ]
  },
  {
   "cell_type": "markdown",
   "metadata": {},
   "source": [
    "Given the message and what you now know about `len()`, can you explain *why* this expression gives us the 6 middle letters?\n",
    "\n",
    "Remember that `//` means integer division: after dividing, it drops any decimal that exists.\n",
    "\n",
    "<details>\n",
    "    <summary>Answer</summary>\n",
    "\n",
    "Halving the length of the string (`len(amazing) // 2`) gives us the index of the character in the very middle. From there, we subtract 3 from the index to include the 3 previous letters, and add 3 to include the 3 following letters, for a total of 6 letters.\n",
    "\n",
    "</details>"
   ]
  },
  {
   "cell_type": "markdown",
   "metadata": {},
   "source": [
    "### Case-Changing\n",
    "> The `string.upper()` and `string.lower()` methods let you change the case of letters in a string.\n",
    "\n",
    "Pretty self-explanatory, except for one thing: these are *methods*, not functions. We'll go over what exactly this entails later, but for now, it means that you need to call it *on a string* instead of passing the string as a parameter."
   ]
  },
  {
   "cell_type": "code",
   "execution_count": null,
   "metadata": {},
   "outputs": [],
   "source": [
    "word = \"WaCKy cApS\"\n",
    "\n",
    "print(word.upper())\n",
    "print(word.lower())\n",
    "print()\n",
    "\n",
    "# A variable is also not necessary to use these, but it looks a bit strange.\n",
    "print(\"lowercase\".upper())\n",
    "print(\"UPPERCASE\".lower())"
   ]
  },
  {
   "cell_type": "markdown",
   "metadata": {},
   "source": [
    "You would mainly use this for matching text. Running input text through `string.upper()` or `string.lower()` makes sure that the matching isn't thrown off by cases, for example if someone mistypes their name."
   ]
  },
  {
   "cell_type": "code",
   "execution_count": null,
   "metadata": {},
   "outputs": [],
   "source": [
    "miscapitalized = \"JOhn APpleseed\"\n",
    "real_input = \"John Appleseed\"\n",
    "\n",
    "print(miscapitalized == real_input)\n",
    "print(miscapitalized.lower() == real_input.lower())"
   ]
  },
  {
   "cell_type": "markdown",
   "metadata": {},
   "source": [
    "It's important to note that these methods return *brand new* strings with the given changes. The original strings are untouched."
   ]
  },
  {
   "cell_type": "markdown",
   "metadata": {},
   "source": [
    "### Split and Join\n",
    "Many programs require strings and lists to change between types. In the most common case, a string containing a sentence will be changed to a list of words. Or we might build a list of words and then change the whole list into one string for output.\n",
    "\n",
    "Either way, `string.split()` and `string.join()` enable these (mostly) seamless transformations.\n",
    "\n",
    "#### Split\n",
    "> The `string.split(sep)` method divides a string into a list of substrings, splitting each substring around `sep`.\n",
    "\n",
    "`sep` (short for \"separator\") becomes the marker for when one substring ends and another begins. For example, it defaults to a space, so that we can split sentences into individual words."
   ]
  },
  {
   "cell_type": "code",
   "execution_count": null,
   "metadata": {},
   "outputs": [],
   "source": [
    "# This is an epic-sounding alternative to \"The quick brown fox jumps over the lazy dog.\"\n",
    "# It's even shorter by 6 letters!\n",
    "invocation = \"Sphinx of black quartz, judge my vow.\"\n",
    "\n",
    "# As stated, splitting on nothing makes Python assume you want to split on spaces.\n",
    "word_list = invocation.split()\n",
    "print(word_list)"
   ]
  },
  {
   "cell_type": "markdown",
   "metadata": {},
   "source": [
    "Any string is able to be a \"splitter.\""
   ]
  },
  {
   "cell_type": "code",
   "execution_count": null,
   "metadata": {},
   "outputs": [],
   "source": [
    "amazing = \"supercalifragilisticexpialidocious\"\n",
    "\n",
    "print(amazing.split(\"a\"))\n",
    "print(amazing.split(\"li\"))"
   ]
  },
  {
   "cell_type": "markdown",
   "metadata": {},
   "source": [
    "Notice that the splitter is entirely removed from the output. Also notice that, like `upper()` and `lower()`, this is a method and not a function, so it needs to be called *on a string*."
   ]
  },
  {
   "cell_type": "markdown",
   "metadata": {},
   "source": [
    "#### Join\n",
    "> The `string.join(list)` method unifies a list of substrings into a single string, connecting them with `string`.\n",
    "\n",
    "`string` here is the equivalent of `sep` above: instead of removing `sep` and creating substrings, we add `string` between each item in `list` and concatenate them to a single string.\n",
    "\n",
    "Like before, any string can be a \"joiner.\""
   ]
  },
  {
   "cell_type": "code",
   "execution_count": null,
   "metadata": {},
   "outputs": [],
   "source": [
    "motivation = [\"Just\", \"Do\", \"It\"]\n",
    "\n",
    "print(\"! \".join(motivation))\n",
    "print(\"\".join(motivation))"
   ]
  },
  {
   "cell_type": "markdown",
   "metadata": {},
   "source": [
    "Even though lists can technically contain multiple data types, `join` fails if it encounters anything that's not a string."
   ]
  },
  {
   "cell_type": "code",
   "execution_count": null,
   "metadata": {},
   "outputs": [],
   "source": [
    "fail = [\"what\", \"is\", 1, \"+\", 1]\n",
    "print(\" \".join(fail))"
   ]
  },
  {
   "cell_type": "markdown",
   "metadata": {},
   "source": [
    "Once again, notice that this is a method that needs to be called on a string, but receives a list as input."
   ]
  },
  {
   "cell_type": "markdown",
   "metadata": {},
   "source": [
    "### Find and Replace\n",
    "No text editor would be complete without find and replace functionality.\n",
    "\n",
    "#### Find\n",
    "> The `string.find(sub)` method returns the index of the first instance of `sub` in `string`. If `sub` doesn't exist in `string`, it returns -1.\n",
    "\n",
    "Earlier, we used `in` to check if a substring exists in a string at all. `string.find()` points us to where exactly in the string the substring can be found. This could be useful if we want to find where a certain section of text begins or ends, so that we can properly extract the remaining part that we want."
   ]
  },
  {
   "cell_type": "code",
   "execution_count": null,
   "metadata": {},
   "outputs": [],
   "source": [
    "invocation = \"Sphinx of black quartz, judge my vow.\"\n",
    "\n",
    "command_index = invocation.find(\"judge\")\n",
    "print(invocation[command_index:])\n",
    "\n",
    "print(invocation.find(\"dummy\"))"
   ]
  },
  {
   "cell_type": "markdown",
   "metadata": {},
   "source": [
    "#### Replace\n",
    "> The `string.replace(old, new)` method returns a new string that replaces every instance of `old` with an instance of `new` in `string`.\n",
    "\n",
    "Note that this replaces **all** occurrences of `old`. If you want to only replace one instance, it'll take some extra work on your end. Otherwise, this is good for altering many parts of a long string at the same time."
   ]
  },
  {
   "cell_type": "code",
   "execution_count": null,
   "metadata": {},
   "outputs": [],
   "source": [
    "amazing = \"supercalifragilisticexpialidocious\"\n",
    "\n",
    "print(amazing.replace(\"i\", \"oooooooo\"))"
   ]
  },
  {
   "cell_type": "markdown",
   "metadata": {},
   "source": [
    "Like `upper()` and `lower()`, the new string is a copy of the original. The original string is unchanged."
   ]
  }
 ],
 "metadata": {
  "kernelspec": {
   "display_name": "env",
   "language": "python",
   "name": "python3"
  },
  "language_info": {
   "codemirror_mode": {
    "name": "ipython",
    "version": 3
   },
   "file_extension": ".py",
   "mimetype": "text/x-python",
   "name": "python",
   "nbconvert_exporter": "python",
   "pygments_lexer": "ipython3",
   "version": "3.12.0"
  }
 },
 "nbformat": 4,
 "nbformat_minor": 2
}
