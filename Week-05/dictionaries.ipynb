{
 "cells": [
  {
   "cell_type": "markdown",
   "metadata": {},
   "source": [
    "<a href=\"https://colab.research.google.com/github/GamerNerd-i/CMSI-1010_Recitation-Examples/blob/main/Week%205/dictionaries.ipynb\" target=\"_parent\"><img src=\"https://colab.research.google.com/assets/colab-badge.svg\" alt=\"Open In Colab\"/></a>"
   ]
  },
  {
   "cell_type": "markdown",
   "metadata": {},
   "source": [
    "> In this notebook, the terms \"data structure\" and \"collection\" refer to the same thing. Check out the [data structure intro notebook](https://colab.research.google.com/github/GamerNerd-i/CMSI-1010_Recitation-Examples/blob/main/Week%205/data_structures.ipynb) for more details!"
   ]
  },
  {
   "cell_type": "markdown",
   "metadata": {},
   "source": [
    "# Dictionaries\n",
    "Dictionaries are a more complex collection than lists or tuples in that they have potential to be more descriptive than either. They also serve a different use case.\n",
    "\n",
    "> A **dictionary** is a mutable data structure that stores items in key-value pairs.\n",
    "\n",
    "Python's dictionaries are like real dictionaries in that you look up a word (the key) and find its entry (the value), which might include definitions, pronunciations, and other informatin. The word and its entry make up a **key-value pair**. Keep this in mind! If you confuse the key and value, you're going to be in some serious trouble, especially because most dictionary operations rely on the **key** instead of the **value**."
   ]
  },
  {
   "cell_type": "markdown",
   "metadata": {},
   "source": [
    "## Syntax\n",
    "### Creating Dictioonaries\n",
    "> Dictionaries are created with curly braces (`{}`). Each key-value pair `key:value` is separated by commas (`,`).\n",
    "\n",
    "Like lists, newlines are okay as well, as long as the commas are still there!\n",
    "\n",
    "The difference between lists/tuples and dictionaries is, of course, that each item contains *two inputs*: the `key` and the `value`."
   ]
  },
  {
   "cell_type": "code",
   "execution_count": null,
   "metadata": {},
   "outputs": [],
   "source": [
    "empty_dict = {}\n",
    "score_dict = {\"josh\": 100, \"peter\": 52, \"alice\": 200}\n",
    "\n",
    "# Newlines are good and especially helpful if storing other collections!\n",
    "collection_dict = {\n",
    "    \"list\": [1,2,3],\n",
    "    \"tuple\": (True, False),\n",
    "    \"dict\": {\"this\": 4, \"is\": 2, \"a\": 1, \"dictionary\": 10}\n",
    "}"
   ]
  },
  {
   "cell_type": "markdown",
   "metadata": {},
   "source": [
    "Values can be anything. Keys can be anything **except** collections. The types don't even have to match!"
   ]
  },
  {
   "cell_type": "code",
   "execution_count": 1,
   "metadata": {},
   "outputs": [],
   "source": [
    "weird_dict = {\n",
    "    \"hello\": 100,\n",
    "    10: False,\n",
    "    True: [\"this\", \"is\", \"weird\"]\n",
    "}"
   ]
  },
  {
   "cell_type": "markdown",
   "metadata": {},
   "source": [
    "Each word has one and only one entry in a physical dictionary, even though they might have multiple definitions. This applies to Python's dictionaries, too.\n",
    "\n",
    "> A dictionary **cannot** have duplicate keys.\n",
    "\n",
    "Putting duplicates of a key into the same dictionary definition won't throw an error, but the dictionary will only use the value of the last instance of that key."
   ]
  },
  {
   "cell_type": "code",
   "execution_count": null,
   "metadata": {},
   "outputs": [],
   "source": [
    "dupe_dict = {\"hello\": 2, \"hello\": 20, \"hello\": 200}\n",
    "print(dupe_dict)"
   ]
  },
  {
   "cell_type": "markdown",
   "metadata": {},
   "source": [
    "Like lists, curly braces will create a dictionary any time, although this functionality is less helpful for dictionaries compared to lists."
   ]
  },
  {
   "cell_type": "code",
   "execution_count": null,
   "metadata": {},
   "outputs": [],
   "source": [
    "for i in {\"this\": 4, \"is\": 2, \"a\": 1, \"dictionary\": 10}:\n",
    "    print(i)"
   ]
  },
  {
   "cell_type": "markdown",
   "metadata": {},
   "source": [
    "Be sure to run this cell! It showcases something interesting about dictionaries and loops that we'll expand upon later."
   ]
  },
  {
   "cell_type": "markdown",
   "metadata": {},
   "source": [
    "### Accessing and Modifying Items\n",
    "> Individual dictionary items can be accessed with `dict_name[key]`.\n",
    "\n",
    "You should be getting déjà vu again, although this time it's not exactly the same. Dictionaries don't have indices, they have keys! Additionally, there's no way to slice a dictionary; if you think about it, it wouldn't make sense since the keys can be almost anything."
   ]
  },
  {
   "cell_type": "code",
   "execution_count": null,
   "metadata": {},
   "outputs": [],
   "source": [
    "score_dict = {\"josh\": 100, \"peter\": 52, \"alice\": 200}\n",
    "collection_dict = {\n",
    "    \"list\": [1,2,3],\n",
    "    \"tuple\": (True, False),\n",
    "    \"dict\": {\"this\": 4, \"is\": 2, \"a\": 1, \"dictionary\": 10}\n",
    "}\n",
    "\n",
    "# Access\n",
    "print(score_dict[\"josh\"])\n",
    "print(collection_dict[\"tuple\"])\n",
    "\n",
    "# If your values are collections, you can keep indexing to access items inside those.\n",
    "print(collection_dict[\"list\"][2])\n",
    "print(collection_dict[\"tuple\"][0])\n",
    "print(collection_dict[\"dict\"][\"dictionary\"])"
   ]
  },
  {
   "cell_type": "markdown",
   "metadata": {},
   "source": [
    "> Items in a dictionary can be added or modified with `dict_name[key] = new_value`.\n",
    "\n",
    "Notice that **adding and modifying items use the same syntax**, unlike strings where we needed a whole method to add new values."
   ]
  },
  {
   "cell_type": "code",
   "execution_count": null,
   "metadata": {},
   "outputs": [],
   "source": [
    "score_dict = {\"josh\": 100, \"peter\": 52, \"alice\": 200}\n",
    "\n",
    "score_dict[\"peter\"] = 75\n",
    "score_dict[\"natalia\"] = 94\n",
    "\n",
    "print(score_dict)"
   ]
  },
  {
   "cell_type": "markdown",
   "metadata": {},
   "source": [
    "### Membership Checking\n",
    "> You can check if a `key` exists in a `dict` by saying just that: `key in dict`.\n",
    "\n",
    "Notice that `in` checks for a **key**, not a value.\n",
    "\n",
    "Like before, an `in` operation returns a boolean: `True` if the item was found, and `False` if it wasn't."
   ]
  },
  {
   "cell_type": "code",
   "execution_count": null,
   "metadata": {},
   "outputs": [],
   "source": [
    "score_dict = {\"josh\": 100, \"peter\": 52, \"alice\": 200}\n",
    "\n",
    "print(\"josh\" in score_dict)\n",
    "print(\"natalia\" in score_dict)\n",
    "\n",
    "# 100 is a VALUE, not a key, so `in` doesn't find it.\n",
    "print(100 in score_dict)"
   ]
  },
  {
   "cell_type": "markdown",
   "metadata": {},
   "source": [
    "## Methods\n",
    "Dictionaries can already do more than lists at base, especially with being able to add items, but we still need to have some methods to complete our functionality."
   ]
  },
  {
   "cell_type": "markdown",
   "metadata": {},
   "source": [
    "### Removing Items\n",
    "> `dict.pop(key)` removes a `key` from `dict` and returns its `value`. If `key` doesn't exist, it throws an error.\n",
    "\n",
    "This is just like the list method of the same name, and is pretty straightforward. Like before, make sure you don't get your keys and values mixed up!"
   ]
  },
  {
   "cell_type": "code",
   "execution_count": null,
   "metadata": {},
   "outputs": [],
   "source": [
    "score_dict = {\"josh\": 100, \"peter\": 52, \"alice\": 200}\n",
    "\n",
    "removed = score_dict.pop(\"josh\")\n",
    "\n",
    "print(score_dict)\n",
    "print(removed)"
   ]
  },
  {
   "cell_type": "markdown",
   "metadata": {},
   "source": [
    "We can also wipe out a dictionary entirely.\n",
    "\n",
    "> `dict.clear()` will remove **all** items from a dictionary.\n",
    "\n",
    "It goes without saying to just be careful of this one. You might lose data that you need!"
   ]
  },
  {
   "cell_type": "code",
   "execution_count": null,
   "metadata": {},
   "outputs": [],
   "source": [
    "score_dict = {\"josh\": 100, \"peter\": 52, \"alice\": 200}\n",
    "score_dict.clear()\n",
    "print(score_dict)"
   ]
  },
  {
   "cell_type": "markdown",
   "metadata": {},
   "source": [
    "### Dictionary Length\n",
    "> `len(dict)` returns the number of key-value pairs in `dict`.\n",
    "\n",
    "`len(dict)` generally isn't helpful for dictionaries, since we can't use `range()` to loop through everything. The ability to get the size of a dictionary is always helpful, though, even if we don't always need it."
   ]
  },
  {
   "cell_type": "code",
   "execution_count": null,
   "metadata": {},
   "outputs": [],
   "source": [
    "collection_dict = {\n",
    "    \"list\": [1,2,3],\n",
    "    \"tuple\": (True, False),\n",
    "    \"dict\": {\"this\": 4, \"is\": 2, \"a\": 1, \"dictionary\": 10}\n",
    "}\n",
    "\n",
    "print(len(collection_dict))\n",
    "\n",
    "for item in collection_dict:\n",
    "    print(len(collection_dict[item]))"
   ]
  },
  {
   "cell_type": "markdown",
   "metadata": {},
   "source": [
    "## Dictionaries in Loops\n",
    "You might have a question: if dictionaries are key-value pairs, which of the pair is given in a `for` loop? If you noticed the loops in previous examples, you'd already have your answer:\n",
    "\n",
    "> When in placed a `for` loop, dictionaries pass their **keys** to the loop.\n",
    "\n",
    "Remember that you obtain the value by using the key. So in a loop, receiving the key means you have access to the entire key-value pair.\n",
    "\n",
    "This might not sound super useful, but here's a simple example where you would use both halves of the key-value pair."
   ]
  },
  {
   "cell_type": "code",
   "execution_count": null,
   "metadata": {},
   "outputs": [],
   "source": [
    "score_dict = {\"josh\": 100, \"peter\": 52, \"alice\": 200}\n",
    "\n",
    "# It's helpful to name your variables with what they actually are,\n",
    "## especially with dictionaries!\n",
    "for name in score_dict: \n",
    "    print(name + \" received a score of \" + str(score_dict[name]))"
   ]
  },
  {
   "cell_type": "markdown",
   "metadata": {},
   "source": [
    "Changes to individual items in a dictionary are valid inside a loop."
   ]
  },
  {
   "cell_type": "code",
   "execution_count": 10,
   "metadata": {},
   "outputs": [],
   "source": [
    "score_dict = {\"josh\": 100, \"peter\": 52, \"alice\": 200}\n",
    "\n",
    "for name in score_dict: \n",
    "    score_dict[name] = 120\n",
    "    \n",
    "print(score_dict)"
   ]
  },
  {
   "cell_type": "markdown",
   "metadata": {},
   "source": [
    "The exception is anything that alters the size of the dictionary. The following two code blocks will both crash: one inserts new items and the other removes one."
   ]
  },
  {
   "cell_type": "code",
   "execution_count": null,
   "metadata": {},
   "outputs": [],
   "source": [
    "score_dict = {\"josh\": 100, \"peter\": 52, \"alice\": 200}\n",
    "\n",
    "for name in score_dict: \n",
    "    score_dict[name + \"a\"] = 120"
   ]
  },
  {
   "cell_type": "code",
   "execution_count": null,
   "metadata": {},
   "outputs": [],
   "source": [
    "score_dict = {\"josh\": 100, \"peter\": 52, \"alice\": 200}\n",
    "\n",
    "for name in score_dict: \n",
    "    score_dict.pop(name)"
   ]
  },
  {
   "cell_type": "markdown",
   "metadata": {},
   "source": [
    "Keep these in mind as you start working with dictionaries."
   ]
  }
 ],
 "metadata": {
  "kernelspec": {
   "display_name": "env",
   "language": "python",
   "name": "python3"
  },
  "language_info": {
   "codemirror_mode": {
    "name": "ipython",
    "version": 3
   },
   "file_extension": ".py",
   "mimetype": "text/x-python",
   "name": "python",
   "nbconvert_exporter": "python",
   "pygments_lexer": "ipython3",
   "version": "3.12.0"
  }
 },
 "nbformat": 4,
 "nbformat_minor": 2
}
