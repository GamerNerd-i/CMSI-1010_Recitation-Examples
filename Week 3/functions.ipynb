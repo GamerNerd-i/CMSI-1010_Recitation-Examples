{
 "cells": [
  {
   "cell_type": "markdown",
   "metadata": {},
   "source": [
    "<a href=\"https://colab.research.google.com/github/GamerNerd-i/CMSI-1010_Recitation-Examples/blob/main/Week%203/functions.ipynb\" target=\"_parent\"><img src=\"https://colab.research.google.com/assets/colab-badge.svg\" alt=\"Open In Colab\"/></a>"
   ]
  },
  {
   "cell_type": "markdown",
   "metadata": {},
   "source": [
    "# Functions\n",
    "> **Functions** are blocks of code that you \"pre-write\" to use later.\n",
    "\n",
    "There are three main reasons why we use functions:\n",
    "\n",
    "1. **Readability:** If you're rewriting the same block of code multiple times,\n",
    "    the rest of your code might become difficult to read. By putting that \n",
    "    rewritten code in a function, you can condense it down to a simple phrase\n",
    "    like `calculate_mean`. It's much easier to read that than it would be to\n",
    "    identify the formula for a mean every time.\n",
    "    \n",
    "2. **Generalization:** Functions make code reusable. For example, if I write a\n",
    "    `calculate_mean` function, then I can use it whenever I need to, no matter\n",
    "    what inputs I have. Using the formula would require it to change every time.\n",
    "    \n",
    "3. **Maintenance:** With a function, all the necessary code is in one place, even\n",
    "    if it's used in multiple places in code. Without functions, if you had to debug\n",
    "    a block you used 5 times, you would need to make the same changes 5 times, rather\n",
    "    than just once. "
   ]
  },
  {
   "cell_type": "markdown",
   "metadata": {},
   "source": [
    "## Syntax\n",
    "Here is the most basic syntax for a function:"
   ]
  },
  {
   "cell_type": "code",
   "execution_count": null,
   "metadata": {},
   "outputs": [],
   "source": [
    "def function_name(parameter1, parameter2):\n",
    "    # The things you want the function to do go here!\n",
    "    print(parameter1 + \" is definitely a \" + parameter2)"
   ]
  },
  {
   "cell_type": "markdown",
   "metadata": {},
   "source": [
    "Note the most important parts:\n",
    "1. **`def` keyword:** This lets Python know that you're creating a function,\n",
    "    just like how `if` tells Python that you're writing a conditional.\n",
    "    \n",
    "2. **Function name:** Follows the same naming conventions as variables. Like variables,\n",
    "    (and people) you \"call\" functions to run by their name.\n",
    "    \n",
    "3. **Parameters:** Inside the parentheses are the names for your inputs. Think of it like\n",
    "    creating the variables you'll need to complete the task. Note that, when you call the\n",
    "    function, the inputs *do not* need to have the same name as the parameter names given\n",
    "    here; in fact, it's better if they don't so that you don't get confused as to which\n",
    "    is which. Technically you can have as many parameters as you want, but be reasonable."
   ]
  },
  {
   "cell_type": "markdown",
   "metadata": {},
   "source": [
    "## `return` Keyword\n",
    "\n",
    "> If you want to have an output for the function, use the `return` keyword.\n",
    "\n",
    "Be **very** careful about this point! Again:\n",
    "\n",
    "> If you want a function to output a value that the rest of the code can use, use the `return` keyword.\n",
    "\n",
    "`print` **does not** do the same thing as `return`. It's only useful to peek at what's\n",
    "happening inside the function.\n",
    "\n",
    "One more time: **use `return`**. Print shows you a value, but *does not* save it for later use."
   ]
  },
  {
   "cell_type": "code",
   "execution_count": null,
   "metadata": {},
   "outputs": [],
   "source": [
    "# Calculates the mean of a list of numbers.\n",
    "def calculate_mean(numbers):\n",
    "    return sum(numbers) / len(numbers)"
   ]
  },
  {
   "cell_type": "markdown",
   "metadata": {},
   "source": [
    "There's even a [whole other notebook](https://github.com/GamerNerd-i/CMSI-1010_Recitation-Examples/blob/main/Week%203/print_vs_return.ipynb) to showcase this crucial difference. Go look at it!"
   ]
  },
  {
   "cell_type": "markdown",
   "metadata": {},
   "source": [
    "## Calling Functions\n",
    "Just like variables, there's no reason to create a function if you don't use it.\n",
    "\n",
    "Functions are called using their name. In parentheses, you need to \"pass in\" values to fill the parameters defined above. Those values, like anything else, can be variable names, or also \"raw\" values."
   ]
  },
  {
   "cell_type": "code",
   "execution_count": null,
   "metadata": {},
   "outputs": [],
   "source": [
    "# TODO: If you haven't already, run the cell above that defines \"calculate_mean()\"\n",
    "\n",
    "random_list = [9, 5, 1, 4, 1, 9]\n",
    "\n",
    "# Values can be a variable name, like here...\n",
    "avg1 = calculate_mean(random_list)\n",
    "print(avg1)\n",
    "\n",
    "# Alternatively, just give it a direct value: no extra variables needed.\n",
    "avg2 = calculate_mean([8, 10, 7, 2, 7, 1])\n",
    "print(avg2)"
   ]
  },
  {
   "cell_type": "markdown",
   "metadata": {},
   "source": [
    "## Other Quirks\n",
    "Here are a few other things that functions are capable of."
   ]
  },
  {
   "cell_type": "markdown",
   "metadata": {},
   "source": [
    "### Multiple Outputs\n",
    "Just as functions can have multiple parameters (inputs), they can also return multiple outputs.\n",
    "\n",
    "Notice that I said multiple *outputs*, not multiple *`return` statements*.\n",
    "\n",
    "> For any function call, `return` can only run once, but that `return` can have multiple output values.\n",
    "\n",
    "You generally won't need to use this, especially in this class, but here's an example anyway."
   ]
  },
  {
   "cell_type": "code",
   "execution_count": null,
   "metadata": {},
   "outputs": [],
   "source": [
    "def double_and_halve(num):\n",
    "    # Minor thing: two slashes lets you do integer division!\n",
    "    # Integer division means that your answer won't turn into a float.\n",
    "    # If it doesn't divide evenly, it'll delete the decimal part.\n",
    "    # 5/2 == 2.5 -> 5//2 = 2\n",
    "    return num * 2, num // 2\n",
    "\n",
    "# Remember how you can initialize multiple variables at once?\n",
    "double_10, half_10 = double_and_halve(10)\n",
    "print(\"10 doubled is \" + str(double_10))\n",
    "print(\"10 halved is \" + str(half_10))\n",
    "\n",
    "\"\"\" Alternatively, you can have both in one variable, but unfortunately it comes back\n",
    "as something you haven't learned to use yet. Come back to this example once you've\n",
    "learned about lists and tuples.\"\"\"\n",
    "two_answers = double_and_halve(20)\n",
    "print(\"20 doubled is \" + str(two_answers[0]))\n",
    "print(\"20 halved is \" + str(object=two_answers[1]))"
   ]
  },
  {
   "cell_type": "markdown",
   "metadata": {},
   "source": [
    "### Functions Inside Functions\n",
    "Remember about nesting conditional statements inside each other? It's not called nesting, but you're free to use functions inside functions as well!\n",
    "\n",
    "In order to keep code readable, programmers will sometimes \"extract\" code from a longer function and put it in its own **helper function**. Keep this in mind if you end up writing a really long and complex function!"
   ]
  },
  {
   "cell_type": "code",
   "execution_count": null,
   "metadata": {},
   "outputs": [],
   "source": [
    "# Here's our \"helper function!\"\n",
    "def is_multiple(num, factor):\n",
    "    print(\"Called is_multiple on \" + str(num) + \" and \" + str(factor))\n",
    "    return num % factor == 0\n",
    "\n",
    "# Takes a number and checks if it is divisible by the first three prime numbers (2, 3, 5).\n",
    "# Returns True if it is not divisible by any of those three.\n",
    "def is_kind_of_prime(num):\n",
    "    # Here we put our helper function to use.\n",
    "    if is_multiple(num, 2) or is_multiple(num, 3) or is_multiple(num, 5):\n",
    "        return False\n",
    "    else:\n",
    "        return True\n",
    "    \n",
    "print(is_kind_of_prime(9))\n",
    "print(is_kind_of_prime(13))"
   ]
  },
  {
   "cell_type": "markdown",
   "metadata": {},
   "source": [
    "> **BONUS:** Technically, we could shorten `is_kind_of_prime()` to a single line! Can you figure out how? (Remember that logical operators result in booleans!)\n",
    "\n",
    "Putting functions inside functions gets pretty crazy later on! There's a special version of this called *recursion*, but that's still far away, so don't worry about it yet."
   ]
  }
 ],
 "metadata": {
  "kernelspec": {
   "display_name": "env",
   "language": "python",
   "name": "python3"
  },
  "language_info": {
   "codemirror_mode": {
    "name": "ipython",
    "version": 3
   },
   "file_extension": ".py",
   "mimetype": "text/x-python",
   "name": "python",
   "nbconvert_exporter": "python",
   "pygments_lexer": "ipython3",
   "version": "3.12.0"
  }
 },
 "nbformat": 4,
 "nbformat_minor": 2
}
