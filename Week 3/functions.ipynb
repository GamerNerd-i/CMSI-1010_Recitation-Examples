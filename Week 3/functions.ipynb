{
 "cells": [
  {
   "cell_type": "markdown",
   "metadata": {},
   "source": [
    "<a href=\"https://colab.research.google.com/github/GamerNerd-i/CMSI-1010_Recitation-Examples/blob/main/Week%203/functions.ipynb\" target=\"_parent\"><img src=\"https://colab.research.google.com/assets/colab-badge.svg\" alt=\"Open In Colab\"/></a>"
   ]
  },
  {
   "cell_type": "markdown",
   "metadata": {},
   "source": [
    "# Functions\n",
    "> **Functions** are blocks of code that you \"pre-write\" to use later.\n",
    "\n",
    "There are three main reasons why we use functions:\n",
    "\n",
    "1. **Readability:** If you're rewriting the same block of code multiple times,\n",
    "    the rest of your code might become difficult to read. By putting that \n",
    "    rewritten code in a function, you can condense it down to a simple phrase\n",
    "    like `calculate_mean`. It's much easier to read that than it would be to\n",
    "    identify the formula for a mean every time.\n",
    "    \n",
    "2. **Generalization:** Functions make code reusable. For example, if I write a\n",
    "    `calculate_mean` function, then I can use it whenever I need to, no matter\n",
    "    what inputs I have. Using the formula would require it to change every time.\n",
    "    \n",
    "3. **Maintenance:** With a function, all the necessary code is in one place, even\n",
    "    if it's used in multiple places in code. Without functions, if you had to debug\n",
    "    a block you used 5 times, you would need to make the same changes 5 times, rather\n",
    "    than just once. "
   ]
  },
  {
   "cell_type": "markdown",
   "metadata": {},
   "source": [
    "## Syntax\n",
    "Here is the most basic syntax for a function:"
   ]
  },
  {
   "cell_type": "code",
   "execution_count": null,
   "metadata": {},
   "outputs": [],
   "source": [
    "def function_name(parameter1, parameter2):\n",
    "    # The things you want the function to do go here!\n",
    "    print(parameter1 + \" is definitely a \" + parameter2)"
   ]
  },
  {
   "cell_type": "markdown",
   "metadata": {},
   "source": [
    "Note the most important parts:\n",
    "1. **`def` keyword:** This lets Python know that you're creating a function,\n",
    "    just like how `if` tells Python that you're writing a conditional.\n",
    "    \n",
    "2. **Function name:** Follows the same naming conventions as variables. Like variables,\n",
    "    (and people) you \"call\" functions to run by their name.\n",
    "    \n",
    "3. **Parameters:** Inside the parentheses are the names for your inputs. Think of it like\n",
    "    creating the variables you'll need to complete the task. Note that, when you call the\n",
    "    function, the inputs *do not* need to have the same name as the parameter names given\n",
    "    here; in fact, it's better if they don't so that you don't get confused as to which\n",
    "    is which. Technically you can have as many parameters as you want, but be reasonable."
   ]
  },
  {
   "cell_type": "markdown",
   "metadata": {},
   "source": [
    "## `return` Keyword\n",
    "\n",
    "> If you want to have an output for the function, use the `return` keyword.\n",
    "\n",
    "Be **very** careful about this point! Again:\n",
    "\n",
    "> If you want a function to output a value that the rest of the code can use, use the `return` keyword.\n",
    "\n",
    "`print` **does not** do the same thing as `return`. It's only useful to peek at what's\n",
    "happening inside the function.\n",
    "\n",
    "One more time: **use `return`**. Print shows you a value, but *does not* save it for later use."
   ]
  },
  {
   "cell_type": "code",
   "execution_count": null,
   "metadata": {},
   "outputs": [],
   "source": [
    "# Calculates the mean of a list of numbers.\n",
    "def calculate_mean(numbers):\n",
    "    return sum(numbers) / len(numbers)"
   ]
  },
  {
   "cell_type": "markdown",
   "metadata": {},
   "source": [
    "## Calling Functions\n",
    "Just like variables, there's no reason to create a function if you don't use it.\n",
    "\n",
    "Functions are called using their name. In parentheses, you need to \"pass in\" values to fill the parameters defined above. Those values, like anything else, can be variable names, or also \"raw\" values."
   ]
  },
  {
   "cell_type": "code",
   "execution_count": null,
   "metadata": {},
   "outputs": [],
   "source": [
    "# TODO: If you haven't already, run the cell above that defines \"calculate_mean()\"\n",
    "\n",
    "random_list = [9, 5, 1, 4, 1, 9]\n",
    "\n",
    "# Values can be a variable name, like here...\n",
    "avg1 = calculate_mean(random_list)\n",
    "print(avg1)\n",
    "\n",
    "# Alternatively, just give it a direct value: no extra variables needed.\n",
    "avg2 = calculate_mean([8, 10, 7, 2, 7, 1])\n",
    "print(avg2)"
   ]
  }
 ],
 "metadata": {
  "language_info": {
   "name": "python"
  }
 },
 "nbformat": 4,
 "nbformat_minor": 2
}
