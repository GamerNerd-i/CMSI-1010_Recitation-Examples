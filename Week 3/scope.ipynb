{
 "cells": [
  {
   "cell_type": "markdown",
   "metadata": {},
   "source": [
    "<a href=\"https://colab.research.google.com/github/GamerNerd-i/CMSI-1010_Recitation-Examples/blob/main/Week%203/scope.ipynb\" target=\"_parent\"><img src=\"https://colab.research.google.com/assets/colab-badge.svg\" alt=\"Open In Colab\"/></a>"
   ]
  },
  {
   "cell_type": "markdown",
   "metadata": {},
   "source": [
    "# Scope\n",
    "> **Scope** refers to what the program can \"see\" at a given point.\n",
    "\n",
    "Think of your program like a factory. What parts you can see on the workfloor\n",
    "depends on where you're standing, or at what point of the manufacturing you are\n",
    "currently overseeing.\n",
    "\n",
    "For example, say your factory makes cars. If you're in the part of the factory\n",
    "where the engine goes into the chassis, there's a good chance that you didn't see\n",
    "the chassis get built -- it was just given to you, already complete. If you're on\n",
    "the walkways above the workfloor, you can see everything at once. If you're in a\n",
    "conference room going over financial reports, presumably, you won't see anything\n",
    "of the factory at all -- just your financial reports!\n",
    "\n",
    "Your position in the factory -- what you can see -- is your **scope**. Your program has\n",
    "the same idea: some code takes place in different \"rooms.\" In those rooms, you can only\n",
    "see what's in the room, including what you brought into it. Here are some examples."
   ]
  },
  {
   "cell_type": "markdown",
   "metadata": {},
   "source": [
    "## Global Scope\n",
    "> **Global** code can be seen by everything.\n",
    "\n",
    "You'll usually hear this in terms of variables. \"Global variables\" are put at the very start of a file so that everything else in the file can see and use it. Generally, functions you write will also be global so that everything else in the file can use them.\n",
    "\n",
    "> Any completely unindented code has global scope.\n",
    "\n",
    "Be aware of this! It usually won't be a problem to have variables with global scope, but if you start changing something with global scope it'll change across the whole file, and that could really break things sometimes."
   ]
  },
  {
   "cell_type": "code",
   "execution_count": null,
   "metadata": {},
   "outputs": [],
   "source": [
    "# This is a global variable. EVERYTHING can use it.\n",
    "word = \"dog\"\n",
    "\n",
    "# Likewise, this function has global scope.\n",
    "def print_word():\n",
    "    print(word)\n",
    "\n",
    "print(word)\n",
    "print_word()"
   ]
  },
  {
   "cell_type": "markdown",
   "metadata": {},
   "source": [
    "## Local Scope\n",
    "> Functions each have their own **local** scope.\n",
    "\n",
    "Local variables can only be seen inside its own function. This means that once the\n",
    "function finishes, those local variables cease to exist. By default, any parameters\n",
    "of the function are local.\n",
    "\n",
    "Here, I demonstrate that, if a global and a local variable share a name, the local\n",
    "variable (the one with a smaller scope) will always be used."
   ]
  },
  {
   "cell_type": "code",
   "execution_count": null,
   "metadata": {},
   "outputs": [],
   "source": [
    "value = 5\n",
    "\n",
    "# Notice here that our parameter has the same name as a global variable.\n",
    "def print_different_number(value):\n",
    "    value = value + 5\n",
    "    print(value)\n",
    "\n",
    "\n",
    "print_different_number(value)\n",
    "\"\"\" Even though we altered the local \"value\" in the function, the global \"value\"\n",
    "remains unchanged.\"\"\"\n",
    "print(value)"
   ]
  },
  {
   "cell_type": "markdown",
   "metadata": {},
   "source": [
    "This next example is meant to crash.\n",
    "\n",
    "> Once a function is finished, all its local variables cease to exist.\n",
    "\n",
    "Remember, to get anything out of a function you need to use a `return` statement!"
   ]
  },
  {
   "cell_type": "code",
   "execution_count": null,
   "metadata": {},
   "outputs": [],
   "source": [
    "def a_lot_of_math():\n",
    "    start = 1 + 3\n",
    "    triple_sum = start * 3\n",
    "    half_triple = triple_sum / 2\n",
    "\n",
    "\"\"\"Even without running the code, Python should be getting very mad at you for trying\n",
    "to access names that don't exist anymore.\"\"\"\n",
    "\n",
    "print(start)\n",
    "print(triple_sum)\n",
    "print(half_triple)"
   ]
  }
 ],
 "metadata": {
  "language_info": {
   "name": "python"
  }
 },
 "nbformat": 4,
 "nbformat_minor": 2
}
