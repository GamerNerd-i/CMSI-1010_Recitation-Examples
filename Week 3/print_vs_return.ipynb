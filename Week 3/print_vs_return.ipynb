{
 "cells": [
  {
   "cell_type": "markdown",
   "metadata": {},
   "source": [
    "<a href=\"https://colab.research.google.com/github/GamerNerd-i/CMSI-1010_Recitation-Examples/blob/main/Week%203/print_vs_return.ipynb\" target=\"_parent\"><img src=\"https://colab.research.google.com/assets/colab-badge.svg\" alt=\"Open In Colab\"/></a>"
   ]
  },
  {
   "cell_type": "markdown",
   "metadata": {},
   "source": [
    "# Print vs. Return\n",
    "Until this point, you've been using `print` to see the results of your programs. Now, however, you've learned about a different kind of output: `return`.\n",
    "\n",
    "Historically, the difference between these two has been very difficult for students, so it gets its own notebook!\n",
    "\n",
    "The following cell contains the two functions we'll need to demonstrate this difference. Make sure to run it first."
   ]
  },
  {
   "cell_type": "code",
   "execution_count": null,
   "metadata": {},
   "outputs": [],
   "source": [
    "def greeter_1(name):\n",
    "    print(\"Hello \" + name + \" from greeter1\")\n",
    "\n",
    "def greeter_2(name):\n",
    "    return \"Hello \" + name + \" from greeter2\""
   ]
  },
  {
   "cell_type": "markdown",
   "metadata": {},
   "source": [
    "Notice that `greeter1` uses a print statement, and `greeter2` uses a return statement to output (essentially) the same text."
   ]
  },
  {
   "cell_type": "code",
   "execution_count": null,
   "metadata": {},
   "outputs": [],
   "source": [
    "greeter_1(\"Bob\")\n",
    "greeter_2(\"Bob\")"
   ]
  },
  {
   "cell_type": "markdown",
   "metadata": {},
   "source": []
  },
  {
   "cell_type": "code",
   "execution_count": null,
   "metadata": {},
   "outputs": [],
   "source": [
    "print(greeter_1(\"Anna\"))\n",
    "# print(print(\"Hello Anna\"))"
   ]
  },
  {
   "cell_type": "code",
   "execution_count": null,
   "metadata": {},
   "outputs": [],
   "source": [
    "print(greeter_2(\"Anna\"))\n",
    "# print(\"Hello Anna\")"
   ]
  },
  {
   "cell_type": "code",
   "execution_count": null,
   "metadata": {},
   "outputs": [],
   "source": [
    "greetings_1 = greeter_1(\"Carla\")\n",
    "greetings_2 = greeter_2(\"Carla\")\n",
    "\n",
    "greetings_1 = greetings_1 + \". It's nice to meet you!\"\n",
    "print(greetings_1)\n",
    "\n",
    "greetings_2 = greetings_2 + \". It's nice to meet you!\"\n",
    "print(greetings_2)"
   ]
  }
 ],
 "metadata": {
  "kernelspec": {
   "display_name": "env",
   "language": "python",
   "name": "python3"
  },
  "language_info": {
   "codemirror_mode": {
    "name": "ipython",
    "version": 3
   },
   "file_extension": ".py",
   "mimetype": "text/x-python",
   "name": "python",
   "nbconvert_exporter": "python",
   "pygments_lexer": "ipython3",
   "version": "3.12.0"
  }
 },
 "nbformat": 4,
 "nbformat_minor": 2
}
