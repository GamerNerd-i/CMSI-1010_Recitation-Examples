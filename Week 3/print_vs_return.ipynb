{
 "cells": [
  {
   "cell_type": "markdown",
   "metadata": {},
   "source": [
    "<a href=\"https://colab.research.google.com/github/GamerNerd-i/CMSI-1010_Recitation-Examples/blob/main/Week%203/print_vs_return.ipynb\" target=\"_parent\"><img src=\"https://colab.research.google.com/assets/colab-badge.svg\" alt=\"Open In Colab\"/></a>"
   ]
  },
  {
   "cell_type": "markdown",
   "metadata": {},
   "source": [
    "# Print vs. Return\n",
    "Until this point, you've been using `print` to see the results of your programs. Now, however, you've learned about a different kind of output: `return`.\n",
    "\n",
    "Historically, the difference between these two has been very difficult for students, so it gets its own notebook! *Furthermore, this notebook is designed more like an exercise than a reference, so be sure to run all the code cells!*\n",
    "\n",
    "The following cell contains the two functions we'll need to demonstrate this difference. Make sure to run it first."
   ]
  },
  {
   "cell_type": "code",
   "execution_count": null,
   "metadata": {},
   "outputs": [],
   "source": [
    "def greeter_1(name):\n",
    "    print(\"Hello \" + name + \" from greeter1\")\n",
    "\n",
    "def greeter_2(name):\n",
    "    return \"Hello \" + name + \" from greeter2\""
   ]
  },
  {
   "cell_type": "markdown",
   "metadata": {},
   "source": [
    "Notice that `greeter1` uses a print statement, and `greeter2` uses a return statement to output (essentially) the same text.\n",
    "\n",
    "Go ahead and run this next cell."
   ]
  },
  {
   "cell_type": "code",
   "execution_count": null,
   "metadata": {},
   "outputs": [],
   "source": [
    "greeter_1(\"Bob\")\n",
    "greeter_2(\"Bob\")"
   ]
  },
  {
   "cell_type": "markdown",
   "metadata": {},
   "source": [
    "The output for both of them seem to be the same! This should be expected.\n",
    "\n",
    "There *is* one notable difference, though, and that is `greeter2`'s output having single quotes, like a string. Interesting.\n",
    "\n",
    "Next, let's see what happens when we `print` these functions!"
   ]
  },
  {
   "cell_type": "code",
   "execution_count": null,
   "metadata": {},
   "outputs": [],
   "source": [
    "print(greeter_1(\"Anna\"))\n",
    "print() # Empty print for a newline\n",
    "print(greeter_2(\"Anna\"))"
   ]
  },
  {
   "cell_type": "markdown",
   "metadata": {},
   "source": [
    "`greeter_1` printed like normal, but also printed a `None`! Where did that come from? `greeter2` printed just fine - although if you look closely, it no longer has its quotation marks.\n",
    "\n",
    "Let's do something a bit strange. Rather than call the functions, let's put *the code they run* directly into the print statements."
   ]
  },
  {
   "cell_type": "code",
   "execution_count": null,
   "metadata": {},
   "outputs": [],
   "source": [
    "# Code from greeter1.\n",
    "print(print(\"Hello \" + \"Anna\" + \" from greeter1\"))\n",
    "\n",
    "# Code from greeter2.\n",
    "# We can't actually put \"return\" here: it'll break the code.\n",
    "# Instead, we'll do what \"return\" would have done: give the string back to the code.\n",
    "print(\"Hello \" + \"Anna\" + \" from greeter2\")"
   ]
  },
  {
   "cell_type": "markdown",
   "metadata": {},
   "source": [
    "There's our problem! We're *printing* a `print` statement! Remember that functions without `return` values (such as `print`) output `None`.\n",
    "\n",
    "Here's another example."
   ]
  },
  {
   "cell_type": "code",
   "execution_count": null,
   "metadata": {},
   "outputs": [],
   "source": [
    "greetings_1 = greeter_1(\"Carla\")\n",
    "greetings_2 = greeter_2(\"Carla\")"
   ]
  },
  {
   "cell_type": "markdown",
   "metadata": {},
   "source": [
    "Notice that we only got one output. Where did `greeter2`'s output go?\n",
    "\n",
    "It's stored in the variable `greetings_2`! There's also a value stored in `greetings_1`. Take a look:"
   ]
  },
  {
   "cell_type": "code",
   "execution_count": null,
   "metadata": {},
   "outputs": [],
   "source": [
    "print(greetings_1)\n",
    "print()\n",
    "print(greetings_2)"
   ]
  },
  {
   "cell_type": "markdown",
   "metadata": {},
   "source": [
    "There's `None` again, the value of `greeter_1`; it didn't save any output to `greetings_1`. On the other hand, `greeter_2`'s text output was saved; it just didn't display until we `print`ed `greetings_2`.\n",
    "\n",
    "So when we use `print`, our information is lost after Python outputs to the terminal. When we `return`, Python is able to use the information in other parts of the program.\n",
    "\n",
    "What we're seeing here is two types of output. `greeter_1` outputs to the terminal, where you, the programmer, can see it. `greeter_2` outputs back to Python, where it can continue using the information.\n",
    "\n",
    "---\n",
    "\n",
    "Here's an analogy: Let's say that you're a waiter working in a restaurant. You receive an order and bring it to the kitchen, where you need to tell the cook. You can do one of two things:\n",
    "\n",
    "1. Tell the cook the order verbally.\n",
    "2. Give the cook a piece of paper with the order on it.\n",
    "\n",
    "If you just tell the cook the order verbally, they'll probably repeat it back to you as confirmation. But they're busy with other meals: once they get to the order, they'll have totally forgotten what they need to make!\n",
    "\n",
    "If you give the cook the order in writing, it doesn't matter whether or not they remember the whole thing, because the paper with the order is there! They'll have it to look at whenever they need to.\n",
    "\n",
    "> The first case is your `print`, and the second is `return`. Once you send information into a `print` statement, it's completely lost unless you saved it elsewhere. Using a `return` statement keeps the information around for you (and Python) to use later!\n",
    "\n",
    "---\n",
    "\n",
    "Keep this lesson in mind. If you still need help, don't be afraid to [check the TA schedule](https://ta.lmucs.io) and find help in-person!"
   ]
  }
 ],
 "metadata": {
  "kernelspec": {
   "display_name": "env",
   "language": "python",
   "name": "python3"
  },
  "language_info": {
   "codemirror_mode": {
    "name": "ipython",
    "version": 3
   },
   "file_extension": ".py",
   "mimetype": "text/x-python",
   "name": "python",
   "nbconvert_exporter": "python",
   "pygments_lexer": "ipython3",
   "version": "3.12.0"
  }
 },
 "nbformat": 4,
 "nbformat_minor": 2
}
