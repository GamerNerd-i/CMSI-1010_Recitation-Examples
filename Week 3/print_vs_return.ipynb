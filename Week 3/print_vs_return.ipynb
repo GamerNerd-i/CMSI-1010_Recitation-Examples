{
 "cells": [
  {
   "cell_type": "markdown",
   "metadata": {},
   "source": [
    "<a href=\"https://colab.research.google.com/github/GamerNerd-i/CMSI-1010_Recitation-Examples/blob/main/Week%203/print_vs_return.ipynb\" target=\"_parent\"><img src=\"https://colab.research.google.com/assets/colab-badge.svg\" alt=\"Open In Colab\"/></a>"
   ]
  },
  {
   "cell_type": "markdown",
   "metadata": {},
   "source": [
    "# Print vs. Return\n",
    "Until this point, you've been using `print` to see the results of your programs. Now, however, you've learned about a different kind of output: `return`.\n",
    "\n",
    "Historically, the difference between these two has been very difficult for students, so it gets its own notebook! *Furthermore, this notebook is designed more like an exercise than a reference, so be sure to run all the code cells!*\n",
    "\n",
    "The following cell contains the two functions we'll need to demonstrate this difference. Make sure to run it first."
   ]
  },
  {
   "cell_type": "code",
   "execution_count": 2,
   "metadata": {},
   "outputs": [],
   "source": [
    "def greeter_1(name):\n",
    "    print(\"Hello \" + name + \" from greeter1\")\n",
    "\n",
    "def greeter_2(name):\n",
    "    return \"Hello \" + name + \" from greeter2\""
   ]
  },
  {
   "cell_type": "markdown",
   "metadata": {},
   "source": [
    "Notice that `greeter1` uses a print statement, and `greeter2` uses a return statement to output (essentially) the same text.\n",
    "\n",
    "Go ahead and run this next cell."
   ]
  },
  {
   "cell_type": "code",
   "execution_count": 3,
   "metadata": {},
   "outputs": [
    {
     "name": "stdout",
     "output_type": "stream",
     "text": [
      "Hello Bob from greeter1\n"
     ]
    },
    {
     "data": {
      "text/plain": [
       "'Hello Bob from greeter2'"
      ]
     },
     "execution_count": 3,
     "metadata": {},
     "output_type": "execute_result"
    }
   ],
   "source": [
    "greeter_1(\"Bob\")\n",
    "greeter_2(\"Bob\")"
   ]
  },
  {
   "cell_type": "markdown",
   "metadata": {},
   "source": [
    "The output for both of them seem to be the same! This should be expected.\n",
    "\n",
    "There *is* one notable difference, though, and that is `greeter2`'s output having single quotes, like a string. Interesting.\n",
    "\n",
    "Next, let's see what happens when we `print` these functions!"
   ]
  },
  {
   "cell_type": "code",
   "execution_count": 5,
   "metadata": {},
   "outputs": [
    {
     "name": "stdout",
     "output_type": "stream",
     "text": [
      "Hello Anna from greeter1\n",
      "None\n",
      "\n",
      "Hello Anna from greeter2\n"
     ]
    }
   ],
   "source": [
    "print(greeter_1(\"Anna\"))\n",
    "print() # Empty print for a newline\n",
    "print(greeter_2(\"Anna\"))"
   ]
  },
  {
   "cell_type": "markdown",
   "metadata": {},
   "source": [
    "`greeter_1` printed like normal, but also printed a `None`! Where did that come from? `greeter2` printed just fine - although if you look closely, it no longer has its quotation marks."
   ]
  },
  {
   "cell_type": "code",
   "execution_count": null,
   "metadata": {},
   "outputs": [],
   "source": [
    "# print(print(\"Hello Anna\"))\n",
    "# print(\"Hello Anna\")"
   ]
  },
  {
   "cell_type": "code",
   "execution_count": null,
   "metadata": {},
   "outputs": [],
   "source": [
    "greetings_1 = greeter_1(\"Carla\")\n",
    "greetings_2 = greeter_2(\"Carla\")\n",
    "\n",
    "greetings_1 = greetings_1 + \". It's nice to meet you!\"\n",
    "print(greetings_1)\n",
    "\n",
    "greetings_2 = greetings_2 + \". It's nice to meet you!\"\n",
    "print(greetings_2)"
   ]
  }
 ],
 "metadata": {
  "kernelspec": {
   "display_name": "env",
   "language": "python",
   "name": "python3"
  },
  "language_info": {
   "codemirror_mode": {
    "name": "ipython",
    "version": 3
   },
   "file_extension": ".py",
   "mimetype": "text/x-python",
   "name": "python",
   "nbconvert_exporter": "python",
   "pygments_lexer": "ipython3",
   "version": "3.12.2"
  }
 },
 "nbformat": 4,
 "nbformat_minor": 2
}
