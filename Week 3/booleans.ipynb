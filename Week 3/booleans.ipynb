{
 "cells": [
  {
   "cell_type": "markdown",
   "metadata": {},
   "source": [
    "<a href=\"https://colab.research.google.com/github/GamerNerd-i/CMSI-1010_Recitation-Examples/blob/main/Week%203/booleans.ipynb\" target=\"_parent\"><img src=\"https://colab.research.google.com/assets/colab-badge.svg\" alt=\"Open In Colab\"/></a>"
   ]
  },
  {
   "cell_type": "markdown",
   "metadata": {},
   "source": [
    "# Booleans\n",
    "Booleans are crucial to writing helpful programs, not necessarily because of the booleans themselves, but because they allow us to use conditional statements with the `if`, `else`, and `elif` keywords.\n",
    "\n",
    "However, it's important to understand booleans as a *type*: what they can do and how they can be manipulated.\n",
    "\n",
    "> Remember that anything with the boolean type can only have two values: `True` or `False`. Like all other types, they have their own operators and mechanics.\n",
    "\n",
    "Understanding the boolean itself will help you write cleaner, more streamlined conditional statements and help you debug the logic when something isn't quite doing what you expect."
   ]
  },
  {
   "cell_type": "markdown",
   "metadata": {},
   "source": [
    "## Boolean Operations\n",
    "Where numbers (`int`s and `float`s) have symbols for addition (`+`), subtraction (`-`), and other arithmetic operations, booleans have their own operators.\n",
    "\n",
    "> Booleans can be manipulated using the three **logical operators**: ``and``, ``or``, and ``not``.\n",
    "\n",
    "Just like arithmetic operators, boolean operators take booleans as input and provide a boolean as output."
   ]
  },
  {
   "cell_type": "markdown",
   "metadata": {},
   "source": [
    "### `and`\n",
    "> An `and` expression is `True` if both its inputs are `True`, and is `False` otherwise.\n",
    "\n",
    "Remember this: both the first **and** second value must be `True` for `and` to be `True`.\n",
    "\n",
    "| | `True` | `False` |\n",
    "| :-: | :-: | :-: |\n",
    "| `True` | `True and True` -> `True` | `True and False` -> `False` |\n",
    "| `False` | `False and True` -> `False` | `False and False` -> `False` |"
   ]
  },
  {
   "cell_type": "code",
   "execution_count": null,
   "metadata": {},
   "outputs": [],
   "source": [
    "print(True and True)\n",
    "print(True and False)\n",
    "print(False and True)\n",
    "print(False and False)"
   ]
  },
  {
   "cell_type": "markdown",
   "metadata": {},
   "source": [
    "### `or`\n",
    "> An `or` expression is `False` if both of its inputs are `False`, and is `True` otherwise.\n",
    "\n",
    "Remember this: either the first **or** second value must be `True` for `or` to be `True`.\n",
    "\n",
    "| | `True` | `False` |\n",
    "| :-: | :-: | :-: |\n",
    "| `True` | `True or True` -> `True` | `True or False` -> `True` |\n",
    "| `False` | `False or True` -> `True` | `False or False` -> `False` |"
   ]
  },
  {
   "cell_type": "code",
   "execution_count": null,
   "metadata": {},
   "outputs": [],
   "source": [
    "print(True or True)\n",
    "print(True or False)\n",
    "print(False or True)\n",
    "print(False or False)"
   ]
  },
  {
   "cell_type": "markdown",
   "metadata": {},
   "source": [
    "### `not`\n",
    "> The `not` operator makes a boolean its opposite.\n",
    "\n",
    "You can think of `not` like the negative operator (`-`), but for booleans.\n",
    "\n",
    "Remember that booleans only have two values: `True` and `False`. If something is `not True`, then it *must* be `False`. If something is `not False`, then it *must* be `True`. (This reasoning *mostly* works for real life, too.)"
   ]
  },
  {
   "cell_type": "code",
   "execution_count": null,
   "metadata": {},
   "outputs": [],
   "source": [
    "print(not True)\n",
    "print(not False)"
   ]
  },
  {
   "cell_type": "markdown",
   "metadata": {},
   "source": [
    "### Examples\n",
    "The following examples demonstrate use of boolean operators, and one other thing too: using parentheses to group expressions together!\n",
    "\n",
    "> Python follows the mathematical Order of Operations (PEMDAS), which means that expressions *inside* parentheses are always solved before expressions outside them.\n",
    "\n",
    "If a numerical or boolean expression ever seems to output something weird, consider using parentheses to make absolutely sure that your calculations are being solved in the right order - this is another way to make your code very readable to other people!"
   ]
  },
  {
   "cell_type": "code",
   "execution_count": null,
   "metadata": {},
   "outputs": [],
   "source": [
    "# A wise man once said that humans can be defined as featherless bipeds...\n",
    "is_featherless = True\n",
    "is_bipedal = True\n",
    "\n",
    "# Remember! Variables take on the type placed in their \"box!\"\n",
    "# Both is_featherless and is_bipedal are booleans with the value True.\n",
    "is_a_human = is_featherless and is_bipedal\n",
    "print(is_a_human) # Notice that \"and\" condenses TWO boolean statements into one!\n",
    "\n",
    "# Unfortunately, someone else came along with a plucked chicken...\n",
    "is_a_chicken = True\n",
    "\n",
    "is_a_human = (is_featherless and is_bipedal) and is_a_chicken\n",
    "print(is_a_human)\n",
    "# Whoops! A plucked chicken would definitely be a featherless biped...\n",
    "# But that's not a human! Let's fix this one case!\n",
    "\n",
    "is_a_human = (is_featherless and is_bipedal) and not is_a_chicken\n",
    "print(is_a_human)"
   ]
  },
  {
   "cell_type": "markdown",
   "metadata": {},
   "source": [
    "> Remember that relational operators result in boolean values!\n",
    "\n",
    "You're not going to have regular `True` or `False` booleans that often. Boolean operations are most often used with the relational operators."
   ]
  },
  {
   "cell_type": "code",
   "execution_count": null,
   "metadata": {},
   "outputs": [],
   "source": [
    "magic_number = int(input(\"Give me any number! \"))\n",
    "\n",
    "if (magic_number < 0) and (magic_number > -10):\n",
    "    print(\"That's a single-digit negative number!\")\n",
    "elif (magic_number <= -10) and (magic_number > -100):\n",
    "    print(\"That's a double-digit negative number!\")\n",
    "elif (magic_number > 0) and (magic_number < 10):\n",
    "    print(\"That's a single-digit positive number!\")\n",
    "elif (magic_number >= 10) and (magic_number < 100):\n",
    "    print(\"That's a double-digit negative number!\")\n",
    "elif (magic_number >= 100) or (magic_number <= -100):\n",
    "    print(\"That's a big number with at least three digits!\")\n",
    "else:\n",
    "    # Pop quiz! How do I know that this is a zero?\n",
    "    print(\"That's a zero!\")"
   ]
  },
  {
   "cell_type": "markdown",
   "metadata": {},
   "source": [
    "To reiterate, **booleans are very important to understand!** Booleans and logical operators are probably going to be the most confusing type mechanics you'll use in Python, mainly because they're rather unique to mathematics and computer programming."
   ]
  }
 ],
 "metadata": {
  "kernelspec": {
   "display_name": "env",
   "language": "python",
   "name": "python3"
  },
  "language_info": {
   "codemirror_mode": {
    "name": "ipython",
    "version": 3
   },
   "file_extension": ".py",
   "mimetype": "text/x-python",
   "name": "python",
   "nbconvert_exporter": "python",
   "pygments_lexer": "ipython3",
   "version": "3.12.0"
  }
 },
 "nbformat": 4,
 "nbformat_minor": 2
}
