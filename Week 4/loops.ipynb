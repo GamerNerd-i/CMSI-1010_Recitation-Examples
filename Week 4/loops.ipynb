{
 "cells": [
  {
   "cell_type": "markdown",
   "metadata": {},
   "source": [
    "<a href=\"https://colab.research.google.com/github/GamerNerd-i/CMSI-1010_Recitation-Examples/blob/main/Week%204/loops.ipynb\" target=\"_parent\"><img src=\"https://colab.research.google.com/assets/colab-badge.svg\" alt=\"Open In Colab\"/></a>"
   ]
  },
  {
   "cell_type": "markdown",
   "metadata": {},
   "source": [
    "# Loops\n",
    "Humans aren't always good at doing repetitive tasks. Even if the task is simple, humans get tired, or bored, and can still make mistakes. Thankfully, computers are great at it! It's one of their strengths, and loops are the way that we take advantage of those strengths.\n",
    "\n",
    "> Python has two types of loops: `while` loops and `for` loops. They both repeat a task until a specific condition is met -- or until they crash.\n",
    "\n",
    "Let's get started!"
   ]
  },
  {
   "cell_type": "markdown",
   "metadata": {},
   "source": [
    "## `while` Loops\n",
    "Have you ever needed to do something where you just \"try it until it works\"? For example, if you have a lever or something that *seems* to be stuck, but you don't want to break it, you're not going to use your full power immediately. You'd try it multiple times and give it a little more power each time *until* you give up, the lever gives, or something breaks (hopefully not the last one).\n",
    "\n",
    "That's the same logic behind `while` loops.\n",
    "\n",
    "> `while` loops run as long as their condition is `True`. They are helpful for conditions with an **uncertain** ending.\n",
    "\n",
    "To see what I mean here, let's write some sample code to model this example!"
   ]
  },
  {
   "cell_type": "markdown",
   "metadata": {},
   "source": [
    "### `while` Syntax"
   ]
  },
  {
   "cell_type": "code",
   "execution_count": null,
   "metadata": {},
   "outputs": [],
   "source": [
    "import random\n",
    "\n",
    "power = 1\n",
    "lever_resistance = random.randint(1,15)\n",
    "# This function gives us a random number from 1 to 10, inclusive.\n",
    "\n",
    "while power < lever_resistance:\n",
    "    print(\"Applying \" + str(power) + \" power!\")\n",
    "    power += 1\n",
    "\n",
    "print(\"The lever got unstuck! It had a resistance of \" + str(lever_resistance))"
   ]
  },
  {
   "cell_type": "markdown",
   "metadata": {},
   "source": [
    "As with most Python code, you might be able to describe what this loop does just by reading it like a sentence: *While power is less than lever resistance, increase power by 1.* If you rearrange that sentence, you'll notice that it says exactly what we said earlier, just with an actual numerical value: *Increase power by 1 until power is greater than or equal to lever resistance.* This has the same meaning as our original sentence, but Python has `while` loops, not `until` loops, so it's a little less helpful in reference to writing code.\n",
    "\n",
    "Let's take a look at the syntax.\n",
    "\n",
    "1. The `while` keyword marks the start of the loop.\n",
    "2. The loop's **condition** immediately follows after the `while`. Just like `if` and `elif` statements' conditions, the `while` loop's condition must evaluate to a boolean.\n",
    "3. Any code indented underneath the `while` loop becomes part of its **block.** (Technically, block isn't an *official* term, but everybody uses it.) If you remember [scope](https://colab.research.google.com/github/GamerNerd-i/CMSI-1010_Recitation-Examples/blob/main/Week%203/scope.ipynb), you'll notice that this **block** is local scope for the loop itself!\n",
    "\n",
    "Because of the randomness, we don't know how tough the lever is. We don't know how much `power` to apply until to beat `lever_resistance`, so we just slowly apply more and more power until we're through. This is what we mean by an **uncertain condition.** You might also notice that the `while condition:` statement looks a lot like an `if`/`elif` statement. They do the same thing: in both cases, Python checks the `condition`. If it's `True`, then the block underneath gets run.\n",
    "\n",
    "> Each time a loop's block is run, we say that the loop has completed one **iteration.**\n",
    "\n",
    "This will also apply to `for` loops. Additionally, the use of loops itself is also called *iteration*, or. We will say that `for` loops in particular *iterate* over data like lists: more on those next week!\n",
    "\n",
    "Although it's not too important now, we use the number of *iterations* to check how efficient our loops are. If our loop has to go through many *iterations*, we should probably see if there's a more efficient way to do things!"
   ]
  },
  {
   "cell_type": "markdown",
   "metadata": {},
   "source": [
    "## `for` Loops\n",
    "> `for` loops run once for every item in a sequence; in other words, they **iterate over** sequences. They are helpful for conditions with a **determined** ending.\n",
    "\n",
    "Sequences are groups of data collected in one place. For example, you've already worked with strings. Although strings appear to be one \"unit\", strings are actually sequences of individual characters under the hood. You'll also be briefly introduced to *lists* in this section, which are just sequences of various data, and the most common use case for `for` loops.\n",
    "\n",
    "Let's take a look now.\n",
    "\n",
    "### `for` Syntax"
   ]
  },
  {
   "cell_type": "code",
   "execution_count": null,
   "metadata": {},
   "outputs": [],
   "source": [
    "# This is a list! Notice that we've gathered a bunch of strings under the same variable name, encased in brackets.\n",
    "# You'll learn about lists and other sequences in-depth in Week 5.\n",
    "names = [\"Deckard\", \"Lorath\", \"Donan\", \"Kulle\", \"Ramaladni\"]\n",
    "\n",
    "for name in names:\n",
    "    print(\"Hello \" + name + \", nice to meet you!\")"
   ]
  },
  {
   "cell_type": "markdown",
   "metadata": {},
   "source": [
    "Let's take advantage of Python's super-readable code again to see what we're dealing with: *For every name in the list of names, print \"Hello [name], nice to meet you!\"* Because our list is of a finite size, we know that our loop will stop once it goes through everything in the list: we have a **determined** ending.\n",
    "\n",
    "There's a little more syntax to think about here, so let's go over it:\n",
    "\n",
    "1. The `for` keyword marks the start of the loop.\n",
    "2. `names` is an sequence that we want to iterate over. The loop will run once for every item in the sequence.\n",
    "3. `name` is a local variable created only for use inside the loop. **Each iteration, it holds the value of the next item in the sequence.**\n",
    "4. As before, the loop's block is run once per iteration.\n",
    "\n",
    "#3 is very important, and a core part of what makes `for` loops so helpful! In this example, during the first iteration `name == \"Deckard\"`. During the second iteration `name == \"Lorath\"`, and so on, until `name == \"Ramaladni\"` on the last iteration. You can confirm this with the output: it prints each name once."
   ]
  },
  {
   "cell_type": "markdown",
   "metadata": {},
   "source": [
    "### Iterable Sequences\n",
    "> A sequence that a `for` loop can read is said to be **iterable**.\n",
    "\n",
    "\"Sequence\" isn't a technical term, but *iterable* is. We normally talk about *iterable data types*. But for now, I'll keep calling them \"sequences.\"\n",
    "\n",
    "You've already seen that lists such as `names` in the previous section are iterable. You also know one other sequence: strings! You'll see more about this later, but strings are actually just lists of individual characters."
   ]
  },
  {
   "cell_type": "code",
   "execution_count": null,
   "metadata": {},
   "outputs": [],
   "source": [
    "word = \"Tsathoggua\"\n",
    "print(\"How do you spell \" + word + \"?\")\n",
    "\n",
    "for letter in word:\n",
    "    print(letter)"
   ]
  },
  {
   "cell_type": "markdown",
   "metadata": {},
   "source": [
    "This brings us to another key point:\n",
    "\n",
    "> `for` loops *must* have an iterable sequence to work.\n",
    "\n",
    "If we need a sequence to use a `for` loop, how do we *just* repeat things a certain number of times? Do we need a \"dummy\" sequence?\n",
    "\n",
    "The answer is yes: we do need a \"dummy\" sequence. We don't have to make one ourselves, though: Python already has us covered!"
   ]
  },
  {
   "cell_type": "markdown",
   "metadata": {},
   "source": [
    "## Using `range()`\n",
    "`for` loops require a sequence, but we don't always want to *operate* on a sequence. Take this example:"
   ]
  },
  {
   "cell_type": "code",
   "execution_count": null,
   "metadata": {},
   "outputs": [],
   "source": [
    "count = [1, 2, 3]\n",
    "\n",
    "for i in count:\n",
    "    print(\"Hello!\")"
   ]
  },
  {
   "cell_type": "markdown",
   "metadata": {},
   "source": [
    "`count` is a waste of space! We don't need that list of numbers. We don't even use them in the loop: they only exist because we want to say `Hello` three times.\n",
    "\n",
    "This is where `range()` comes in.\n",
    "\n",
    "> `range()` creates a sequence of numbers that can be used in a `for` loop.\n",
    "\n",
    "Let's try this again:"
   ]
  },
  {
   "cell_type": "code",
   "execution_count": null,
   "metadata": {},
   "outputs": [],
   "source": [
    "for i in range(3):\n",
    "    print(\"Hello!\")"
   ]
  },
  {
   "cell_type": "markdown",
   "metadata": {},
   "source": [
    "Perfect! Now we don't have an extra variable after the loop ends.\n",
    "\n",
    "The values in `range()` can be read if we need a counter:"
   ]
  },
  {
   "cell_type": "code",
   "execution_count": null,
   "metadata": {},
   "outputs": [],
   "source": [
    "for i in range(5):\n",
    "    print(i)"
   ]
  },
  {
   "cell_type": "markdown",
   "metadata": {},
   "source": [
    "Notice that `range(5)` doesn't *count* to five, it gives you five *values*: `[0, 1, 2, 3, 4]`.\n",
    "\n",
    "> `range(x)` returns a sequence of numbers **from 0 to `x-1`**. People may also say that it returns a sequence containing the numbers **0 to `x`, exclusive** (implying that we are *excluding* `x` itself).\n",
    "\n",
    "If we're using `range(x)` just to loop `x` times, we can make it painfully clear that we don't care about the values inside by replacing our loop variable with an underscore (`_`)."
   ]
  },
  {
   "cell_type": "code",
   "execution_count": null,
   "metadata": {},
   "outputs": [],
   "source": [
    "for _ in range(3):\n",
    "    print(\"Hello again!\")"
   ]
  },
  {
   "cell_type": "markdown",
   "metadata": {},
   "source": [
    "### Advanced `range()` Features\n",
    "It's perfectly fine use `range()` as it is and pivot around your specific needs for each use case creatively, especially for this class. However, if you learn how to use `range()` to its full potential, life will be a little bit easier for you.\n",
    "\n",
    "> `range()` takes up to three parameters: `range(start, stop, step)`.\n",
    "> * `stop` is the only required parameter and tells the function **which value ends the sequence**. `stop` is *exclusive*, which means that the final value in the sequence comes *before* `(stop - 1)`.\n",
    "> * `start` tells the function **which value begins the sequence**. `start` is *inclusive*, so the first value in the sequence is always the value of `start`.\n",
    "> * `step` tells the function **by how much the value changes** with each new addition to the sequence.\n",
    "\n",
    "So far, we have only been calling `range(stop)`, since we've only used one parameter so far. If we use two parameters, we will be calling `range(start, stop)`, and with three parameters we call `range(start, stop, step)`. Let's see some concrete examples of the last two."
   ]
  },
  {
   "cell_type": "code",
   "execution_count": null,
   "metadata": {},
   "outputs": [],
   "source": [
    "print(\"Values for range(5, 10):\")\n",
    "for i in range(5, 10):\n",
    "    print(i)"
   ]
  },
  {
   "cell_type": "code",
   "execution_count": null,
   "metadata": {},
   "outputs": [],
   "source": [
    "print(\"Values for range(0, 10, 2):\")\n",
    "# Our step value is set to two: so we'll be \"counting by twos\".\n",
    "for i in range(0, 10, 2):\n",
    "    print(i)"
   ]
  },
  {
   "cell_type": "markdown",
   "metadata": {},
   "source": [
    "Notice that when you don't use a parameter, it effectively defaults to a certain value. `stop` has no default value because it's required. `start` has a default value of 0. `step` has a default value of 1. We can verify this by comparing the sequences we get from a `range(x)` call and an equivalent `range(x, y, z)` call."
   ]
  },
  {
   "cell_type": "code",
   "execution_count": null,
   "metadata": {},
   "outputs": [],
   "source": [
    "print(\"Values for range(5):\")\n",
    "for i in range(5):\n",
    "    print(i)\n",
    "    \n",
    "print(\"\\nValues for range(0, 5, 1):\")\n",
    "for i in range(0, 5, 1):\n",
    "    print(i)"
   ]
  },
  {
   "cell_type": "markdown",
   "metadata": {},
   "source": [
    "One last thing: `step` can be negative, which allows you to count backwards! Just remember to set `start` and `stop` accordingly."
   ]
  },
  {
   "cell_type": "code",
   "execution_count": null,
   "metadata": {},
   "outputs": [],
   "source": [
    "# Remember that stop is exclusive! We want to include zero, so we set our stop to -1.\n",
    "for i in range(5, -1, -1):\n",
    "    print(\"Takeoff in \" + str(i) + \"...\")\n",
    "print(\"Blast off!\")"
   ]
  },
  {
   "cell_type": "markdown",
   "metadata": {},
   "source": [
    "## Loop Control\n",
    "Loops will do their thing naturally, but sometimes we want some extra control over what happens when.\n",
    "\n",
    "> The keywords `break` and `continue` help us control what happens to our loops.\n",
    "> * `break` causes the loop to exit immediately: its remaining iterations are cancelled.\n",
    "> * `continue` immediately begins the next iteration, skipping all other code beneath it.\n",
    "\n",
    "The following example takes advantage of both."
   ]
  },
  {
   "cell_type": "code",
   "execution_count": null,
   "metadata": {},
   "outputs": [],
   "source": [
    "suspect = 0\n",
    "while suspect < 20:\n",
    "    suspect += 1\n",
    "    if suspect % 2 == 0:\n",
    "        print(\"Suspect \" + str(suspect) + \" can be released.\")\n",
    "        \n",
    "        # If suspect % 2 == 0, then we know that suspect != 13.\n",
    "        # We skip that check with continue and move to the next iteration.\n",
    "        continue\n",
    "    \n",
    "    if suspect == 13:\n",
    "        print(\"There he is, get him!\")\n",
    "        \n",
    "        # We've found what we're looking for, so there is no need to continue iterating.\n",
    "        # We can break here to immediately stop the loop.\n",
    "        break\n",
    "\n",
    "    print(\"This alibi feels odd... Keep them here for now.\")\n",
    "print(\"We've apprehended the criminal!\\n\")"
   ]
  },
  {
   "cell_type": "markdown",
   "metadata": {},
   "source": [
    "It's a bit contrived (especially because we could just use an `else` statement and get rid of the `continue`), but hopefully gets the point across.\n",
    "\n",
    "> For loops in functions, `return` will also `break` a loop, in addition to its usual purpose of ending the function."
   ]
  },
  {
   "cell_type": "code",
   "execution_count": null,
   "metadata": {},
   "outputs": [],
   "source": [
    "def search(sequence, item):\n",
    "    for thing in sequence:\n",
    "        if thing == item:\n",
    "            print(\"Found it!\")\n",
    "            return True\n",
    "        else:\n",
    "            print(\"It's not this one.\")\n",
    "            \n",
    "    print(\"Didn't find it.\")\n",
    "    return False\n",
    "        \n",
    "numbers = [4, 16, 7, 18, 13]\n",
    "target = 7\n",
    "\n",
    "print(search(numbers, target))"
   ]
  },
  {
   "cell_type": "markdown",
   "metadata": {},
   "source": [
    "Remember to keep scope concepts in mind as we continue adding more code structures to our toolbox!"
   ]
  },
  {
   "cell_type": "markdown",
   "metadata": {},
   "source": [
    "## Quirks and Warnings\n",
    "This section covers a few things about how loops work. Some of these are just for fun, but if you keep them in mind they may be helpful for you in the long run.\n",
    "\n",
    "### Multiple `for` Loop Variables\n",
    "If your sequence for a `for` loop contains sequences of a set length, you can assign each value inside its sequence to its own value.\n",
    "\n",
    "That probably sounds confusing, but let's look at an example."
   ]
  },
  {
   "cell_type": "code",
   "execution_count": null,
   "metadata": {},
   "outputs": [],
   "source": [
    "print(\"Hello, would you like to see our menu?\\n\")\n",
    "\n",
    "# Our list contains lists!\n",
    "# Each interior list contains exactly two items and has the same format: food item and price.\n",
    "menu = [\n",
    "    [\"hamborgar\", 10],\n",
    "    [\"chezborgar\", 12],\n",
    "    [\"choccy milk\", 3],\n",
    "    [\"milkshake\", 5]\n",
    "]\n",
    "\n",
    "# Add a different variable name for each item.\n",
    "for item, price in menu:\n",
    "    print(\"A \" + item + \" costs \" + str(price) + \" dollars.\")"
   ]
  },
  {
   "cell_type": "markdown",
   "metadata": {},
   "source": [
    "You can still use a single variable name to access the entire sequence, but this should give you a little more clarity in specific situations."
   ]
  },
  {
   "cell_type": "code",
   "execution_count": null,
   "metadata": {},
   "outputs": [],
   "source": [
    "for item in menu:\n",
    "    print(item)"
   ]
  },
  {
   "cell_type": "markdown",
   "metadata": {},
   "source": [
    "### Infinite `while` Loops\n",
    "`for` loops will always stop eventually. The same cannot be said for `while` loops.\n",
    "\n",
    "> If a `while` loop is constructed incorrectly, it may run infinitely!\n",
    "\n",
    "You never want a loop to run infinitely. At best, it just stalls the program: it will never progress past the loop. At worst, you may be creating data that's absurdly large, like adding items to a list until your computer can't store the list at all!\n",
    "\n",
    "See if you can understand why this `while` loop is infinite, then open this tag for the answer.\n",
    "\n",
    "<details>\n",
    "    <summary>Answer</summary>\n",
    "\n",
    "Our condition is expecting that `ant` increases in value each iteration, such that it eventually surpasses 20. However, `ant` is never changed during the loop, so it is always 0. `0 < 20` is `True`, so our condition is always `True`!\n",
    "\n",
    "</details>"
   ]
  },
  {
   "cell_type": "code",
   "execution_count": null,
   "metadata": {},
   "outputs": [],
   "source": [
    "print(\"Say, Argus would you like to hear a story? So these ants have to move a pile of grain over the mountain, so...\")\n",
    "ant = 0\n",
    "while ant < 20:\n",
    "    print(\"an ant takes a grain, moves it over the mountain, and comes back...\")"
   ]
  },
  {
   "cell_type": "markdown",
   "metadata": {},
   "source": [
    "Now try this one. Don't check your answer until after you've figured it out!\n",
    "\n",
    "<details>\n",
    "    <summary>Answer</summary>\n",
    "\n",
    "Like before, our condition expects `score` to increase. We're playing this \"game\" until we score 10 points. We can check that `score` is indeed changing - unfortunately, because we keep losing (and therefore lowering our score), we're never going to achieve our end condition of `score < 10`!\n",
    "\n",
    "</details>"
   ]
  },
  {
   "cell_type": "code",
   "execution_count": null,
   "metadata": {},
   "outputs": [],
   "source": [
    "\n",
    "print(\"I win if I get to 10 points but if I lose I get -1 points.\")\n",
    "score = 0\n",
    "while score < 10:\n",
    "    print(\"Oh no i lost\")\n",
    "    score -= 1\n",
    "    print(\"Current score: \" + str(score))"
   ]
  },
  {
   "cell_type": "markdown",
   "metadata": {},
   "source": [
    "`while` loops can become pretty complex, but the problems that cause an infinite loop usually aren't. For this class, an infinite `while` loop is caused by an unachievable condition, which is usually caused by one of two things, as demonstrated before.\n",
    "\n",
    "> Infinite `while` loops are caused by **a condition that is never achieved**. The most common causes of unachievable conditions are:\n",
    "> * The condition variable is never updated.\n",
    "> * The boolean expression is written incorrectly or the condition variable is updated incorrectly.\n",
    "\n",
    "Our programs need to end! Make sure to test all your programs thoroughly, especially as you start writing more and more complex code with these structures you're learning."
   ]
  }
 ],
 "metadata": {
  "kernelspec": {
   "display_name": "env",
   "language": "python",
   "name": "python3"
  },
  "language_info": {
   "codemirror_mode": {
    "name": "ipython",
    "version": 3
   },
   "file_extension": ".py",
   "mimetype": "text/x-python",
   "name": "python",
   "nbconvert_exporter": "python",
   "pygments_lexer": "ipython3",
   "version": "3.12.0"
  }
 },
 "nbformat": 4,
 "nbformat_minor": 2
}
