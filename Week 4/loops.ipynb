{
 "cells": [
  {
   "cell_type": "markdown",
   "metadata": {},
   "source": [
    "<a href=\"https://colab.research.google.com/github/GamerNerd-i/CMSI-1010_Recitation-Examples/blob/main/Week%204/loops.ipynb\" target=\"_parent\"><img src=\"https://colab.research.google.com/assets/colab-badge.svg\" alt=\"Open In Colab\"/></a>"
   ]
  },
  {
   "cell_type": "markdown",
   "metadata": {},
   "source": [
    "# Loops\n",
    "Humans aren't always good at doing repetitive tasks. Even if the task is simple, humans get tired, or bored, and can still make mistakes. Thankfully, computers are great at it! It's one of their strengths, and loops are the way that we take advantage of those strengths.\n",
    "\n",
    "> Python has two types of loops: `while` loops and `for` loops. They both repeat a task until a specific condition is met -- or until they crash.\n",
    "\n",
    "Let's get started!"
   ]
  },
  {
   "cell_type": "markdown",
   "metadata": {},
   "source": [
    "## `while` Loops\n",
    "Have you ever needed to do something where you just \"try it until it works\"? For example, if you have a lever or something that *seems* to be stuck, but you don't want to break it, you're not going to use your full power immediately. You'd try it multiple times and give it a little more power each time *until* you give up, the lever gives, or something breaks (hopefully not the last one).\n",
    "\n",
    "That's the same logic behind `while` loops.\n",
    "\n",
    "> `while` loops run as long as their condition is `True`. They are helpful for conditions with an **uncertain** ending.\n",
    "\n",
    "To see what I mean here, let's write some sample code to model this example!"
   ]
  },
  {
   "cell_type": "markdown",
   "metadata": {},
   "source": [
    "### `while` Syntax"
   ]
  },
  {
   "cell_type": "code",
   "execution_count": null,
   "metadata": {},
   "outputs": [],
   "source": [
    "import random\n",
    "\n",
    "power = 1\n",
    "lever_resistance = random.randint(1,15)\n",
    "# This function gives us a random number from 1 to 10, inclusive.\n",
    "\n",
    "while power < lever_resistance:\n",
    "    print(\"Applying \" + str(power) + \" power!\")\n",
    "    power += 1\n",
    "\n",
    "print(\"The lever got unstuck! It had a resistance of \" + str(lever_resistance))"
   ]
  },
  {
   "cell_type": "markdown",
   "metadata": {},
   "source": [
    "As with most Python code, you might be able to describe what this loop does just by reading it like a sentence: *While power is less than lever resistance, increase power by 1.* If you rearrange that sentence, you'll notice that it says exactly what we said earlier, just with an actual numerical value: *Increase power by 1 until power is greater than or equal to lever resistance.* This has the same meaning as our original sentence, but Python has `while` loops, not `until` loops, so it's a little less helpful in reference to writing code.\n",
    "\n",
    "Let's take a look at the syntax.\n",
    "\n",
    "1. The `while` keyword marks the start of the loop.\n",
    "2. The loop's **condition** immediately follows after the `while`. Just like `if` and `elif` statements' conditions, the `while` loop's condition must evaluate to a boolean.\n",
    "3. Any code indented underneath the `while` loop becomes part of its **block.** (Technically, block isn't an *official* term, but everybody uses it.) If you remember [scope](https://colab.research.google.com/github/GamerNerd-i/CMSI-1010_Recitation-Examples/blob/main/Week%203/scope.ipynb), you'll notice that this **block** is local scope for the loop itself!\n",
    "\n",
    "Because of the randomness, we don't know how tough the lever is. We don't know how much `power` to apply until to beat `lever_resistance`, so we just slowly apply more and more power until we're through. This is what we mean by an **uncertain condition.** You might also notice that the `while condition:` statement looks a lot like an `if`/`elif` statement. They do the same thing: in both cases, Python checks the `condition`. If it's `True`, then the block underneath gets run.\n",
    "\n",
    "> Each time a loop's block is run, we say that the loop has completed one **iteration.**\n",
    "\n",
    "This will also apply to `for` loops. Additionally, the use of loops itself is also called *iteration*, or. We will say that `for` loops in particular *iterate* over data like lists: more on those next week!\n",
    "\n",
    "Although it's not too important now, we use the number of *iterations* to check how efficient our loops are. If our loop has to go through many *iterations*, we should probably see if there's a more efficient way to do things!"
   ]
  },
  {
   "cell_type": "markdown",
   "metadata": {},
   "source": [
    "## `for` Loops\n",
    "> `for` loops run once for every item in a sequence; in other words, they **iterate over** sequences. They are helpful for conditions with a **determined** ending.\n",
    "\n",
    "> A sequence that a `for` loop can read is said to be **iterable**.\n",
    "\n",
    "Sequences are groups of data collected in one place. For example, you've already worked with strings. Although strings appear to be one \"unit\", strings are actually sequences of individual characters under the hood. You'll also be briefly introduced to *lists* in this section, which are just sequences of various data, and the most common use case for `for` loops.\n",
    "\n",
    "Let's take a look now.\n",
    "\n",
    "### `for` Syntax"
   ]
  },
  {
   "cell_type": "code",
   "execution_count": null,
   "metadata": {},
   "outputs": [],
   "source": [
    "# This is a list! Notice that we've gathered a bunch of strings under the same variable name, encased in brackets.\n",
    "# You'll learn about lists and other sequences in-depth in Week 5.\n",
    "names = [\"Deckard\", \"Lorath\", \"Donan\", \"Kulle\", \"Ramaladni\"]\n",
    "\n",
    "for name in names:\n",
    "    print(\"Hello \" + name + \", nice to meet you!\")"
   ]
  },
  {
   "cell_type": "markdown",
   "metadata": {},
   "source": [
    "Let's take advantage of Python's super-readable code again to see what we're dealing with: *For every name in the list of names, print \"Hello (name), nice to meet you!\"* Because our list is of a finite size, we know that our loop will stop once it goes through everything in the list: we have a **determined** ending.\n",
    "\n",
    "There's a little more syntax to think about here, so let's go over it:\n",
    "\n",
    "1. The `for` keyword marks the start of the loop.\n",
    "2. `names` is an sequence that we want to iterate over. The loop will run once for every item in the sequence.\n",
    "3. `name` is a local variable created only for use inside the loop. **Each iteration, it holds the value of the next item in the sequence.**\n",
    "4. As before, the loop's block is run once on each iteration.\n",
    "\n",
    "#3 is very important, and a core part of what makes `for` loops so helpful! In this example, during the first iteration `name == \"Deckard\"`. During the second iteration `name == \"Lorath\"`, and so on, until `name == \"Ramaladni\"` on the last iteration. You can confirm this with the output: it prints each name once."
   ]
  }
 ],
 "metadata": {
  "kernelspec": {
   "display_name": "env",
   "language": "python",
   "name": "python3"
  },
  "language_info": {
   "codemirror_mode": {
    "name": "ipython",
    "version": 3
   },
   "file_extension": ".py",
   "mimetype": "text/x-python",
   "name": "python",
   "nbconvert_exporter": "python",
   "pygments_lexer": "ipython3",
   "version": "3.12.0"
  }
 },
 "nbformat": 4,
 "nbformat_minor": 2
}
