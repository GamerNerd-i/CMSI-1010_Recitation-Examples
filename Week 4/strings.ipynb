{
 "cells": [
  {
   "cell_type": "markdown",
   "metadata": {},
   "source": [
    "<a href=\"https://colab.research.google.com/github/GamerNerd-i/CMSI-1010_Recitation-Examples/blob/main/Week%204/strings.ipynb\" target=\"_parent\"><img src=\"https://colab.research.google.com/assets/colab-badge.svg\" alt=\"Open In Colab\"/></a>"
   ]
  },
  {
   "cell_type": "markdown",
   "metadata": {},
   "source": [
    "# Strings\n",
    "By now, you've already used strings quite a lot, but for completeness, we'll redefine them here.\n",
    "\n",
    "> Strings are a data type that represent text.\n",
    "\n",
    "That's pretty much it, but that's not all you should know about them. "
   ]
  },
  {
   "cell_type": "markdown",
   "metadata": {},
   "source": [
    "## String Operations\n",
    "### Concatenation\n",
    "Even if you haven't been calling it concatenation, you've already used this string technique.\n",
    "\n",
    "> **Concatenation** means putting multiple strings together into longer strings.\n",
    "\n",
    "> Strings are concatenated by using the `+` operator.\n",
    "\n",
    "Simple as that."
   ]
  },
  {
   "cell_type": "code",
   "execution_count": null,
   "metadata": {},
   "outputs": [],
   "source": [
    "name = \"Jonathan\"\n",
    "greeting = \"Hello \" + name + \"!\"\n",
    "\n",
    "print(greeting)"
   ]
  },
  {
   "cell_type": "markdown",
   "metadata": {},
   "source": [
    "Okay, that's not ALL you need to know. The crucial thing about concatenation is that it lets us display information of other data types within more informative strings without losing the previous information.\n",
    "\n",
    "For example, when you print something like a number without concatenation, you'd just get a number. This isn't a problem with one number, but you're unlikely to have one number. With concatenation, it's easy to label your numbers so you know exactly what they are."
   ]
  },
  {
   "cell_type": "code",
   "execution_count": null,
   "metadata": {},
   "outputs": [],
   "source": [
    "def get_stats(numbers):\n",
    "    # Don't worry about some of the stuff used in this function for now.\n",
    "    # Just know that it gives back the mean, median, maximum, and minimum values of a list of numbers.\n",
    "    \n",
    "    list_size = len(numbers)\n",
    "    \n",
    "    mean = sum(numbers) / list_size\n",
    "    median = sorted(numbers)[list_size // 2]\n",
    "    max = max(numbers)\n",
    "    min = min(numbers)\n",
    "    \n",
    "    # You should, however, remember that functions can have multiple returns.\n",
    "    return mean, median, max, min\n",
    "\n",
    "random_numbers = [6, 20, 10, 4, 9]\n",
    "\n",
    "# With this, we just see the numbers printed.\n",
    "# That's okay if we know exactly the order in which the function gives us the values,\n",
    "## but we won't always, or we may forget while looking at the output\n",
    "print(get_stats(random_numbers))\n",
    "print()\n",
    "\n",
    "# Let's format these numbers into something nice and readable.\n",
    "random_mean,random_median, random_max, random_min = get_stats(random_numbers)\n",
    "\n",
    "print(\"Mean of \" + str(random_numbers) + \": \" + str(random_mean))\n",
    "print(\"Median of \" + str(random_numbers) + \": \" + str(random_median))\n",
    "print(\"Maximum of \" + str(random_numbers) + \": \" + str(random_max))\n",
    "print(\"Minimum of \" + str(random_numbers) + \": \" + str(random_min))"
   ]
  },
  {
   "cell_type": "markdown",
   "metadata": {},
   "source": [
    "One thing to keep in mind with concatenation, which you have also probably discovered, but bears repeating.\n",
    "\n",
    "> Only strings can be concatenated to other strings.\n",
    "\n",
    "Information of other data types, such as `random_numbers` (list) and `random_mean`, `random_median`, `random_max`, and `random_min` (numbers), must first be casted to a string by wrapping them in `str()`."
   ]
  },
  {
   "cell_type": "markdown",
   "metadata": {},
   "source": [
    "### Multiplication\n",
    "You're less likely to have used multiplication, but it's also pretty self-explanatory.\n",
    "\n",
    "> String multiplication duplicates the string a specified number of times and concatenates them together.\n",
    "\n",
    "> Strings are multiplied with the `*` operator."
   ]
  },
  {
   "cell_type": "code",
   "execution_count": null,
   "metadata": {},
   "outputs": [],
   "source": [
    "greeting = \"Hello! \"\n",
    "\n",
    "print(greeting * 5)\n",
    "# It also works the other way, just like numerical multiplication.\n",
    "print(5 * greeting)"
   ]
  },
  {
   "cell_type": "markdown",
   "metadata": {},
   "source": [
    "Note that, of course, you can only a multiply a string and an integer. That means no decimals. Negatives are *technically* okay, but they give you an empty string output so it's not really helpful."
   ]
  },
  {
   "cell_type": "code",
   "execution_count": null,
   "metadata": {},
   "outputs": [],
   "source": [
    "farewell = \"I'm gone! \"\n",
    "print(farewell * -2)"
   ]
  },
  {
   "cell_type": "markdown",
   "metadata": {},
   "source": [
    "## Substrings, Indexing, and Slicing\n",
    "### Substrings\n",
    "> A **substring** is a specific segment of a larger string.\n",
    "\n",
    "For example, if we have a string `\"I like trains\"`, each of the words `\"I\"`, `\"like\"`, and `\"trains\"` are valid substrings. `\"I like\"` and `\"like trains\"` are also valid substrings. `\"ke tr\"`, though nonsensical would also be a valid substring. `\"I trains\"` is *not* a valid substring because, even though all the characters exist in the original string, they never appear in the string *in that order*.\n",
    "\n",
    "To quickly test whether one string is a substring of another, you can use the `in` keyword. The entire expression will become a boolean."
   ]
  },
  {
   "cell_type": "code",
   "execution_count": null,
   "metadata": {},
   "outputs": [],
   "source": [
    "word = \"macuahuitl\" # If you're curious, this is a Mesoamerican greatsword.\n",
    "\n",
    "print(\"mac\" in word)\n",
    "print(\"hui\" in word)\n",
    "print(\"i\" in word)\n",
    "print(\"\" in word) # This is true! The empty string exists in every string.\n",
    "print(\"not in the word\" in word)"
   ]
  },
  {
   "cell_type": "markdown",
   "metadata": {},
   "source": [
    "In informal language, if we're extracting a substring we might say that we are *substringing* it from the original string. For example, I might say that I can \"substring `mac` from `macuahuitl`\". **Keep in mind that this is informal language and may not be understood by everyone.**"
   ]
  },
  {
   "cell_type": "markdown",
   "metadata": {},
   "source": [
    "### Indexing and Slicing\n",
    "Indexing and slicing are both techniques for getting a substring from a larger string.\n",
    "\n",
    "> **Indexing** obtains a single character from a string, based on its position.\n",
    "\n",
    "> **Slicing** obtains a substring of any length from a string, including empty or single-character strings.\n",
    "\n",
    "Why would we want to do this? Maybe you're extracting someone's first and last names from their full name. Or maybe you have a secret code where you have to piece together certain words from a nonsensical sentence.\n",
    "\n",
    "For a real-world example, your DNA is encoded by 4 bases represented by A, C, G, and T, so DNA sequences are represented by long strings of just these 4 letters! With indexing and slicing, you can identify which combination occurs at different positions.\n",
    "\n",
    "We're getting ahead of ourselves, though.\n",
    "\n",
    "> Both indexing and slicing are accomplished by using square brackets on a string: `str_name[index]`.\n",
    "> * **Indexing** only requires a single `index`.\n",
    "> * **Slicing** requires two indices, separated by `:`, to mark the beginning and end of the substring: `str_name[begin:end]`.\n",
    "\n",
    "Oh, and one more thing about ALL Python indices:\n",
    "\n",
    "> Python uses **zero-indexing**, meaning that indices **start at 0**. The first item in a sequence is at index 0, the second is at index 1, etc. In general, *the `n`th item in a sequence can be found at index `n-1`*.\n",
    "\n",
    "Let's see it in action."
   ]
  },
  {
   "cell_type": "code",
   "execution_count": null,
   "metadata": {},
   "outputs": [],
   "source": [
    "amazing = \"supercalifragilsiticespialidocious\"\n",
    "# Wow, writing that out IS something quite atrocious...\n",
    "\n",
    "print(\"What's the letter at index 20 of \" + amazing + \"?\")\n",
    "print(amazing[20] + \"\\n\")\n",
    "\n",
    "print(\"What is the slice at indices 13-20?\")\n",
    "print(amazing[13:20])"
   ]
  },
  {
   "cell_type": "markdown",
   "metadata": {},
   "source": [
    "Notice that the character `amazing[20]` is excluded from the substring `amazing[13:20]`. The indices `begin:end` for slicing follow the same rules as `range()`. That is, the substring will *include `begin`* and *exclude `end`*. \n",
    "\n",
    "> If you need a refresher, the `range()` function was covered in [this notebook about loops](https://github.com/GamerNerd-i/CMSI-1010_Recitation-Examples/blob/main/Week%203/loops.ipynb).\n",
    "\n",
    "#### Negative Indices\n",
    "> Negative numbers are valid indices for slicing and indexing, and will count from the end of the string.\n",
    "\n",
    "The index -1 represents the last letter, -2 is the second-to-last, and so on."
   ]
  },
  {
   "cell_type": "code",
   "execution_count": null,
   "metadata": {},
   "outputs": [],
   "source": [
    "print(\"What is the 5th-to-last letter?\")\n",
    "print(amazing[-5] + \"\\n\")\n",
    "\n",
    "print(\"What do you get if you chop off the first and last 4 letters?\")\n",
    "print(amazing[4:-4])"
   ]
  },
  {
   "cell_type": "markdown",
   "metadata": {},
   "source": [
    "Note that, because of zero-indexing, *the `n`th-to-last item is actually at index `-n`*. Don't get your positive and negative indexing mixed up!"
   ]
  },
  {
   "cell_type": "markdown",
   "metadata": {},
   "source": [
    "#### Slicing Defaults\n",
    "Slicing has an additional shortcut to be aware of.\n",
    "\n",
    "> When slicing a string, leave either side of `:` empty will extend the slice to the start or end of the string.\n",
    "\n",
    "Examples follow. Again, note that these still follow the end-exclusion rule."
   ]
  },
  {
   "cell_type": "code",
   "execution_count": null,
   "metadata": {},
   "outputs": [],
   "source": [
    "print(\"What are the last 5 letters?\")\n",
    "print(amazing[-5:] + \"\\n\")\n",
    "\n",
    "print(\"What are the first 8 letters?\")\n",
    "print(amazing[:8] + \"\\n\")\n",
    "\n",
    "# Don't forget that indices are just ints, so we can use math expressions to dynamically fill them if necessary.\n",
    "print(\"What 4 letters are in the middle?\")\n",
    "print(amazing[(len(amazing) // 2) - 3 : (len(amazing) // 2) + 3])"
   ]
  },
  {
   "cell_type": "markdown",
   "metadata": {},
   "source": [
    "**Bonus Question!** What does `amazing[:]` give us?\n",
    "\n",
    "<details>\n",
    "    <summary>Answer</summary>\n",
    "\n",
    "The substring extends to both the beginning and end of the target string. In other words, we just get the whole string!\n",
    "\n",
    "</details>"
   ]
  },
  {
   "cell_type": "code",
   "execution_count": null,
   "metadata": {},
   "outputs": [],
   "source": []
  }
 ],
 "metadata": {
  "kernelspec": {
   "display_name": "env",
   "language": "python",
   "name": "python3"
  },
  "language_info": {
   "codemirror_mode": {
    "name": "ipython",
    "version": 3
   },
   "file_extension": ".py",
   "mimetype": "text/x-python",
   "name": "python",
   "nbconvert_exporter": "python",
   "pygments_lexer": "ipython3",
   "version": "3.12.0"
  }
 },
 "nbformat": 4,
 "nbformat_minor": 2
}
