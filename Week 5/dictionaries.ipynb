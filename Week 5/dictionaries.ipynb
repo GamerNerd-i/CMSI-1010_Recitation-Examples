{
 "cells": [
  {
   "cell_type": "markdown",
   "metadata": {},
   "source": [
    "<a href=\"https://colab.research.google.com/github/GamerNerd-i/CMSI-1010_Recitation-Examples/blob/main/Week%205/dictionaries.ipynb\" target=\"_parent\"><img src=\"https://colab.research.google.com/assets/colab-badge.svg\" alt=\"Open In Colab\"/></a>"
   ]
  },
  {
   "cell_type": "markdown",
   "metadata": {},
   "source": [
    "> In this notebook, the terms \"data structure\" and \"collection\" refer to the same thing. Check out the [data structure intro notebook](https://colab.research.google.com/github/GamerNerd-i/CMSI-1010_Recitation-Examples/blob/main/Week%205/data_structures.ipynb) for more details!"
   ]
  },
  {
   "cell_type": "markdown",
   "metadata": {},
   "source": [
    "# Dictionaries\n",
    "Dictionaries are a more complex collection than lists or tuples in that they have potential to be more descriptive than either. They also serve a different use case.\n",
    "\n",
    "> A **dictionary** is a mutable data structure that stores items in key-value pairs.\n",
    "\n",
    "Python's dictionaries are like real dictionaries in that you look up a word (the key) and find its entry (the value), which might include definitions, pronunciations, and other informatin. The word and its entry make up a **key-value pair**."
   ]
  },
  {
   "cell_type": "markdown",
   "metadata": {},
   "source": [
    "## Syntax\n",
    "### Creating Dictioonaries\n",
    "> Dictionaries are created with curly braces (`{}`). Each key-value pair `key:value` is separated by commas (`,`).\n",
    "\n",
    "Like lists, newlines are okay as well, as long as the commas are still there!\n",
    "\n",
    "The difference between lists/tuples and dictionaries is, of course, that each item contains *two inputs*: the `key` and the `value`."
   ]
  },
  {
   "cell_type": "code",
   "execution_count": null,
   "metadata": {},
   "outputs": [],
   "source": [
    "empty_dict = {}\n",
    "scores = {\"josh\": 100, \"peter\": 52, \"alice\": 200}\n",
    "\n",
    "# Newlines are good and especially helpful if storing other collections!\n",
    "dict_of_collections = {\n",
    "    \"list\": [1,2,3],\n",
    "    \"tuple\": (True, False),\n",
    "    \"dict\": {\"josh\": 100, \"peter\": 52, \"alice\": 200}\n",
    "}"
   ]
  },
  {
   "cell_type": "markdown",
   "metadata": {},
   "source": [
    "Values can be anything. Keys can be anything **except** collections. The types don't even have to match!"
   ]
  },
  {
   "cell_type": "markdown",
   "metadata": {},
   "source": [
    "\n",
    "Each word has one and only one entry in a physical dictionary, even though they might have multiple definitions. This applies to Python's dictionaries, too.\n",
    "\n",
    "> A dictionary **cannot** have duplicate **keys**.\n",
    "\n"
   ]
  },
  {
   "cell_type": "markdown",
   "metadata": {},
   "source": [
    "## Syntax\n",
    "### Creating Lists\n",
    "> Lists are created with square brackets (`[]`), with each different item separated by commas (`,`) inside.\n",
    "\n",
    "For larger items or people who like vertical lists, newlines are also valid, as long as they're still comma-separated.\n",
    "\n",
    "Lists can contain anything, even other collections, and have no restrictions on mixing data types. A list containing a mix of data types isn't usually that helpful, but something to keep in mind.\n",
    "\n",
    "Let's take a look!"
   ]
  },
  {
   "cell_type": "code",
   "execution_count": null,
   "metadata": {},
   "outputs": [],
   "source": [
    "empty_list = []\n",
    "string_list = [\"yarn\", \"thread\", \"rope\", \"cord\"]\n",
    "mixed_list = [100.0, \"rope\", [\"Yo\", \"what\", \"the\"]]\n",
    "\n",
    "# Separating items into lines is still fine, as long as commas are included.\n",
    "# Also, keep track of which brackets are paired together!\n",
    "list_list = [[1, 2, 3],\n",
    "             [2, 3, 4],\n",
    "             [5, 6, 7]]\n",
    "\n",
    "# Feel free to change the collection in this loop.\n",
    "for item in list_list: \n",
    "    print(item)"
   ]
  },
  {
   "cell_type": "markdown",
   "metadata": {},
   "source": [
    "Square brackets will create a list any time. They don't necessarily need a name:"
   ]
  },
  {
   "cell_type": "code",
   "execution_count": null,
   "metadata": {},
   "outputs": [],
   "source": [
    "for i in [0, 1, 2, 3, 4]:\n",
    "    print(i)"
   ]
  },
  {
   "cell_type": "markdown",
   "metadata": {},
   "source": [
    "Keep this in mind. For example, you might decide to formulate a list only at the `return` statement of a function, if that's somehow more concise than building the list elsewhere."
   ]
  },
  {
   "cell_type": "markdown",
   "metadata": {},
   "source": [
    "### Accessing and Modifying Items\n",
    "> Individual list items can be **indexed** with `list_name[index]`.\n",
    "\n",
    "> To get a sublist, you can **slice** with `list_name[start_index:end_index]`.\n",
    "\n",
    "Here are some examples. They might look [a little familiar...](https://colab.research.google.com/github/GamerNerd-i/CMSI-1010_Recitation-Examples/blob/main/Week%204/strings.ipynb)"
   ]
  },
  {
   "cell_type": "code",
   "execution_count": null,
   "metadata": {},
   "outputs": [],
   "source": [
    "string_list = [\"yarn\", \"thread\", \"rope\", \"cord\"]\n",
    "list_list = [[1, 2, 3],\n",
    "             [2, 3, 4],\n",
    "             [5, 6, 7]]\n",
    "\n",
    "# Indexing\n",
    "print(string_list[2])\n",
    "print(list_list[0])\n",
    "# Negative indices are also valid! They start from the end.\n",
    "print(string_list[-1])\n",
    "# If you have lists inside lists, add more brackets for each \"layer\" deep you're going.\n",
    "print(list_list[1][1])\n",
    "\n",
    "# Slicing\n",
    "print(string_list[1:3])\n",
    "# Remember that an empty index means \"go to the beginning/end\"!\n",
    "print(list_list[1:])\n",
    "print(string_list[:2])"
   ]
  },
  {
   "cell_type": "markdown",
   "metadata": {},
   "source": [
    "Isn't this the same syntax as indexing and slicing strings? Yes! That's because strings are, to Python, a special type of list that only contains characters!"
   ]
  },
  {
   "cell_type": "code",
   "execution_count": null,
   "metadata": {},
   "outputs": [],
   "source": [
    "what_you_see = \"string\"\n",
    "what_python_sees = ['s', 't', 'r', 'i', 'n', 'g']"
   ]
  },
  {
   "cell_type": "markdown",
   "metadata": {},
   "source": [
    "Remember that lists (and strings) are **zero-indexed**, which means that you start counting indices at zero. If you try to grab an index that doesn't exist, you'll throw an error."
   ]
  },
  {
   "cell_type": "code",
   "execution_count": null,
   "metadata": {},
   "outputs": [],
   "source": [
    "string_list = [\"yarn\", \"thread\", \"rope\", \"cord\"]\n",
    "print(string_list[4])"
   ]
  },
  {
   "cell_type": "markdown",
   "metadata": {},
   "source": [
    "### List Operations\n",
    "#### Updating by Index\n",
    "> Individual items in a list can be updated by index with `list_name[index] = new_value`.\n",
    "\n",
    "Notice that we're just \"reassigning\" the value of `list_name[index]`: we're crossing out the old one and adding a new one in its place. The sequence of items will remain the same."
   ]
  },
  {
   "cell_type": "code",
   "execution_count": null,
   "metadata": {},
   "outputs": [],
   "source": [
    "string_list = [\"yarn\", \"thread\", \"rope\", \"cord\"]\n",
    "string_list[0] = \"wire\"\n",
    "print(string_list)"
   ]
  },
  {
   "cell_type": "markdown",
   "metadata": {},
   "source": [
    "#### Concatenation and Multiplication\n",
    "> Lists have the same operators as strings: concatenation (`+`) and multiplication (`*`).\n",
    "\n",
    "(Or, well, more accurately, strings have list operators.)\n",
    "\n",
    "You're significantly more likely to use `+` than `*`."
   ]
  },
  {
   "cell_type": "code",
   "execution_count": null,
   "metadata": {},
   "outputs": [],
   "source": [
    "string_list = [\"yarn\", \"thread\", \"rope\", \"cord\"]\n",
    "not_string_list = [\"line\", \"angle\"]\n",
    "\n",
    "print(string_list + not_string_list)\n",
    "print(not_string_list * 2)"
   ]
  },
  {
   "cell_type": "markdown",
   "metadata": {},
   "source": [
    "#### Membership Checking\n",
    "> You can check if `item` exists in `list` by using just that: `item in list`.\n",
    "\n",
    "This is also something we saw with strings!\n",
    "\n",
    "`item in list` returns a boolean: `True` if the item was found, and `False` if it wasn't."
   ]
  },
  {
   "cell_type": "code",
   "execution_count": null,
   "metadata": {},
   "outputs": [],
   "source": [
    "string_list = [\"yarn\", \"thread\", \"rope\", \"cord\"]\n",
    "\n",
    "print(\"rope\" in string_list)\n",
    "print(\"wire\" in string_list)"
   ]
  },
  {
   "cell_type": "markdown",
   "metadata": {},
   "source": [
    "## Methods\n",
    "If it seems like your options for using lists is a bit limited, you'd be right. That's why there's a whole host of list methods to give programmers the functionality that they really need from lists."
   ]
  },
  {
   "cell_type": "markdown",
   "metadata": {},
   "source": [
    "### Modifying Lists\n",
    "#### Adding Items\n",
    "We have 2 methods available to add entirely new items to lists.\n",
    "\n",
    "> `list.append(item)` adds a single `item` to the end of `list`.\n",
    "\n",
    "> `list.extend(iterable)` adds every item in `iterable` to the end of `list`, in order.\n",
    "\n",
    "The crucial difference between these two methods and indexing is that these methods will *increase the size of the list*. We're often concerned about the length of a list, so knowing which methods alter the list in this way is important.\n",
    "\n",
    "Additionally, notice that you don't need to reassign the list: these methods edit the list \"in-place\". Many, but not all of them, do."
   ]
  },
  {
   "cell_type": "code",
   "execution_count": null,
   "metadata": {},
   "outputs": [],
   "source": [
    "string_list = [\"yarn\", \"thread\", \"rope\", \"cord\"]\n",
    "not_string_list = [\"line\", \"angle\"]\n",
    "\n",
    "string_list.append(\"wire\")\n",
    "print(string_list)\n",
    "\n",
    "string_list.extend(not_string_list)\n",
    "print(string_list)"
   ]
  },
  {
   "cell_type": "markdown",
   "metadata": {},
   "source": [
    "Note that `extend()` receives an *iterable*. This could be a list or any other collection we cover, or even a string! But passing a string to `extend()` makes the output a little strange."
   ]
  },
  {
   "cell_type": "code",
   "execution_count": null,
   "metadata": {},
   "outputs": [],
   "source": [
    "not_string_list = [\"line\", \"angle\"]\n",
    "\n",
    "not_string_list.extend(\"wire\")\n",
    "print(not_string_list)"
   ]
  },
  {
   "cell_type": "markdown",
   "metadata": {},
   "source": [
    "#### Removing Items\n",
    "We also have 2 main methods to remove items from lists.\n",
    "\n",
    "> `list.remove(item)` removes the first instance of `item` from `list` if it exists. If `item` doesn't exist, it throws an error.\n",
    "\n",
    "> `list.pop(index)` removes the item at `index` from `list` **and returns it**. If `index` is out of range, it throws an error.\n",
    "\n",
    "Both methods take an item out of the list, but choose their targets differently. `remove()` targets the first item that matches its input, while `pop()` targets an index. Depending on the situation, one might be more useful than the other based on your level of access."
   ]
  },
  {
   "cell_type": "code",
   "execution_count": null,
   "metadata": {},
   "outputs": [],
   "source": [
    "string_list = [\"yarn\", \"thread\", \"rope\", \"cord\"]\n",
    "\n",
    "string_list.remove(\"thread\")\n",
    "print(string_list)\n",
    "\n",
    "string_list.pop(1)\n",
    "print(string_list)"
   ]
  },
  {
   "cell_type": "markdown",
   "metadata": {},
   "source": [
    "Also note that `remove()` doesn't return anything, so the removed item is lost."
   ]
  },
  {
   "cell_type": "code",
   "execution_count": null,
   "metadata": {},
   "outputs": [],
   "source": [
    "string_list = [\"yarn\", \"thread\", \"rope\", \"cord\"]\n",
    "\n",
    "print(string_list.remove(\"thread\"))"
   ]
  },
  {
   "cell_type": "markdown",
   "metadata": {},
   "source": [
    " On the other hand, `pop()` returns the item that was removed from the list."
   ]
  },
  {
   "cell_type": "code",
   "execution_count": null,
   "metadata": {},
   "outputs": [],
   "source": [
    "string_list = [\"yarn\", \"thread\", \"rope\", \"cord\"]\n",
    "\n",
    "print(string_list.pop(2))"
   ]
  },
  {
   "cell_type": "markdown",
   "metadata": {},
   "source": [
    "Remember that if either method doesn't find the item they're looking for, they'll cause a crash!"
   ]
  },
  {
   "cell_type": "code",
   "execution_count": null,
   "metadata": {},
   "outputs": [],
   "source": [
    "string_list = [\"yarn\", \"thread\", \"rope\", \"cord\"]\n",
    "\n",
    "string_list.remove(\"Something that doesn't exist\")"
   ]
  },
  {
   "cell_type": "code",
   "execution_count": null,
   "metadata": {},
   "outputs": [],
   "source": [
    "string_list = [\"yarn\", \"thread\", \"rope\", \"cord\"]\n",
    "\n",
    "string_list.pop(4)"
   ]
  },
  {
   "cell_type": "markdown",
   "metadata": {},
   "source": [
    "#### Sorting Items\n",
    "> `list.sort()` sorts a list in ascending order.\n",
    "\n",
    "Hopefully, you know what \"ascending order\" is for numbers. For strings, it means alphabetical order! (*Technically* Python still uses numbers to determine alphabetical order, but that's not something you need to know.)"
   ]
  },
  {
   "cell_type": "code",
   "execution_count": null,
   "metadata": {},
   "outputs": [],
   "source": [
    "string_list = [\"yarn\", \"thread\", \"rope\", \"cord\"]\n",
    "string_list.sort()\n",
    "print(string_list)\n",
    "\n",
    "num_list = [12, 5, 2, 13, 12]\n",
    "num_list.sort()\n",
    "print(num_list)"
   ]
  },
  {
   "cell_type": "markdown",
   "metadata": {},
   "source": [
    "Keep in mind that the length and contents of the list remains the same while sorting. Only the order of items changes."
   ]
  },
  {
   "cell_type": "markdown",
   "metadata": {},
   "source": [
    "#### List Length\n",
    "> `len(list)` returns the number of items in `list`.\n",
    "\n",
    "Another one we saw with strings! We will often use `len()` as the input to a `range()` function, so that we can access items by index in a loop instead of directly."
   ]
  },
  {
   "cell_type": "code",
   "execution_count": null,
   "metadata": {},
   "outputs": [],
   "source": [
    "string_list = [\"yarn\", \"thread\", \"rope\", \"cord\"]\n",
    "\n",
    "for index in range(len(string_list)):\n",
    "    print(str(index) + \" contains \" + string_list[index])"
   ]
  },
  {
   "cell_type": "markdown",
   "metadata": {},
   "source": [
    "Keep in mind that **the highest index in a string or list is equal to `len() - 1`**. Also remember that both `range()` and indices start at 0 by default. `range(len(list))` will give you all the indices you need to access an entire list!"
   ]
  },
  {
   "cell_type": "markdown",
   "metadata": {},
   "source": [
    "## Tuples\n",
    "Recall that lists are *mutable*. You can change their items around. So is there a list-like data structure that is *immutable*? Yes!\n",
    "\n",
    "> A **tuple** is an *immutable* data structure that stores multiple data types in order.\n",
    "\n",
    "This definition is pretty much identical to the definition we gave of lists, except for the fact that they're immutable. Think of tuples as read-only lists, which you create using parentheses (`()`).\n",
    "\n",
    "Anything you can do with a list, you can do with a tuple, **except** for operations that would change the tuple.\n",
    "\n",
    "> Notice that *reassigning* a tuple is fine. Technically, you're deleting the existing tuple and replacing it with a brand-new one, *not* changing the existing tuple."
   ]
  },
  {
   "cell_type": "code",
   "execution_count": null,
   "metadata": {},
   "outputs": [],
   "source": [
    "# Creating tuples: Notice the parentheses!\n",
    "symbols = (\"A\", 1, True, \"B\", 2)\n",
    "\n",
    "# Accesing tuple items: Notice that it's still square brackets!\n",
    "print(symbols[3])\n",
    "print(symbols[2:4])\n",
    "print(symbols[:3])"
   ]
  },
  {
   "cell_type": "markdown",
   "metadata": {},
   "source": [
    "The following example edits a tuple, and will crash, just to demonstrate immutability."
   ]
  },
  {
   "cell_type": "code",
   "execution_count": null,
   "metadata": {},
   "outputs": [],
   "source": [
    "numbers = (1, 2, 3)\n",
    "numbers[0] = 9"
   ]
  },
  {
   "cell_type": "markdown",
   "metadata": {},
   "source": [
    "Just keep in mind the difference between \"editing\" a tuple and \"reassigning\" it. Reassignment is fine (but not recommended)!"
   ]
  },
  {
   "cell_type": "code",
   "execution_count": null,
   "metadata": {},
   "outputs": [],
   "source": [
    "numbers = (1, 2, 3)\n",
    "print(numbers)\n",
    "\n",
    "numbers = (4, 5, 6)\n",
    "print(numbers)\n",
    "\n",
    "numbers = numbers + (7, 8, 9) # This is reassignment!\n",
    "print(numbers)\n",
    "\n",
    "numbers = numbers * 2 # And so is this!\n",
    "print(numbers)"
   ]
  },
  {
   "cell_type": "markdown",
   "metadata": {},
   "source": [
    "Additionally, any list methods above that would edit the list simply don't exist for tuples. These include:\n",
    "\n",
    "* `tuple.append()`\n",
    "* `tuple.extend()`\n",
    "* `tuple.remove()`\n",
    "* `tuple.pop()`\n",
    "* `tuple.sort()`\n",
    "\n",
    "The use case for tuples might seem harder to think about than lists, but there are plenty of times when we'd want a collection to be immutable. Just keep an eye out for them!"
   ]
  }
 ],
 "metadata": {
  "kernelspec": {
   "display_name": "env",
   "language": "python",
   "name": "python3"
  },
  "language_info": {
   "codemirror_mode": {
    "name": "ipython",
    "version": 3
   },
   "file_extension": ".py",
   "mimetype": "text/x-python",
   "name": "python",
   "nbconvert_exporter": "python",
   "pygments_lexer": "ipython3",
   "version": "3.12.5"
  }
 },
 "nbformat": 4,
 "nbformat_minor": 2
}
