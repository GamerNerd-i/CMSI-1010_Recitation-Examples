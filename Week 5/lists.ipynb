{
 "cells": [
  {
   "cell_type": "markdown",
   "metadata": {},
   "source": [
    "<a href=\"https://colab.research.google.com/github/GamerNerd-i/CMSI-1010_Recitation-Examples/blob/main/Week%205/lists.ipynb\" target=\"_parent\"><img src=\"https://colab.research.google.com/assets/colab-badge.svg\" alt=\"Open In Colab\"/></a>"
   ]
  },
  {
   "cell_type": "markdown",
   "metadata": {},
   "source": [
    "> In this notebook, the terms \"data structure\" and \"collection\" refer to the same thing. Check out the [data structure intro notebook](https://colab.research.google.com/github/GamerNerd-i/CMSI-1010_Recitation-Examples/blob/main/Week%205/data_structures.ipynb) for more details!"
   ]
  },
  {
   "cell_type": "markdown",
   "metadata": {},
   "source": [
    "# Lists and Tuples\n",
    "Out of the three data structures you'll be using in this class, lists are by far the simplest. They're exactly what they sound like. In fact, here's your definition:\n",
    "\n",
    "> A **list** is a *mutable* data structure that stores multiple data types in order.\n",
    "\n",
    "Remember that if a collection is *mutable*, you can change the information inside it. So a list is a group of information stored in a particular order that you can edit at any time. Just like your Amazon list, you can add things to your list, remove things, change the items or how many, and view individual pieces more closely.\n",
    "\n",
    "> If you're getting tutoring, you might hear one of the TA's call lists \"arrays.\" Most other languages use arrays instead of lists; they function very similarly with some differences that you don't need to know for this class. For now, think of them as the same thing."
   ]
  },
  {
   "cell_type": "markdown",
   "metadata": {},
   "source": [
    "## Syntax\n",
    "### Creating Lists\n",
    "> Lists are created with square brackets (`[]`), with each different item separated by commas (`,`) inside.\n",
    "\n",
    "For larger items or people who like vertical lists, newlines are also valid, as long as they're still comma-separated.\n",
    "\n",
    "Lists can contain anything, even other collections, and have no restrictions on mixing data types. A list containing a mix of data types isn't usually that helpful, but something to keep in mind.\n",
    "\n",
    "Let's take a look!"
   ]
  },
  {
   "cell_type": "code",
   "execution_count": null,
   "metadata": {},
   "outputs": [],
   "source": [
    "empty_list = []\n",
    "string_list = [\"yarn\", \"thread\", \"rope\", \"cord\"]\n",
    "mixed_list = [100.0, \"rope\", [\"Yo\", \"what\", \"the\"]]\n",
    "\n",
    "# Separating items into lines is still fine, as long as commas are included.\n",
    "# Also, keep track of which brackets are paired together!\n",
    "list_list = [[1, 2, 3],\n",
    "             [2, 3, 4],\n",
    "             [5, 6, 7]]\n",
    "\n",
    "# Feel free to change the collection in this loop.\n",
    "for item in list_list: \n",
    "    print(item)"
   ]
  },
  {
   "cell_type": "markdown",
   "metadata": {},
   "source": [
    "Square brackets will create a list any time. They don't necessarily need a name:"
   ]
  },
  {
   "cell_type": "code",
   "execution_count": null,
   "metadata": {},
   "outputs": [],
   "source": [
    "for i in [0, 1, 2, 3, 4]:\n",
    "    print(i)"
   ]
  },
  {
   "cell_type": "markdown",
   "metadata": {},
   "source": [
    "Keep this in mind. For example, you might decide to formulate a list only at the `return` statement of a function, if that's somehow more concise than building the list elsewhere."
   ]
  },
  {
   "cell_type": "markdown",
   "metadata": {},
   "source": [
    "### Accessing and Modifying Items\n",
    "> Individual list items can be **indexed** with `list_name[index]`.\n",
    "\n",
    "> To get a sublist, you can **slice** with `list_name[start_index:end_index]`.\n",
    "\n",
    "Here are some examples. They might look [a little familiar...](https://colab.research.google.com/github/GamerNerd-i/CMSI-1010_Recitation-Examples/blob/main/Week%204/strings.ipynb)"
   ]
  },
  {
   "cell_type": "code",
   "execution_count": null,
   "metadata": {},
   "outputs": [],
   "source": [
    "string_list = [\"yarn\", \"thread\", \"rope\", \"cord\"]\n",
    "list_list = [[1, 2, 3],\n",
    "             [2, 3, 4],\n",
    "             [5, 6, 7]]\n",
    "\n",
    "# Indexing\n",
    "print(string_list[2])\n",
    "print(list_list[0])\n",
    "# Negative indices are also valid! They start from the end.\n",
    "print(string_list[-1])\n",
    "# If you have lists inside lists, add more brackets for each \"layer\" deep you're going.\n",
    "print(list_list[1][1])\n",
    "\n",
    "# Slicing\n",
    "print(string_list[1:3])\n",
    "# Remember that an empty index means \"go to the beginning/end\"!\n",
    "print(list_list[1:])\n",
    "print(string_list[:2])"
   ]
  },
  {
   "cell_type": "markdown",
   "metadata": {},
   "source": [
    "Isn't this the same syntax as indexing and slicing strings? Yes! That's because strings are, to Python, a special type of list that only contains characters!"
   ]
  },
  {
   "cell_type": "code",
   "execution_count": null,
   "metadata": {},
   "outputs": [],
   "source": [
    "what_you_see = \"string\"\n",
    "what_python_sees = ['s', 't', 'r', 'i', 'n', 'g']"
   ]
  },
  {
   "cell_type": "markdown",
   "metadata": {},
   "source": [
    "Remember that lists (and strings) are **zero-indexed**, which means that you start counting indices at zero. If you try to grab an index that doesn't exist, you'll throw an error."
   ]
  },
  {
   "cell_type": "code",
   "execution_count": null,
   "metadata": {},
   "outputs": [],
   "source": [
    "string_list = [\"yarn\", \"thread\", \"rope\", \"cord\"]\n",
    "print(string_list[4])"
   ]
  },
  {
   "cell_type": "markdown",
   "metadata": {},
   "source": [
    "### Modifying Lists\n",
    "Like your shopping list, we want to be able to update lists as we work with them."
   ]
  },
  {
   "cell_type": "markdown",
   "metadata": {},
   "source": [
    "#### List Operations\n",
    "> Individual items in a list can be updated by index with `list_name[index] = new_value`.\n",
    "\n",
    "Notice that we're just \"reassigning\" the value of `list_name[index]`: we're crossing out the old one and adding a new one in its place. The sequence of items will remain the same."
   ]
  },
  {
   "cell_type": "code",
   "execution_count": null,
   "metadata": {},
   "outputs": [],
   "source": [
    "string_list = [\"yarn\", \"thread\", \"rope\", \"cord\"]"
   ]
  },
  {
   "cell_type": "markdown",
   "metadata": {},
   "source": [
    "\n",
    "Additionally, lists have the same operators as strings: concatenation (`+`) and multiplication (`*`). (Or, well, more accurately, strings have list operators.) You're significantly more likely to use `+` than `*`."
   ]
  },
  {
   "cell_type": "code",
   "execution_count": null,
   "metadata": {},
   "outputs": [],
   "source": [
    "string_list = [\"yarn\", \"thread\", \"rope\", \"cord\"]\n",
    "not_string_list = [\"line\", \"angle\"]\n",
    "\n",
    "print(string_list + not_string_list)\n",
    "print(not_string_list * 2)"
   ]
  },
  {
   "cell_type": "markdown",
   "metadata": {},
   "source": [
    "#### List Methods"
   ]
  },
  {
   "cell_type": "markdown",
   "metadata": {},
   "source": [
    "## Other List"
   ]
  },
  {
   "cell_type": "markdown",
   "metadata": {},
   "source": [
    "## Tuples\n",
    "Recall that lists are *mutable*. You can change their items around. So is there a list-like data structure that is *immutable*? Yes!\n",
    "\n",
    "> A **tuple** is an *immutable* data structure that stores multiple data types in order.\n",
    "\n",
    "This definition is pretty much identical to the definition we gave of lists, except for the fact that they're immutable. Think of tuples as read-only lists, which you create using parentheses (`()`).\n",
    "\n",
    "Anything you can do with a list, you can do with a tuple, **except** for operations that would change the tuple.\n",
    "\n",
    "> Notice that *reassigning* a tuple is fine. Technically, you're deleting the existing tuple and replacing it with a brand-new one, *not* changing the existing tuple."
   ]
  },
  {
   "cell_type": "code",
   "execution_count": null,
   "metadata": {},
   "outputs": [],
   "source": [
    "# Creating tuples: Notice the parentheses!\n",
    "symbols = (\"A\", 1, True, \"B\", 2)\n",
    "\n",
    "# Accesing tuple items: Notice that it's still square brackets!\n",
    "print(symbols[3])\n",
    "print(symbols[2:4])\n",
    "print(symbols[:3])"
   ]
  },
  {
   "cell_type": "markdown",
   "metadata": {},
   "source": [
    "The following example edits a tuple, and will crash, just to demonstrate immutability."
   ]
  },
  {
   "cell_type": "code",
   "execution_count": null,
   "metadata": {},
   "outputs": [],
   "source": [
    "numbers = (1, 2, 3)\n",
    "numbers[0] = 9"
   ]
  },
  {
   "cell_type": "markdown",
   "metadata": {},
   "source": [
    "Just keep in mind the difference between \"editing\" a tuple and \"reassigning\" it. Reassignment is fine (but not recommended)!"
   ]
  },
  {
   "cell_type": "code",
   "execution_count": null,
   "metadata": {},
   "outputs": [],
   "source": [
    "numbers = (1, 2, 3)\n",
    "print(numbers)\n",
    "\n",
    "numbers = (4, 5, 6)\n",
    "print(numbers)\n",
    "\n",
    "numbers = numbers + (7, 8, 9) # This is reassignment!\n",
    "print(numbers)\n",
    "\n",
    "numbers = numbers * 2 # And so is this!\n",
    "print(numbers)"
   ]
  },
  {
   "cell_type": "markdown",
   "metadata": {},
   "source": [
    "Additionally, any list methods above that would edit the list simply don't exist for tuples. These include:\n",
    "\n",
    "* `tuple.append()`\n",
    "* `tuple.extend()`\n",
    "* `tuple.remove()`\n",
    "* `tuple.pop()`\n",
    "* `tuple.sort()`\n",
    "\n",
    "The use case for tuples might seem harder to think about than lists, but there are plenty of times when we'd want a collection to be immutable. Just keep an eye out for them!"
   ]
  }
 ],
 "metadata": {
  "kernelspec": {
   "display_name": "env",
   "language": "python",
   "name": "python3"
  },
  "language_info": {
   "codemirror_mode": {
    "name": "ipython",
    "version": 3
   },
   "file_extension": ".py",
   "mimetype": "text/x-python",
   "name": "python",
   "nbconvert_exporter": "python",
   "pygments_lexer": "ipython3",
   "version": "3.12.0"
  }
 },
 "nbformat": 4,
 "nbformat_minor": 2
}
