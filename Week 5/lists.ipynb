{
 "cells": [
  {
   "cell_type": "markdown",
   "metadata": {},
   "source": [
    "<a href=\"https://colab.research.google.com/github/GamerNerd-i/CMSI-1010_Recitation-Examples/blob/main/Week%205/lists.ipynb\" target=\"_parent\"><img src=\"https://colab.research.google.com/assets/colab-badge.svg\" alt=\"Open In Colab\"/></a>"
   ]
  },
  {
   "cell_type": "markdown",
   "metadata": {},
   "source": [
    "> In this notebook, the terms \"data structure\" and \"collection\" refer to the same thing. Check out the [data structure intro notebook](https://colab.research.google.com/github/GamerNerd-i/CMSI-1010_Recitation-Examples/blob/main/Week%205/data_structures.ipynb) for more details!"
   ]
  },
  {
   "cell_type": "markdown",
   "metadata": {},
   "source": [
    "# Lists and Tuples\n",
    "Out of the three data structures you'll be using in this class, lists are by far the simplest. They're exactly what they sound like. In fact, here's your definition:\n",
    "\n",
    "> A **list** is a *mutable* data structure that stores multiple data types in order.\n",
    "\n",
    "Remember that if a collection is *mutable*, you can change the information inside it. So a list is a group of information stored in a particular order that you can edit at any time. Just like your Amazon list, you can add things to your list, remove things, change the items or how many, and view individual pieces more closely.\n",
    "\n",
    "> If you're getting tutoring, you might hear one of the TA's call lists \"arrays.\" Most other languages use arrays instead of lists; they function very similarly with some differences that you don't need to know for this class. For now, think of them as the same thing."
   ]
  },
  {
   "cell_type": "markdown",
   "metadata": {},
   "source": [
    "## Syntax\n",
    "### Creating Lists\n",
    "> Lists are created with square brackets (`[]`), with each different item separated by commas (`,`) inside.\n",
    "\n",
    "For larger items or people who like vertical lists, newlines are also valid, as long as they're still comma-separated.\n",
    "\n",
    "Lists can contain anything, even other collections, and have no restrictions on mixing data types. A list containing a mix of data types isn't usually that helpful, but something to keep in mind.\n",
    "\n",
    "Let's take a look!"
   ]
  },
  {
   "cell_type": "code",
   "execution_count": null,
   "metadata": {},
   "outputs": [],
   "source": [
    "empty_list = []\n",
    "string_list = [\"yarn\", \"thread\", \"rope\", \"cord\"]\n",
    "mixed_list = [100.0, \"rope\", [\"Yo\", \"what\", \"the\"]]\n",
    "\n",
    "# Separating items into lines is still fine, as long as commas are included.\n",
    "# Also, keep track of which brackets are paired together!\n",
    "list_list = [[1, 2, 3],\n",
    "             [2, 3, 4],\n",
    "             [5, 6, 7]]\n",
    "\n",
    "# Feel free to change the list in this loop.\n",
    "for item in list_list: \n",
    "    print(item)"
   ]
  },
  {
   "cell_type": "markdown",
   "metadata": {},
   "source": [
    "Square brackets will create a list any time. They don't necessarily need a name:"
   ]
  },
  {
   "cell_type": "code",
   "execution_count": null,
   "metadata": {},
   "outputs": [],
   "source": [
    "for i in [0, 1, 2, 3, 4]:\n",
    "    print(i)"
   ]
  },
  {
   "cell_type": "markdown",
   "metadata": {},
   "source": [
    "Keep this in mind. For example, you might decide to formulate a list only at the `return` statement of a function, if that's somehow more concise than building the list elsewhere."
   ]
  },
  {
   "cell_type": "markdown",
   "metadata": {},
   "source": [
    "### Accessing and Modifying Items\n",
    "> Individual list items can be **indexed** with `list_name[index]`.\n",
    "\n",
    "> To get a sublist, you can **slice** with `list_name[start_index:end_index]`.\n",
    "\n",
    "Here are some examples. They might look [a little familiar...](https://colab.research.google.com/github/GamerNerd-i/CMSI-1010_Recitation-Examples/blob/main/Week%204/strings.ipynb)"
   ]
  },
  {
   "cell_type": "code",
   "execution_count": null,
   "metadata": {},
   "outputs": [],
   "source": [
    "string_list = [\"yarn\", \"thread\", \"rope\", \"cord\"]\n",
    "list_list = [[1, 2, 3],\n",
    "             [2, 3, 4],\n",
    "             [5, 6, 7]]\n",
    "\n",
    "# Indexing\n",
    "print(string_list[2])\n",
    "print(list_list[0])\n",
    "# If you have lists inside lists, add more brackets for each \"layer\" deep you're going.\n",
    "print(list_list[1][1])\n",
    "\n",
    "# Slicing\n",
    "print(string_list[1:3])\n",
    "# Remember that an empty index means \"go to the beginning/end\"!\n",
    "print(list_list[1:])\n",
    "print(string_list[:2])"
   ]
  },
  {
   "cell_type": "markdown",
   "metadata": {},
   "source": [
    "Isn't this the same syntax as indexing and slicing strings? Yes! That's because strings are, to Python, a special type of list that only contains characters!"
   ]
  },
  {
   "cell_type": "code",
   "execution_count": null,
   "metadata": {},
   "outputs": [],
   "source": [
    "what_you_see = \"string\"\n",
    "what_python_sees = ['s', 't', 'r', 'i', 'n', 'g']"
   ]
  },
  {
   "cell_type": "markdown",
   "metadata": {},
   "source": [
    "### Modifying Lists\n",
    "#### List Operations\n",
    "#### List Methods"
   ]
  },
  {
   "cell_type": "code",
   "execution_count": null,
   "metadata": {},
   "outputs": [],
   "source": [
    "# Creating a list\n",
    "groceries = [\"fruit\", \"bread\", \"milk\"]\n",
    "\n",
    "# Lists can contain multiple data types\n",
    "data = [\"what does this even mean\", 2310, False, \"this doesnt make sense\"]\n",
    "\n",
    "# Access items in the list\n",
    "print(groceries[0])\n",
    "print(data[1:3])\n",
    "print(groceries[1:])\n",
    "\n",
    "# Change items in a list\n",
    "groceries[0] = \"apples\"\n",
    "print(groceries)"
   ]
  },
  {
   "cell_type": "markdown",
   "metadata": {},
   "source": [
    "Look familiar? It should! They look a lot like the operations we used on strings. We'll cover why that is later!\n",
    "\n",
    "> Need a refresher? You can find the notebook about strings [here](https://colab.research.google.com/github/GamerNerd-i/CMSI-1010_Recitation-Examples/blob/main/Week%204/strings.ipynb)."
   ]
  },
  {
   "cell_type": "markdown",
   "metadata": {},
   "source": [
    "## Tuples\n",
    "> A **tuple** is an *immutable* data structure that can store multiple types in order.\n",
    "\n",
    "In other words, tuples are read-only lists! They function the same in almost every other respect. "
   ]
  },
  {
   "cell_type": "code",
   "execution_count": null,
   "metadata": {},
   "outputs": [],
   "source": [
    "# Creating tuples\n",
    "symbols = (\"A\", 1, True, \"B\", 2)\n",
    "\n",
    "# Accesing tuple items\n",
    "print(symbols[3])\n",
    "print(symbols[2:4])\n",
    "print(symbols[:3])\n",
    "\n",
    "# Reassigning whole tuple\n",
    "symbols = (\"A\", \"B\", \"C\", \"D\")\n",
    "print(symbols)\n",
    "\n",
    "# Items in a tuple CANNOT be changed individually\n",
    "symbols[2] = 100"
   ]
  },
  {
   "cell_type": "markdown",
   "metadata": {},
   "source": [
    "Tuples don't have much else (at least for this class) other than their immutability, so they share a notebook with lists."
   ]
  }
 ],
 "metadata": {
  "kernelspec": {
   "display_name": "env",
   "language": "python",
   "name": "python3"
  },
  "language_info": {
   "codemirror_mode": {
    "name": "ipython",
    "version": 3
   },
   "file_extension": ".py",
   "mimetype": "text/x-python",
   "name": "python",
   "nbconvert_exporter": "python",
   "pygments_lexer": "ipython3",
   "version": "3.12.5"
  }
 },
 "nbformat": 4,
 "nbformat_minor": 2
}
