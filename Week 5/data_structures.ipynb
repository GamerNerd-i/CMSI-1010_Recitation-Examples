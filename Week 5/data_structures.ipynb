{
 "cells": [
  {
   "cell_type": "markdown",
   "metadata": {},
   "source": [
    "<a href=\"https://colab.research.google.com/github/GamerNerd-i/CMSI-1010_Recitation-Examples/blob/main/Week%205/data_structures.ipynb\" target=\"_parent\"><img src=\"https://colab.research.google.com/assets/colab-badge.svg\" alt=\"Open In Colab\"/></a>"
   ]
  },
  {
   "cell_type": "markdown",
   "metadata": {},
   "source": [
    "# Data Structures\n",
    "You've seen that we use variables to store information. However, the types you've seen up until now have only been able to store one value at a time, and if you know how much data humanity generates every day, \"one value at a time\" isn't very helpful. That's why we have **data structures**.\n",
    "\n",
    "> **Data structures** store, organize, and allow operations on data.\n",
    "\n",
    "If you're looking ahead to take more CS classes, you might already know that \"Data Structures and Algorithms\" is where you're going next after Computer Programming.\n",
    "\n",
    "Some languages also call them **collections**. That term is less jargon-y, so I'll primarily be using *data structures* as part of definitions and *collections* elsewhere.\n",
    "\n",
    "You'll need to know three types of data structures for now. Each of them has their own notebook, but we'll introduce all three briefly here. Before that, here's one more definition:\n",
    "\n",
    "> **Mutability** describes whether or not a data structure can be altered.\n",
    "> * A **mutable** data structure *can* have its contents changed after being created.\n",
    "> * An **immutable** data structure can be read, *but not altered* after its creation.\n",
    "\n",
    "As an example, strings are *immutable*. You can't actually change a string directly; you can only reassign it or create a new string based on the previous. Mutability is important because we often want to control what data can and cannot change. Most collections are mutable, so when you see someone use an *immutable* collection, you want to be really careful!"
   ]
  },
  {
   "cell_type": "markdown",
   "metadata": {},
   "source": [
    "## Lists\n",
    "> A **list** is a mutable data structure that stores multiple data types in order.\n",
    "\n",
    "Lists are the most basic kind collection. They're so simple that [you've already used them to learn about loops](https://colab.research.google.com/github/GamerNerd-i/CMSI-1010_Recitation-Examples/blob/main/Week%204/loops.ipynb)! I called them \"sequences\" back then, mainly because not everything we can loop over is a list.\n",
    "\n",
    "Here are some basic examples for lists just to get your feet wet. Check [this notebook](https://colab.research.google.com/github/GamerNerd-i/CMSI-1010_Recitation-Examples/blob/main/Week%205/lists.ipynb) for everything you'll need to know about them!"
   ]
  },
  {
   "cell_type": "code",
   "execution_count": null,
   "metadata": {},
   "outputs": [],
   "source": [
    "# Creating a list\n",
    "groceries = [\"fruit\", \"bread\", \"milk\"]\n",
    "\n",
    "# Lists can contain multiple data types\n",
    "data = [\"what does this even mean\", 2310, False, \"this doesnt make sense\"]\n",
    "\n",
    "# Access items in the list\n",
    "print(groceries[0])\n",
    "print(data[1:3])\n",
    "print(groceries[1:])\n",
    "\n",
    "# Change items in a list\n",
    "groceries[0] = \"apples\"\n",
    "print(groceries)"
   ]
  },
  {
   "cell_type": "markdown",
   "metadata": {},
   "source": [
    "Look familiar? It should! They look a lot like the operations we used on strings. We'll cover why that is later!\n",
    "\n",
    "> Need a refresher? You can find the notebook about strings [here](https://colab.research.google.com/github/GamerNerd-i/CMSI-1010_Recitation-Examples/blob/main/Week%204/strings.ipynb)."
   ]
  },
  {
   "cell_type": "markdown",
   "metadata": {},
   "source": [
    "## Tuples\n",
    "> A **tuple** is an *immutable* data structure that can store multiple types in order.\n",
    "\n",
    "In other words, tuples are read-only lists! They function the same in almost every other respect. "
   ]
  },
  {
   "cell_type": "code",
   "execution_count": null,
   "metadata": {},
   "outputs": [],
   "source": [
    "# Creating tuples\n",
    "symbols = (\"A\", 1, True, \"B\", 2)\n",
    "\n",
    "# Accesing tuple items\n",
    "print(symbols[3])\n",
    "print(symbols[2:4])\n",
    "print(symbols[:3])\n",
    "\n",
    "# Reassigning whole tuple\n",
    "symbols = (\"A\", \"B\", \"C\", \"D\")\n",
    "print(symbols)\n",
    "\n",
    "# Items in a tuple CANNOT be changed individually\n",
    "symbols[2] = 100"
   ]
  },
  {
   "cell_type": "markdown",
   "metadata": {},
   "source": [
    "Tuples don't have much else (at least for this class) other than their immutability, so they share a notebook with lists."
   ]
  },
  {
   "cell_type": "markdown",
   "metadata": {},
   "source": [
    "## Dictionaries\n",
    "> A **dictionary** is a mutable data structure that stores items in key-value pairs.\n",
    "\n",
    "What's a key-value pair? It means that every piece of stored data has its own name. Instead of accessing items with only numbers, it's possible to access items by name! An example follows:"
   ]
  },
  {
   "cell_type": "code",
   "execution_count": null,
   "metadata": {},
   "outputs": [],
   "source": [
    "# Creating a dictionary. The first value is the key, and the second is the value.\n",
    "dictionary = {\"apple\": \"A delicious red fruit!\",\n",
    "              0: \"A number representing nothing.\",\n",
    "              \"axolotl\": \"A salamander from Mexico often called the cutest predator!\"}\n",
    "\n",
    "# Accessing items in a dictionary\n",
    "## Notice that they use names!\n",
    "print(dictionary[\"axolotl\"])\n",
    "\n",
    "# Adding/changing items in a dictionary\n",
    "dictionary[\"banana\"] = \"A yellow fruit with lots of potassium!\"\n",
    "print(dictionary)"
   ]
  },
  {
   "cell_type": "markdown",
   "metadata": {},
   "source": [
    "Dictionaries let you name each item you store in it: that name is called a *key*. When you need it later, you use the *key* and get back the *value* you originally put into it. It's just like a real dictionary: You look up the word (key) you want, and find the definition (value).\n",
    "\n",
    "Values can be anything! Keys can be *almost* anything. You'll see more details in the [dictionaries notebook](https://colab.research.google.com/github/GamerNerd-i/CMSI-1010_Recitation-Examples/blob/main/Week%205/dictionaries.ipynb)!"
   ]
  }
 ],
 "metadata": {
  "kernelspec": {
   "display_name": "env",
   "language": "python",
   "name": "python3"
  },
  "language_info": {
   "codemirror_mode": {
    "name": "ipython",
    "version": 3
   },
   "file_extension": ".py",
   "mimetype": "text/x-python",
   "name": "python",
   "nbconvert_exporter": "python",
   "pygments_lexer": "ipython3",
   "version": "3.12.5"
  }
 },
 "nbformat": 4,
 "nbformat_minor": 2
}
