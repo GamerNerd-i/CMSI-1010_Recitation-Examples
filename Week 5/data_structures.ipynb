{
 "cells": [
  {
   "cell_type": "markdown",
   "metadata": {},
   "source": [
    "<a href=\"https://colab.research.google.com/github/GamerNerd-i/CMSI-1010_Recitation-Examples/blob/main/Week%204/data_structures.ipynb\" target=\"_parent\"><img src=\"https://colab.research.google.com/assets/colab-badge.svg\" alt=\"Open In Colab\"/></a>"
   ]
  },
  {
   "cell_type": "markdown",
   "metadata": {},
   "source": [
    "# Data Structures\n",
    "You've seen that we use variables to store information. However, the types you've seen up until now have only been able to store one value at a time, and if you know how much data humanity generates every day, \"one value at a time\" isn't very helpful. That's why we have **data structures**.\n",
    "\n",
    "> **Data structures** store, organize, and allow operations on data.\n",
    "\n",
    "If you're looking ahead to take more CS classes, you might already know that \"Data Structures and Algorithms\" is where you're going next after Computer Programming.\n",
    "\n",
    "Some languages also call them **collections**. That term is less jargon-y, so I'll be using *data structures* as part of definitions and *collections* elsewhere. Got it?"
   ]
  }
 ],
 "metadata": {
  "kernelspec": {
   "display_name": "env",
   "language": "python",
   "name": "python3"
  },
  "language_info": {
   "codemirror_mode": {
    "name": "ipython",
    "version": 3
   },
   "file_extension": ".py",
   "mimetype": "text/x-python",
   "name": "python",
   "nbconvert_exporter": "python",
   "pygments_lexer": "ipython3",
   "version": "3.12.0"
  }
 },
 "nbformat": 4,
 "nbformat_minor": 2
}
