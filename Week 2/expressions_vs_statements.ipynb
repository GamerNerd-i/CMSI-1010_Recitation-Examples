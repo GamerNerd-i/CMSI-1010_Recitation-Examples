{
 "cells": [
  {
   "cell_type": "markdown",
   "metadata": {},
   "source": [
    "# Expressions vs. Statements\n",
    "\n",
    "To help you speak programming language a bit more fluently, here's a little\n",
    "vocabulary for you: expressions and statements."
   ]
  },
  {
   "cell_type": "markdown",
   "metadata": {},
   "source": [
    "## Statements are standalone actions that change the program\n",
    "\n",
    "Statements execute something for the program. They have an identifiable impact that follows through the remaining code. Some examples follow."
   ]
  },
  {
   "cell_type": "code",
   "execution_count": null,
   "metadata": {},
   "outputs": [],
   "source": [
    "# This is a `print` statement -- you'll be using these a lot!\n",
    "print(\"Hello world!\")\n",
    "\n",
    "# This statement initializes (creates) a variable called `x`, and gives it the value `4`.  \n",
    "x = 4"
   ]
  },
  {
   "cell_type": "markdown",
   "metadata": {},
   "source": [
    "In both cases, you can verify that something happened. The `print` statement will show up in the console, and you can check elsewhere that `x = 4`."
   ]
  },
  {
   "cell_type": "markdown",
   "metadata": {},
   "source": [
    "## Expressions are lesser actions that don't change the program on their own\n",
    "\n",
    "Expressions might still execute an action, but that result isn't necessarily saved. They need to be placed in a statement to do something meaningful and become a \"full\" action.\n",
    "\n",
    "None of the following examples are *incorrect* -- they just don't do anything meaningful. If you run them, Python might give you an output, but don't mistake that for the expression \"doing something!\""
   ]
  },
  {
   "cell_type": "code",
   "execution_count": null,
   "metadata": {},
   "outputs": [],
   "source": [
    "# Individual values are expressions. Python will usually echo these back to you.\n",
    "\"this is a string!\"\n",
    "4\n",
    "True\n",
    "\n",
    "# Operations on individual values are expressions. These evaluate to a normal value anyway -- try running them in Python and you'll see that they're actually identical to the example above!\n",
    "\"this \" + \"is \" + \"a \" + \"string!\"\n",
    "2 ** 2\n",
    "not False"
   ]
  },
  {
   "cell_type": "markdown",
   "metadata": {},
   "source": [
    "## Statements make up the program, but expressions make up those statements\n",
    "\n",
    "Python is a programming language - but it's still a language! Think of it like a spoken language:\n",
    "\n",
    "* **Statements** are like sentences. Even a short sentence like \"Hello!\" or \"Run!\" expresses a full thought.\n",
    "* **Expressions** are like individual words that make up a sentence. Words like \"Python\", \"type\", or \"a\" don't express a full idea on their own. That's why you put them together and form a sentence!"
   ]
  }
 ],
 "metadata": {
  "kernelspec": {
   "display_name": "env",
   "language": "python",
   "name": "python3"
  },
  "language_info": {
   "codemirror_mode": {
    "name": "ipython",
    "version": 3
   },
   "file_extension": ".py",
   "mimetype": "text/x-python",
   "name": "python",
   "nbconvert_exporter": "python",
   "pygments_lexer": "ipython3",
   "version": "3.12.0"
  }
 },
 "nbformat": 4,
 "nbformat_minor": 2
}
