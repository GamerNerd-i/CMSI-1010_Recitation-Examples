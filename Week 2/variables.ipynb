{
 "cells": [
  {
   "cell_type": "markdown",
   "metadata": {},
   "source": [
    "<a href=\"https://colab.research.google.com/github/GamerNerd-i/CMSI-1010_Recitation-Examples/blob/main/Week%202/variables.ipynb\" target=\"_parent\"><img src=\"https://colab.research.google.com/assets/colab-badge.svg\" alt=\"Open In Colab\"/></a>"
   ]
  },
  {
   "cell_type": "markdown",
   "metadata": {},
   "source": [
    "# Variables\n",
    "> Variables allow you to save data for use later in your program.\n",
    "\n",
    "My analogy here is labeling boxes. Suppose you put 5 balls in a box, then give it to your friend. They might have the box, but they don't know what's inside. They might even throw it out! If you label the box \"balls,\" they know exactly what you gave them and know (hopefully) what to do with it.\n",
    "\n",
    "The same thing can be said for your data. Your data goes in the boxes -- but you need to label that box in order for the computer to use it, and so that you and your collaborators know what's in the box later!\n",
    "\n",
    "## Using Variables\n",
    "> Variables, no matter what they contain, are declared using the syntax `name = data`."
   ]
  },
  {
   "cell_type": "code",
   "execution_count": null,
   "metadata": {},
   "outputs": [],
   "source": [
    "dog = \"Fido\"\n",
    "lucky_number = 7\n",
    "have_homework = True\n",
    "pet = dog"
   ]
  },
  {
   "cell_type": "markdown",
   "metadata": {},
   "source": [
    "> Once you've declared a variable, you can use it like any other value.\n",
    "\n",
    "Just call its name! This includes using a variable to declare another variable!"
   ]
  },
  {
   "cell_type": "code",
   "execution_count": null,
   "metadata": {},
   "outputs": [],
   "source": [
    "print(\"This dog's name is \", dog)\n",
    "print(str(7) + \" * 2 = \" + str(7 * 2))\n",
    "if have_homework:\n",
    "    print(\"I have work, but I'm lazy...\")\n",
    "print(\"My pet's name is \" + dog)\n",
    "\n",
    "puppy = dog + \" Jr.\""
   ]
  },
  {
   "cell_type": "markdown",
   "metadata": {},
   "source": [
    "> You can change what is stored in the variable's \"box\" by using the same syntax you used to declare it.\n",
    "\n",
    "Think carefully about when you **need** to create a new variable, and when you should just reassign an old one."
   ]
  },
  {
   "cell_type": "code",
   "execution_count": null,
   "metadata": {},
   "outputs": [],
   "source": [
    "lucky_number = 21\n",
    "have_homework = False"
   ]
  },
  {
   "cell_type": "markdown",
   "metadata": {},
   "source": [
    "> Variables are absolutely crucial to creating meaningful and readable code.\n",
    "\n",
    "Any data you store for later will be given a variable label, which makes it VERY important to give them good names.\n",
    "\n",
    "If you return to code later, or if someone else has to look at your code, the reader's understanding of what's happening is heavily influenced by the names you give your variables - and later, your functions."
   ]
  },
  {
   "cell_type": "markdown",
   "metadata": {},
   "source": [
    "## Variable Names\n",
    "Python has a few naming rules you should be aware of.\n",
    "\n",
    "If you don't follow them, your program will still work (with some exceptions), but your code will be much less readable to yourself and others. Python prides itself on being human-readable, so do your part to uphold that!"
   ]
  },
  {
   "cell_type": "markdown",
   "metadata": {},
   "source": [
    "### Naming Rules\n",
    "> Variable names are **case-sensitive.**"
   ]
  },
  {
   "cell_type": "code",
   "execution_count": null,
   "metadata": {},
   "outputs": [],
   "source": [
    "Dog = \"Spot\"\n",
    "print(dog) # This is \"Fido\"\n",
    "print(Dog) # This is \"Spot\""
   ]
  },
  {
   "cell_type": "markdown",
   "metadata": {},
   "source": [
    "> Variable names can only use letters, numbers, and underscores.\n",
    "\n",
    "**HOWEVER**, they *cannot* begin with a number."
   ]
  },
  {
   "cell_type": "code",
   "execution_count": null,
   "metadata": {},
   "outputs": [],
   "source": [
    "letters = \"a\"\n",
    "_underscore = \"_\"\n",
    "numbers_123 = 123"
   ]
  },
  {
   "cell_type": "markdown",
   "metadata": {},
   "source": [
    "> Variables CANNOT be the same as a keyword. For now, these include `if`, `elif`, and `else`.\n",
    "\n",
    "If you really *must* use a keyword as a variable name, put an underscore before it.\n",
    "\n",
    "See what happens when you remove the underscores from the variable names below."
   ]
  },
  {
   "cell_type": "code",
   "execution_count": null,
   "metadata": {},
   "outputs": [],
   "source": [
    "_if = \"if and only if\"\n",
    "_break = \"oh nooooo its brooooken\""
   ]
  },
  {
   "cell_type": "markdown",
   "metadata": {},
   "source": [
    "Snake case is the \"capitalization style\" you use while writing Python.\n",
    "\n",
    "> **Snake case** means keeping all words in lowercase and placing underscores between words.\n",
    "\n",
    "There are other \"cases\" such as \"camel case,\" shown below. Additionally, certain variables should be all *uppercase* instead of all lowercase, but don't worry about those for now: you only need to know about the lowercase versions."
   ]
  },
  {
   "cell_type": "code",
   "execution_count": null,
   "metadata": {},
   "outputs": [],
   "source": [
    "variable_in_snake_case = True\n",
    "variableInCamelCase = False"
   ]
  },
  {
   "cell_type": "markdown",
   "metadata": {},
   "source": [
    "Otherwise, the variable names are up to you!\n",
    "\n",
    "> To reduce your headaches later, practice writing names that are *short and to the point but descriptive.*\n",
    "\n",
    "### Example\n",
    "Suppose we want to write a variable to track the number of red blocks in a box."
   ]
  },
  {
   "cell_type": "code",
   "execution_count": null,
   "metadata": {},
   "outputs": [],
   "source": [
    "number = 0\n",
    "# This is not a good variable name. It doesn't tell me anything. Number of what?\n",
    "\n",
    "number_of_blocks = 0\n",
    "# This is better, but if I have different kinds of blocks then it can still be unclear.\n",
    "\n",
    "number_of_red_blocks_in_box = 0\n",
    "# Very descriptive, but it's getting a little bit long now.\n",
    "\n",
    "red_blocks_in_box = 0\n",
    "# This is probably the best mix of the two previous examples.\n",
    "# You don't need to point out that it's a number - you can tell that from its assigned value!\n"
   ]
  }
 ],
 "metadata": {
  "kernelspec": {
   "display_name": "env",
   "language": "python",
   "name": "python3"
  },
  "language_info": {
   "codemirror_mode": {
    "name": "ipython",
    "version": 3
   },
   "file_extension": ".py",
   "mimetype": "text/x-python",
   "name": "python",
   "nbconvert_exporter": "python",
   "pygments_lexer": "ipython3",
   "version": "3.12.0"
  }
 },
 "nbformat": 4,
 "nbformat_minor": 2
}
