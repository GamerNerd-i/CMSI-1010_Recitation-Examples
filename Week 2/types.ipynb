{
 "cells": [
  {
   "cell_type": "markdown",
   "metadata": {},
   "source": [
    "<a href=\"https://colab.research.google.com/github/GamerNerd-i/CMSI-1010_Recitation-Examples/blob/main/Week%202/types.ipynb\" target=\"_parent\"><img src=\"https://colab.research.google.com/assets/colab-badge.svg\" alt=\"Open In Colab\"/></a>"
   ]
  },
  {
   "cell_type": "markdown",
   "metadata": {},
   "source": [
    "# Types\n",
    "\n",
    "> Types define what kind of information is stored in a variable.\n",
    "\n",
    "Not all data is the same. For example, it wouldn't make sense to make some text negative, as if it were a number. These different kinds of data are called \"types.\"\n",
    "\n",
    "For now, you should be familiar with these four \"primitive\" types."
   ]
  },
  {
   "cell_type": "markdown",
   "metadata": {},
   "source": [
    "## Integers and Floats\n",
    "> Integers and floats are both numbers.\n",
    "\n",
    "Ints are whole numbers and are either positive or negative. Floats are decimals. They can also be positive or negative."
   ]
  },
  {
   "cell_type": "code",
   "execution_count": null,
   "metadata": {},
   "outputs": [],
   "source": [
    "lucky_number = 7\n",
    "tax_rate = 0.05"
   ]
  },
  {
   "cell_type": "markdown",
   "metadata": {},
   "source": [
    "## Strings\n",
    "> Strings represent text.\n",
    "\n",
    "Text doesn't just mean letters and numbers and punctuation. It includes things like emoji and symbols too! Although you'll mostly be using letters, numbers, and punctuation."
   ]
  },
  {
   "cell_type": "code",
   "execution_count": null,
   "metadata": {},
   "outputs": [],
   "source": [
    "dog = \"Fido\"\n",
    "smiley = \"Today's a great day! 😀\"\n",
    "pi = \"π\""
   ]
  },
  {
   "cell_type": "markdown",
   "metadata": {},
   "source": [
    "## Booleans\n",
    "> Booleans have only two values: **True** and **False**.\n",
    "\n",
    "Understanding booleans is very important! They're a \"new\" kind of data if you're new to programming but are used everywhere. Think of them like a lightswitch: a switch can only be either ON or OFF; not both, and not neither. Booleans are the same."
   ]
  },
  {
   "cell_type": "code",
   "execution_count": null,
   "metadata": {},
   "outputs": [],
   "source": [
    "have_homework = True\n",
    "exam_tomorrow = False"
   ]
  },
  {
   "cell_type": "markdown",
   "metadata": {},
   "source": [
    "# What Do Types Do?\n",
    "> Types define what you can do with data and how Python treats them.\n",
    "\n",
    "Most of these are pretty intuitive. For example, it makes sense that you can only make numbers negative (-). Because Python stores booleans as 0 (False) or 1 (True), you can even make them negative, although they'll change from booleans to integers."
   ]
  },
  {
   "cell_type": "code",
   "execution_count": null,
   "metadata": {},
   "outputs": [],
   "source": [
    "print(-lucky_number)\n",
    "print(-True)\n",
    "# This throws a TypeError! Just uncomment it and see.\n",
    "# print(-\"Hello!\")"
   ]
  },
  {
   "cell_type": "markdown",
   "metadata": {},
   "source": [
    "We'll get into this later, but the math symbols aren't just for numbers. Strings will also use some of them in ways that make sense if you think about it."
   ]
  }
 ],
 "metadata": {
  "kernelspec": {
   "display_name": "env",
   "language": "python",
   "name": "python3"
  },
  "language_info": {
   "codemirror_mode": {
    "name": "ipython",
    "version": 3
   },
   "file_extension": ".py",
   "mimetype": "text/x-python",
   "name": "python",
   "nbconvert_exporter": "python",
   "pygments_lexer": "ipython3",
   "version": "3.12.0"
  }
 },
 "nbformat": 4,
 "nbformat_minor": 2
}
