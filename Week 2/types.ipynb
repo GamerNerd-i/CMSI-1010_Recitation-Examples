{
 "cells": [
  {
   "cell_type": "markdown",
   "metadata": {},
   "source": [
    "<a href=\"https://colab.research.google.com/github/GamerNerd-i/CMSI-1010_Recitation-Examples/blob/main/Week%202/types.ipynb\" target=\"_parent\"><img src=\"https://colab.research.google.com/assets/colab-badge.svg\" alt=\"Open In Colab\"/></a>"
   ]
  },
  {
   "cell_type": "markdown",
   "metadata": {},
   "source": [
    "# Types\n",
    "\n",
    "> Types define what kind of information is stored in a variable.\n",
    "\n",
    "Not all data is the same. For example, it wouldn't make sense to make some text negative, as if it were a number. These different kinds of data are called \"types.\"\n",
    "\n",
    "For now, you should be familiar with these four \"primitive\" types."
   ]
  },
  {
   "cell_type": "markdown",
   "metadata": {},
   "source": [
    "## Integers and Floats\n",
    "> Integers and floats are both numbers.\n",
    "\n",
    "Integers are whole numbers and are either positive or negative. Floats are decimals. They can also be positive or negative.\n",
    "\n",
    "Python recognizes integers with the `int` class, while floats have the `float` class."
   ]
  },
  {
   "cell_type": "code",
   "execution_count": null,
   "metadata": {},
   "outputs": [],
   "source": [
    "lucky_number = 7\n",
    "tax_rate = 0.05"
   ]
  },
  {
   "cell_type": "markdown",
   "metadata": {},
   "source": [
    "## Strings\n",
    "> Strings represent text.\n",
    "\n",
    "Text doesn't just mean letters and numbers and punctuation. It includes things like emoji and symbols too! Although you'll mostly be using letters, numbers, and punctuation.\n",
    "\n",
    "Python recognizes strings with the `str` class."
   ]
  },
  {
   "cell_type": "code",
   "execution_count": null,
   "metadata": {},
   "outputs": [],
   "source": [
    "dog = \"Fido\"\n",
    "smiley = \"Today's a great day! 😀\"\n",
    "pi = \"π\""
   ]
  },
  {
   "cell_type": "markdown",
   "metadata": {},
   "source": [
    "## Booleans\n",
    "> Booleans have only two values: **True** and **False**.\n",
    "\n",
    "Understanding booleans is very important! They're a \"new\" kind of data if you're new to programming but are used everywhere. Think of them like a lightswitch: a switch can only be either ON or OFF; not both, and not neither. Booleans are the same.\n",
    "\n",
    "Python recognizes booleans with the `bool` class."
   ]
  },
  {
   "cell_type": "code",
   "execution_count": null,
   "metadata": {},
   "outputs": [],
   "source": [
    "have_homework = True\n",
    "exam_tomorrow = False"
   ]
  },
  {
   "cell_type": "markdown",
   "metadata": {},
   "source": [
    "# What Do Types Do?\n",
    "> Types define what you can do with data and how Python treats them.\n",
    "\n",
    "Most of these are pretty intuitive. For example, it makes sense that you can only make numbers negative (-). Because Python stores booleans as 0 (False) or 1 (True), you can even make them negative, although they'll change from booleans to integers."
   ]
  },
  {
   "cell_type": "code",
   "execution_count": null,
   "metadata": {},
   "outputs": [],
   "source": [
    "print(-lucky_number)\n",
    "print(-True)\n",
    "# This throws a TypeError! Just uncomment it and see.\n",
    "# print(-\"Hello!\")"
   ]
  },
  {
   "cell_type": "markdown",
   "metadata": {},
   "source": [
    "> You can check the type of a value using `type()`.\n",
    "\n",
    "You usually won't need to check types in this class: you shouldn't be doing anything crazy enough to require it."
   ]
  },
  {
   "cell_type": "code",
   "execution_count": null,
   "metadata": {},
   "outputs": [],
   "source": [
    "word = \"magic\"\n",
    "number = 29\n",
    "decimal = 2.24\n",
    "fact = True\n",
    "\n",
    "print(type(word))\n",
    "print(type(number))\n",
    "print(type(decimal))\n",
    "print(type(fact))"
   ]
  },
  {
   "cell_type": "markdown",
   "metadata": {},
   "source": [
    "We'll get into this later, but the math symbols aren't just for numbers. Strings will also use some of them in ways that make sense if you think about it."
   ]
  },
  {
   "cell_type": "markdown",
   "metadata": {},
   "source": [
    "## Type Casting\n",
    "Python allows you to change the data type of a value. This is called *casting*.\n",
    "\n",
    "> **Type casting** allows us to change the data type of a value to a different data type.\n",
    "\n",
    "> We can cast a value `x` to a certain type `cast_to` with the syntax `cast_to(x)`. For example, if we use `int(x)`, we say that **x was cast to an integer**.\n",
    "\n",
    "We generally try not to use type casting because it can cause a lot of unforeseen problems. However, there are a few cases where this is safe and potentially useful.\n",
    "\n",
    "1. Almost all types can be cast to a string for use in `print` statements.\n",
    "2. Numbers can be freely cast back and forth between `int` and `float`. An `int` cast to a `float` gains a decimal, while a `float` cast to an `int` drops its decimal part entirely.\n",
    "3. The `bool` values `True` and `False` are the same as the `int` values `1` and `0`, respectively.\n",
    "\n",
    "#1 and #2 are demonstrated below. You are most likely to use #1, although you may also need to use #2. #3 will not be used in this class, unless you have a case to use it in your final project."
   ]
  },
  {
   "cell_type": "code",
   "execution_count": null,
   "metadata": {},
   "outputs": [],
   "source": [
    "decimal = 2.24\n",
    "print(type(decimal))\n",
    "\n",
    "decimal_str = str(decimal)\n",
    "print(type(decimal_str))\n",
    "print(decimal_str)\n",
    "\n",
    "decimal_int = int(decimal)\n",
    "print(type(decimal_int))\n",
    "print(decimal_int)"
   ]
  }
 ],
 "metadata": {
  "kernelspec": {
   "display_name": "env",
   "language": "python",
   "name": "python3"
  },
  "language_info": {
   "codemirror_mode": {
    "name": "ipython",
    "version": 3
   },
   "file_extension": ".py",
   "mimetype": "text/x-python",
   "name": "python",
   "nbconvert_exporter": "python",
   "pygments_lexer": "ipython3",
   "version": "3.12.0"
  }
 },
 "nbformat": 4,
 "nbformat_minor": 2
}
