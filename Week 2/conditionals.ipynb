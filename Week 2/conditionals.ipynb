{
 "cells": [
  {
   "cell_type": "markdown",
   "metadata": {},
   "source": [
    "> Before you read about conditionals, please read the notebook about [booleans from Week 3](https://github.com/GamerNerd-i/CMSI-1010_Recitation-Examples/blob/main/Week%203/booleans.ipynb). It's technically out of order for the class, but it'll make understanding conditionals much easier!\n",
    "\n",
    "# Conditionals\n",
    "Without conditional statements, all our programs would simply be lists of instructions that must be followed step-by-step. That strictness is not particularly helpful, because we often need to deviate from the instructions slightly for various reasons.\n",
    "\n",
    "> **Conditional statements** let us control what code does or doesn't run, depending on the current state of the program. They are part of an idea called **control flow**.\n",
    "\n",
    "Conditional statements turn our instruction list into a flowchart. At every cell, we ask a question about our program, and then follow the arrow to our next instruction based on our answer. This single flowchart is far more helpful than having a different list of instructions for every single case!\n",
    "\n",
    "[![An extremely helpful xkcd flowchart for writing good code.](https://imgs.xkcd.com/comics/good_code.png)](https://xkcd.com/844)"
   ]
  },
  {
   "cell_type": "markdown",
   "metadata": {},
   "source": [
    "## Relational Operators\n",
    "Before we even do anything with conditional statements, we need to understand the expressions that make them up.\n",
    "\n",
    "> The **relational operators** create expressions that become booleans (`True` or `False`) by comparing two values, usually numbers.\n",
    "\n",
    "The relational operators are what allow us to create the *condition* part of *condition*als. They let us set the boundaries for when to run (or not run) certain lines of code.\n",
    "\n",
    "Hopefully, you recognize these symbols from mathematics. They mean the same thing, except instead of *describing* the relationship between numbers, they are expressions that *evaluate* two inputs and output the appropriate boolean value.\n",
    "\n",
    "| Name | Operator | Math Symbol |\n",
    "| :-: | :-: | :-: |\n",
    "| Less than | `<` | < |\n",
    "| Less than or equal to | `<=` | ≤ |\n",
    "| Greater than | `>` | > |\n",
    "| Greater than or equal to | `>=` | ≥ |\n",
    "| Equal to | `==` | =\n",
    "| Not equal to | `!=` | ≠ |"
   ]
  },
  {
   "cell_type": "code",
   "execution_count": null,
   "metadata": {},
   "outputs": [],
   "source": [
    "print(2 > 5) # False\n",
    "print(2 != 5) # True\n",
    "print(2 <= 5) # True\n",
    "print()\n",
    "\n",
    "bakers_dozen = 12\n",
    "print(\"Are there 12 items in a baker's dozen? \" + str(12 == bakers_dozen))\n",
    "\n",
    "desired_donuts = 20\n",
    "print(\"Do I want more donuts than a baker's dozen? \" + str(desired_donuts >= bakers_dozen))\n",
    "\n",
    "print(\"Notice that ALL of our outputs are a SINGLE boolean value!\")"
   ]
  },
  {
   "cell_type": "markdown",
   "metadata": {},
   "source": [
    "### Order of Operations\n",
    "> Just like in mathematics, **Order of Operations** still applies.\n",
    "\n",
    "This includes grouping expressions together with parentheses to make sure that they are evaluated first!\n",
    "\n",
    "Even if the regular order of operations is correct, you may want to add parentheses to keep your calculations easy to read."
   ]
  },
  {
   "cell_type": "code",
   "execution_count": null,
   "metadata": {},
   "outputs": [],
   "source": [
    "print(3 + 2 * 5 > 20) # 13 > 20 == False\n",
    "print(3 + (2 * 5) > 20) # Same thing: Just trying to be more clear.\n",
    "print((3 + 2) * 5 > 20) # 25 > 20 == True\n",
    "\n",
    "hundreds_place = 2\n",
    "tens_place = 3\n",
    "ones_place = 4\n",
    "print((hundreds_place * 100) + (tens_place * 10) + ones_place == 234)"
   ]
  },
  {
   "cell_type": "markdown",
   "metadata": {},
   "source": [
    "### Non-Numeric Types\n",
    "Numbers are the most familiar use of relational operators, but other types can use them too. It's most important to remember `==` and `!=`: they check if two values are the same or not the same, respectively. The other operators might have some interactions with non-numeric types, too, but don't worry about them for now."
   ]
  },
  {
   "cell_type": "code",
   "execution_count": null,
   "metadata": {},
   "outputs": [],
   "source": [
    "print(\"Dog\" == \"dog\") # False\n",
    "print(\"cat\" != \"dog\") # True\n",
    "print()\n",
    "\n",
    "my_name = \"Aidan Dionisio\"\n",
    "your_name = \"Makoto Shinkai\"\n",
    "print(\"Do we have the same name? \" + str(my_name == your_name))\n",
    "print()\n",
    "\n",
    "# This boolean code is for example purposes ONLY!\n",
    "# Don't EVER do this!!! Use the logical operators (and, or) instead.\n",
    "something_true = True\n",
    "something_false = False\n",
    "\n",
    "print(something_true == True) # True\n",
    "print(something_true == False) # False\n",
    "print(something_false != False) # False\n",
    "print(something_false != True) # True\n",
    "print(something_true == something_false) # False"
   ]
  },
  {
   "cell_type": "markdown",
   "metadata": {},
   "source": [
    "Did you notice that relational operators output a boolean, but can also have boolean inputs? Technically, this means that you can use order of operations to \"chain\" `==` or `!=` relational operators together. But ***don't do that!!!*** Use the boolean operators (`and` / `or`) to compare the individual relational expressions instead!"
   ]
  }
 ],
 "metadata": {
  "kernelspec": {
   "display_name": "env",
   "language": "python",
   "name": "python3"
  },
  "language_info": {
   "codemirror_mode": {
    "name": "ipython",
    "version": 3
   },
   "file_extension": ".py",
   "mimetype": "text/x-python",
   "name": "python",
   "nbconvert_exporter": "python",
   "pygments_lexer": "ipython3",
   "version": "3.12.0"
  }
 },
 "nbformat": 4,
 "nbformat_minor": 2
}
