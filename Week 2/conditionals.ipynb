{
 "cells": [
  {
   "cell_type": "markdown",
   "metadata": {},
   "source": [
    "> Before you read about conditionals, please read the notebook about booleans in the Week 3 folder. It's technically out of order for the class, but it'll make understanding conditionals much easier!\n",
    "\n",
    "# Conditionals\n",
    "Without conditional statements, all our programs would simply be lists of instructions that must be followed step-by-step. That strictness is not particularly helpful, because we often need to deviate from the instructions slightly for various reasons.\n",
    "\n",
    "> **Conditional statements** let us control what code does or doesn't run, depending on the current state of the program. They are part of an idea called **control flow**.\n",
    "\n",
    "Conditional statements turn our instruction list into a flowchart. At every cell, we ask a question about our program, and then follow the arrow to our next instruction based on our answer. This single flowchart is far more helpful than having a different list of instructions for every single case!"
   ]
  },
  {
   "cell_type": "markdown",
   "metadata": {},
   "source": []
  }
 ],
 "metadata": {
  "kernelspec": {
   "display_name": "env",
   "language": "python",
   "name": "python3"
  },
  "language_info": {
   "codemirror_mode": {
    "name": "ipython",
    "version": 3
   },
   "file_extension": ".py",
   "mimetype": "text/x-python",
   "name": "python",
   "nbconvert_exporter": "python",
   "pygments_lexer": "ipython3",
   "version": "3.12.0"
  }
 },
 "nbformat": 4,
 "nbformat_minor": 2
}
