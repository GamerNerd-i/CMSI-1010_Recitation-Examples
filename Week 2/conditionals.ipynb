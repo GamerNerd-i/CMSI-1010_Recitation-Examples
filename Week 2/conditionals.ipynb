{
 "cells": [
  {
   "cell_type": "markdown",
   "metadata": {},
   "source": [
    "> Before you read about conditionals, please read the [notebook about booleans from Week 3](https://github.com/GamerNerd-i/CMSI-1010_Recitation-Examples/blob/main/Week%203/booleans.ipynb). It's technically out of order for the class, but it'll make understanding conditionals much easier!\n",
    "\n",
    "# Conditionals\n",
    "Without conditional statements, all our programs would simply be lists of instructions that must be followed step-by-step. That strictness is not particularly helpful, because we often need to deviate from the instructions slightly for various reasons.\n",
    "\n",
    "> **Conditional statements** let us control what code does or doesn't run, depending on the current state of the program. They are part of an idea called **control flow**.\n",
    "\n",
    "Conditional statements turn our instruction list into a flowchart. At every cell, we ask a question about our program, and then follow the arrow to our next instruction based on our answer. This single flowchart is far more helpful than having a different list of instructions for every single case!\n",
    "\n",
    "[![An extremely helpful xkcd flowchart for writing good code.](https://imgs.xkcd.com/comics/good_code.png)](https://xkcd.com/844)"
   ]
  },
  {
   "cell_type": "markdown",
   "metadata": {},
   "source": [
    "## Relational Operators\n",
    "Before we even do anything with conditional statements, we need to understand the expressions that make them up.\n",
    "\n",
    "> The **relational operators** create expressions that become booleans (`True` or `False`) by comparing two values, usually numbers.\n",
    "\n",
    "In terms of the flowchart above, think of these like the questions inside each cell (just the text, like \"Does it work yet?\"). The relational operators are what allow us to create the *condition* part of *condition*als. They let us set the boundaries for when to run (or not run) certain lines of code.\n",
    "\n",
    "Hopefully, you recognize these symbols from mathematics. They mean the same thing, except instead of *describing* the relationship between numbers, they are expressions that *evaluate* two inputs and output the appropriate boolean value.\n",
    "\n",
    "| Name | Operator | Math Symbol |\n",
    "| :-: | :-: | :-: |\n",
    "| Less than | `<` | < |\n",
    "| Less than or equal to | `<=` | ≤ |\n",
    "| Greater than | `>` | > |\n",
    "| Greater than or equal to | `>=` | ≥ |\n",
    "| Equal to | `==` | =\n",
    "| Not equal to | `!=` | ≠ |"
   ]
  },
  {
   "cell_type": "code",
   "execution_count": null,
   "metadata": {},
   "outputs": [],
   "source": [
    "print(2 > 5) # False\n",
    "print(2 != 5) # True\n",
    "print(2 <= 5) # True\n",
    "print()\n",
    "\n",
    "bakers_dozen = 12\n",
    "print(\"Are there 12 items in a baker's dozen? \" + str(12 == bakers_dozen))\n",
    "\n",
    "desired_donuts = 20\n",
    "print(\"Do I want more donuts than a baker's dozen? \" + str(desired_donuts >= bakers_dozen))\n",
    "\n",
    "print(\"Notice that ALL of our outputs are a SINGLE boolean value!\")"
   ]
  },
  {
   "cell_type": "markdown",
   "metadata": {},
   "source": [
    "### Order of Operations\n",
    "> Just like in mathematics, **Order of Operations** still applies.\n",
    "\n",
    "This includes grouping expressions together with parentheses to make sure that they are evaluated first!\n",
    "\n",
    "Even if the regular order of operations is correct, you may want to add parentheses to keep your calculations easy to read."
   ]
  },
  {
   "cell_type": "code",
   "execution_count": null,
   "metadata": {},
   "outputs": [],
   "source": [
    "print(3 + 2 * 5 > 20) # 13 > 20 == False\n",
    "print(3 + (2 * 5) > 20) # Same thing: Just trying to be more clear.\n",
    "print((3 + 2) * 5 > 20) # 25 > 20 == True\n",
    "\n",
    "hundreds_place = 2\n",
    "tens_place = 3\n",
    "ones_place = 4\n",
    "print((hundreds_place * 100) + (tens_place * 10) + ones_place == 234)"
   ]
  },
  {
   "cell_type": "markdown",
   "metadata": {},
   "source": [
    "### Non-Numeric Types\n",
    "Numbers are the most familiar use of relational operators, but other types can use them too. It's most important to remember `==` and `!=`: they check if two values are the same or not the same, respectively. The other operators might have some interactions with non-numeric types, too, but don't worry about them for now."
   ]
  },
  {
   "cell_type": "code",
   "execution_count": null,
   "metadata": {},
   "outputs": [],
   "source": [
    "print(\"Dog\" == \"dog\") # False\n",
    "print(\"cat\" != \"dog\") # True\n",
    "print()\n",
    "\n",
    "my_name = \"Aidan Dionisio\"\n",
    "your_name = \"Makoto Shinkai\"\n",
    "print(\"Do we have the same name? \" + str(my_name == your_name))\n",
    "print()\n",
    "\n",
    "# This boolean code is for example purposes ONLY!\n",
    "# Don't EVER do this!!! Use the logical operators (and, or) instead.\n",
    "something_true = True\n",
    "something_false = False\n",
    "\n",
    "print(something_true == True) # True\n",
    "print(something_true == False) # False\n",
    "print(something_false != False) # False\n",
    "print(something_false != True) # True\n",
    "print(something_true == something_false) # False"
   ]
  },
  {
   "cell_type": "markdown",
   "metadata": {},
   "source": [
    "Did you notice that relational operators output a boolean, but can also have boolean inputs? Technically, this means that you can use order of operations to \"chain\" `==` or `!=` relational operators together. But ***don't do that!!!*** Use the boolean operators (`and` / `or`) to compare the individual relational expressions instead!\n",
    "\n",
    "> If you don't know what I'm talking about, then you didn't follow the instructions at the top to read the [notebook about booleans from Week 3](https://github.com/GamerNerd-i/CMSI-1010_Recitation-Examples/blob/main/Week%203/booleans.ipynb) and should probably go do that now."
   ]
  },
  {
   "cell_type": "markdown",
   "metadata": {},
   "source": [
    "## Conditional Statements\n",
    "Recall the flowchart above (or any flowchart you've seen like it). If relational operators are the text in a box, then conditional statements are the entire box and the arrows leading out from it that tell you what to do next. To reiterate the definition from earlier:\n",
    "\n",
    "> **Conditional statements** let us control what code does or doesn't run, depending on the current state of the program.\n",
    "\n",
    "Conditional statements use one of three keywords: `if`, `else`, and `elif`. An \"if/else block\" ALWAYS includes:\n",
    "\n",
    "* *Exactly* one `if` statement at the very beginning.\n",
    "* *At most* one `else` statement at the very end.\n",
    "* *Any number* of `elif` statements between them.\n",
    "\n",
    "<!-- TODO: Make a flowchart as an example -->\n",
    "\n",
    "### `if` Statements\n",
    "An `if` statement always starts an if/else block. There is no control flow without the `if` statement.\n",
    "\n",
    "> An `if` statement accepts a boolean input. If the input is `True`, the code beneath it is run. If the input is `False`, the code beneath it is skipped.\n",
    "\n",
    "The `if` statement lets you *add* extra lines of code to handle a specific case. For example, if I'm writing a program to sell donuts and can only sell a baker's dozen (12) at a time, then I can use an `if` statement to bring orders that are too big to their maximum number."
   ]
  },
  {
   "cell_type": "code",
   "execution_count": null,
   "metadata": {},
   "outputs": [],
   "source": [
    "maximum_purchase_size = 12\n",
    "\n",
    "donuts_to_buy = input(\"Hello! How many donuts would you like to buy? \")\n",
    "\n",
    "if int(donuts_to_buy) > maximum_purchase_size:\n",
    "    print(\"Sorry! We can't let you buy \" + donuts_to_buy + \" donuts at the same time, but we'll sell you a dozen first!\")\n",
    "    donuts_to_buy = maximum_purchase_size\n",
    "\n",
    "print(\"Here are \" + str(maximum_purchase_size) + \" donuts! Thanks for coming!\")"
   ]
  },
  {
   "cell_type": "markdown",
   "metadata": {},
   "source": [
    "### `else` Statements\n",
    "An `else` statement isn't mandatory in an if/else block; the `if` statement works entirely well on its own. However, if an `else` *does* appear in an if/else block, it's always at the end.\n",
    "\n",
    "> An `else` statement receives no boolean input. The code beneath it runs if all other previous conditional statements have failed.\n",
    "\n",
    "In an if/else block with just an `if` and an `else`, the `if` statement runs its code when receiving `True` as input, and the `else` statement runs its code when the `if` statement receives `False` as input.\n",
    "\n",
    "As previously stated, there is no if/else block without an `if` statement to start it.\n",
    "\n",
    "> An `else` statement *must* come after an `if` statement.\n",
    "\n",
    "`if` and `else` combined allow us to make code that does one of two things, depending on the input. But what if we need more than just two choices?\n",
    "\n",
    "### `elif` Statements\n",
    "\n",
    "\n",
    "### Nesting Conditionals"
   ]
  }
 ],
 "metadata": {
  "kernelspec": {
   "display_name": "env",
   "language": "python",
   "name": "python3"
  },
  "language_info": {
   "codemirror_mode": {
    "name": "ipython",
    "version": 3
   },
   "file_extension": ".py",
   "mimetype": "text/x-python",
   "name": "python",
   "nbconvert_exporter": "python",
   "pygments_lexer": "ipython3",
   "version": "3.12.0"
  }
 },
 "nbformat": 4,
 "nbformat_minor": 2
}
