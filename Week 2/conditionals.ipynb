{
 "cells": [
  {
   "cell_type": "markdown",
   "metadata": {},
   "source": [
    "> Before you read about conditionals, please read the [notebook about booleans from Week 3](https://github.com/GamerNerd-i/CMSI-1010_Recitation-Examples/blob/main/Week%203/booleans.ipynb). It's technically out of order for the class, but it'll make understanding conditionals much easier!\n",
    "\n",
    "# Conditionals\n",
    "Without conditional statements, all our programs would simply be lists of instructions that must be followed step-by-step. That strictness is not particularly helpful, because we often need to deviate from the instructions slightly for various reasons.\n",
    "\n",
    "> **Conditional statements** let us control what code does or doesn't run, depending on the current state of the program. They are part of an idea called **control flow**.\n",
    "\n",
    "Conditional statements turn our instruction list into a flowchart. At every cell, we ask a question about our program, and then follow the arrow to our next instruction based on our answer. This single flowchart is far more helpful than having a different list of instructions for every single case!\n",
    "\n",
    "[![An extremely helpful xkcd flowchart for writing good code.](https://imgs.xkcd.com/comics/good_code.png)](https://xkcd.com/844)"
   ]
  },
  {
   "cell_type": "markdown",
   "metadata": {},
   "source": [
    "## Relational Operators\n",
    "Before we even do anything with conditional statements, we need to understand the expressions that make them up.\n",
    "\n",
    "> The **relational operators** create expressions that become booleans (`True` or `False`) by comparing two values, usually numbers.\n",
    "\n",
    "In terms of the flowchart above, think of these like the questions inside each cell (just the text, like \"Does it work yet?\"). The relational operators are what allow us to create the *condition* part of *condition*als. They let us set the boundaries for when to run (or not run) certain lines of code.\n",
    "\n",
    "Hopefully, you recognize these symbols from mathematics. They mean the same thing, except instead of *describing* the relationship between numbers, they are expressions that *evaluate* two inputs and output the appropriate boolean value.\n",
    "\n",
    "| Name | Operator | Math Symbol |\n",
    "| :-: | :-: | :-: |\n",
    "| Less than | `<` | < |\n",
    "| Less than or equal to | `<=` | ≤ |\n",
    "| Greater than | `>` | > |\n",
    "| Greater than or equal to | `>=` | ≥ |\n",
    "| Equal to | `==` | =\n",
    "| Not equal to | `!=` | ≠ |"
   ]
  },
  {
   "cell_type": "code",
   "execution_count": null,
   "metadata": {},
   "outputs": [],
   "source": [
    "print(2 > 5) # False\n",
    "print(2 != 5) # True\n",
    "print(2 <= 5) # True\n",
    "print()\n",
    "\n",
    "bakers_dozen = 12\n",
    "print(\"Are there 12 items in a baker's dozen? \" + str(12 == bakers_dozen))\n",
    "\n",
    "desired_donuts = 20\n",
    "print(\"Do I want more donuts than a baker's dozen? \" + str(desired_donuts >= bakers_dozen))\n",
    "\n",
    "print(\"Notice that ALL of our outputs are a SINGLE boolean value!\")"
   ]
  },
  {
   "cell_type": "markdown",
   "metadata": {},
   "source": [
    "### Order of Operations\n",
    "> Just like in mathematics, **Order of Operations** still applies.\n",
    "\n",
    "This includes grouping expressions together with parentheses to make sure that they are evaluated first!\n",
    "\n",
    "Even if the regular order of operations is correct, you may want to add parentheses to keep your calculations easy to read."
   ]
  },
  {
   "cell_type": "code",
   "execution_count": null,
   "metadata": {},
   "outputs": [],
   "source": [
    "print(3 + 2 * 5 > 20) # 13 > 20 == False\n",
    "print(3 + (2 * 5) > 20) # Same thing: Just trying to be more clear.\n",
    "print((3 + 2) * 5 > 20) # 25 > 20 == True\n",
    "\n",
    "hundreds_place = 2\n",
    "tens_place = 3\n",
    "ones_place = 4\n",
    "print((hundreds_place * 100) + (tens_place * 10) + ones_place == 234)"
   ]
  },
  {
   "cell_type": "markdown",
   "metadata": {},
   "source": [
    "### Non-Numeric Types\n",
    "Numbers are the most familiar use of relational operators, but other types can use them too. It's most important to remember `==` and `!=`: they check if two values are the same or not the same, respectively. The other operators might have some interactions with non-numeric types, too, but don't worry about them for now."
   ]
  },
  {
   "cell_type": "code",
   "execution_count": null,
   "metadata": {},
   "outputs": [],
   "source": [
    "print(\"Dog\" == \"dog\") # False\n",
    "print(\"cat\" != \"dog\") # True\n",
    "print()\n",
    "\n",
    "my_name = \"Aidan Dionisio\"\n",
    "your_name = \"Makoto Shinkai\"\n",
    "print(\"Do we have the same name? \" + str(my_name == your_name))\n",
    "print()\n",
    "\n",
    "# This boolean code is for example purposes ONLY!\n",
    "# Don't EVER do this!!! Use the logical operators (and, or) instead.\n",
    "something_true = True\n",
    "something_false = False\n",
    "\n",
    "print(something_true == True) # True\n",
    "print(something_true == False) # False\n",
    "print(something_false != False) # False\n",
    "print(something_false != True) # True\n",
    "print(something_true == something_false) # False"
   ]
  },
  {
   "cell_type": "markdown",
   "metadata": {},
   "source": [
    "Did you notice that relational operators output a boolean, but can also have boolean inputs? Technically, this means that you can use order of operations to \"chain\" `==` or `!=` relational operators together. But ***don't do that!!!*** Use the boolean operators (`and` / `or`) to compare the individual relational expressions instead!\n",
    "\n",
    "> If you don't know what I'm talking about, then you didn't follow the instructions at the top to read the [notebook about booleans from Week 3](https://github.com/GamerNerd-i/CMSI-1010_Recitation-Examples/blob/main/Week%203/booleans.ipynb) and should probably go do that now."
   ]
  },
  {
   "cell_type": "markdown",
   "metadata": {},
   "source": [
    "## Conditional Statements\n",
    "Recall the flowchart above (or any flowchart you've seen like it). If relational operators are the text in a box, then conditional statements are the entire box and the arrows leading out from it that tell you what to do next. To reiterate the definition from earlier:\n",
    "\n",
    "> **Conditional statements** let us control what code does or doesn't run, depending on the current state of the program.\n",
    "\n",
    "Conditional statements use one of three keywords: `if`, `else`, and `elif`. An \"if/else block\" ALWAYS includes:\n",
    "\n",
    "* *Exactly* one `if` statement at the very beginning.\n",
    "* *At most* one `else` statement at the very end.\n",
    "* *Any number* of `elif` statements between them."
   ]
  },
  {
   "cell_type": "markdown",
   "metadata": {},
   "source": [
    "### `if` Statements\n",
    "An `if` statement always starts an if/else block. There is no control flow without the `if` statement.\n",
    "\n",
    "> An `if` statement accepts a boolean input. If the input is `True`, the code beneath it is run. If the input is `False`, the code beneath it is skipped.\n",
    "\n",
    "> The `if` statement lets you *add* extra lines of code to handle a specific case.\n",
    "\n",
    "For example, let's say that I'm writing a program that rolls dice for a tabletop game. If a player rolls more than 15, they get twice as many points! We can use an `if` statement to change the value of their score."
   ]
  },
  {
   "cell_type": "code",
   "execution_count": null,
   "metadata": {},
   "outputs": [],
   "source": [
    "score = 0\n",
    "\n",
    "points_from_roll = int(input(\"What number did you roll on your dice? \"))\n",
    "\n",
    "if points_from_roll > 15:\n",
    "    print(\"Wow, you rolled higher than 15! That means you get double points for this roll!\")\n",
    "    points_from_roll *= 2 # This is shorthand for: points_from_roll = points_from_roll * 2\n",
    "\n",
    "print(\"You gained a total of \" + str(points_from_roll) + \" points this turn!\")\n",
    "score += points_from_roll # This is shorthand for: score = score + points_from_roll"
   ]
  },
  {
   "cell_type": "markdown",
   "metadata": {},
   "source": [
    "### `else` Statements\n",
    "An `else` statement isn't mandatory in an if/else block; the `if` statement works entirely well on its own. However, if an `else` *does* appear in an if/else block, it's always at the end.\n",
    "\n",
    "> An `else` statement receives no boolean input. The code beneath it runs if all other previous conditional statements have failed.\n",
    "\n",
    "In an if/else block with just an `if` and an `else`, the `if` statement runs its code when receiving `True` as input, and the `else` statement runs its code when the `if` statement receives `False` as input.\n",
    "\n",
    "As previously stated, there is no if/else block without an `if` statement to start it.\n",
    "\n",
    "> An `else` statement *must* come after an `if` statement.\n",
    "\n",
    "> `if` and `else` combined allow us to make code that does one of two things, depending on the input.\n",
    "\n",
    "Let's go back to our tabletop game. Suppose we add another rule: when you roll 15 or less, the score you earn is actually your roll + 5."
   ]
  },
  {
   "cell_type": "code",
   "execution_count": null,
   "metadata": {},
   "outputs": [],
   "source": [
    "# Side note: Jupyter Notebooks like this one retain variables from previous cells you've run, so we don't need to re-initialize \"score\".\n",
    "\n",
    "points_from_roll = int(input(\"What number did you roll on your dice? \"))\n",
    "\n",
    "if points_from_roll > 15:\n",
    "    print(\"Wow, you rolled higher than 15! That means you get double points for this roll!\")\n",
    "    points_from_roll *= 2 # This is shorthand for: points_from_roll = points_from_roll * 2\n",
    "else:\n",
    "    print(\"Here are your 5 extra points for rolling 15 or less!\")\n",
    "    points_from_roll += 5\n",
    "\n",
    "print(\"You gained a total of \" + str(points_from_roll) + \" points this turn!\")\n",
    "score += points_from_roll # This is shorthand for: score = score + points_from_roll"
   ]
  },
  {
   "cell_type": "markdown",
   "metadata": {},
   "source": [
    "Notice that, as stated above, we could have used a second `if` statement to achieve this. That makes things too complicated, though, since if a number is NOT greater than 15, it *must* be less than or equal to 15. To use programming syntax: `(not x > 15) == x <= 15`."
   ]
  },
  {
   "cell_type": "markdown",
   "metadata": {},
   "source": [
    "### `elif` Statements\n",
    "As you probably know by now, most decisions cannot be simplified into two categories. That's what `elif` is for, short for else-if. It's just that: an `else` statement with an `if` condition.\n",
    "\n",
    "> An `elif` statement accepts a boolean input like an `if` statement, but comes after an actual `if` statement just like an `else` does.\n",
    "\n",
    "Like `else` statements, `elif` statements aren't mandatory to have an if/else block. Technically, you could have an `if` statement, multiple `elif` statements, and no `else` statement.\n",
    "\n",
    "> `elif` statements *must* come after an `if` statement but before the `else` statement.\n",
    "\n",
    "Unlike `if` and `else`, one block can have multiple `elif` statements. This is known as *chaining* conditionals.\n",
    "\n",
    "Let's add more rules to our tabletop game:\n",
    "* if a player rolls exactly 1 (the lowest number), their current score gets cut in half.\n",
    "* if a player rolls exactly 20 (the highest number), they get triple points from their roll.\n",
    "\n",
    "We will probably have to move some of our existing conditions around to make sure this works correctly!"
   ]
  },
  {
   "cell_type": "code",
   "execution_count": null,
   "metadata": {},
   "outputs": [],
   "source": [
    "points_from_roll = int(input(\"What number did you roll on your dice? \"))\n",
    "\n",
    "if points_from_roll == 20:\n",
    "    print(\"Wow, that's the highest roll! You get TRIPLE points for this one!\")\n",
    "    points_from_roll *= 3\n",
    "# Notice that we've moved our original \"if\" to an \"elif\".\n",
    "# Why would it be problematic to have this before our 20 check?\n",
    "elif points_from_roll > 15:\n",
    "    print(\"Wow, you rolled higher than 15! That means you get double points for this roll!\")\n",
    "    points_from_roll *= 2\n",
    "elif points_from_roll == 1:\n",
    "    print(\"Ooh, bad luck, that's the lowest roll! Your score is cut in half!\")\n",
    "    score /= 2\n",
    "    points_from_roll = 0\n",
    "else:\n",
    "    print(\"Here are your 5 extra points for rolling 15 or less!\")\n",
    "    points_from_roll += 5\n",
    "\n",
    "score += points_from_roll\n",
    "print(\"Your score is now \" + str(score) + \" after this turn!\")"
   ]
  },
  {
   "cell_type": "markdown",
   "metadata": {},
   "source": [
    "### Nesting Conditionals\n",
    "Sometimes your condition checks may have multiple layers, and you may need to put if/else blocks inside your if/else blocks.\n",
    "\n",
    "> Putting statements of the same type inside each other is called **nesting**.\n",
    "\n",
    "This takes its name from *matryoshka* dolls -- Russian *nesting* dolls that sit inside each other.\n",
    "\n",
    "[![Matryoshka/Russian nesting doll](https://upload.wikimedia.org/wikipedia/commons/3/37/Floral_matryoshka_set_2.JPG)](https://en.wikipedia.org/wiki/Matryoshka_doll)\n",
    "[![Insides of a nesting doll](https://upload.wikimedia.org/wikipedia/commons/4/41/Floral_matryoshka_set_2_smallest_doll_nested.JPG)](https://en.wikipedia.org/wiki/Matryoshka_doll)\n",
    "\n",
    "Here's a rewriting of the code from above, but using nesting instead of `elif` statements."
   ]
  },
  {
   "cell_type": "code",
   "execution_count": null,
   "metadata": {},
   "outputs": [],
   "source": [
    "score = 50\n",
    "print(\"You currently have \" + str(score) + \" points.\")\n",
    "\n",
    "points_from_roll = int(input(\"What number did you roll on your dice? \"))\n",
    "\n",
    "if points_from_roll > 15:\n",
    "    # Notice that we've technically moved the \"elif\" inside! We now have an if/else block inside an if-block.\n",
    "    \"\"\"With this format, we're checking for ESPECIALLY high/low rolls by moving these particular\n",
    "    checks inside their respective blocks.\"\"\"\n",
    "    \n",
    "    if points_from_roll == 20:\n",
    "        print(\"Wow, that's the highest roll! You get TRIPLE points for this one!\")\n",
    "        points_from_roll *= 3\n",
    "    else:\n",
    "        print(\"Wow, you rolled higher than 15! That means you get double points for this roll!\")\n",
    "        points_from_roll *= 2\n",
    "else: # Remember that this implicitly handles the case where points_from_roll <= 15.\n",
    "    if points_from_roll == 1:\n",
    "        print(\"Ooh, bad luck, that's the lowest roll! Your score is cut in half!\")\n",
    "        score /= 2\n",
    "        points_from_roll = 0\n",
    "    else:\n",
    "        print(\"Here are your 5 extra points for rolling 15 or less!\")\n",
    "        points_from_roll += 5\n",
    "\n",
    "score += points_from_roll\n",
    "print(\"Your score is now \" + str(score) + \" after this turn!\")"
   ]
  },
  {
   "cell_type": "markdown",
   "metadata": {},
   "source": [
    "Is this harder to read? It might be. Nesting isn't always a good idea. It takes some practice and guidance to get a feel for when it is and isn't. For example, look at this:"
   ]
  },
  {
   "cell_type": "code",
   "execution_count": null,
   "metadata": {},
   "outputs": [],
   "source": [
    "power = 9001\n",
    "joking = True\n",
    "\n",
    "if power > 9000:\n",
    "    if joking:\n",
    "        print(\"IT'S OVER NINE THOUSAAAAAAAAAND!!!\")\n",
    "else:\n",
    "    print(\"Haha only \" + str(power) + \" power? That's weak.\")"
   ]
  },
  {
   "cell_type": "markdown",
   "metadata": {},
   "source": [
    "If you read the [notebook about booleans from Week 3](https://github.com/GamerNerd-i/CMSI-1010_Recitation-Examples/blob/main/Week%203/booleans.ipynb), you probably noticed that this nested `if` statement can be simplified to a single `if` by using an `and` operator:"
   ]
  },
  {
   "cell_type": "code",
   "execution_count": null,
   "metadata": {},
   "outputs": [],
   "source": [
    "if power > 9000 and joking:\n",
    "        print(\"IT'S OVER NINE THOUSAAAAAAAAAND!!!\")\n",
    "else:\n",
    "    print(\"Haha only \" + str(power) + \" power? That's weak.\")"
   ]
  },
  {
   "cell_type": "markdown",
   "metadata": {},
   "source": [
    "Watch out for cases like these, and cases where chaining `elifs` would work exactly the same. You should generally try to avoid nesting conditionals to keep your code easy to read, but sometimes it's the only way to accomplish a specific set of checks."
   ]
  }
 ],
 "metadata": {
  "kernelspec": {
   "display_name": "env",
   "language": "python",
   "name": "python3"
  },
  "language_info": {
   "codemirror_mode": {
    "name": "ipython",
    "version": 3
   },
   "file_extension": ".py",
   "mimetype": "text/x-python",
   "name": "python",
   "nbconvert_exporter": "python",
   "pygments_lexer": "ipython3",
   "version": "3.12.0"
  }
 },
 "nbformat": 4,
 "nbformat_minor": 2
}
